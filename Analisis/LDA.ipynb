{
 "cells": [
  {
   "cell_type": "markdown",
   "id": "0641cf66-131a-4183-8d08-67566c097341",
   "metadata": {},
   "source": [
    "# LDA Latent Dirichlet Allocation(LDA)"
   ]
  },
  {
   "cell_type": "code",
   "execution_count": 71,
   "id": "0575335b-d807-42e5-a02a-d11c49ea3633",
   "metadata": {},
   "outputs": [],
   "source": [
    "# Topic modeling is a method for unsupervised classification of documents, similar to clustering on numeric data, which finds some natural groups \n",
    "# of items (topics) even when we’re not sure what we’re looking for. (https://towardsdatascience.com/latent-dirichlet-allocation-lda-9d1cd064ffa2)\n",
    "\n",
    "#TENGO QUE LEMATIZAR EL TEXTO, YA ESTA STEMMING"
   ]
  },
  {
   "cell_type": "code",
   "execution_count": 72,
   "id": "5be9429f-7729-439d-9e85-967e07e8a611",
   "metadata": {},
   "outputs": [],
   "source": [
    "import numpy as np \n",
    "import pandas as pd \n",
    "import matplotlib.pyplot as plt\n",
    "import seaborn as sns\n",
    "from sklearn.feature_extraction import text\n",
    "import nltk\n",
    "from nltk.corpus import stopwords\n",
    "from nltk.classify import SklearnClassifier\n",
    "\n",
    "import re\n",
    "from nltk.tokenize import wordpunct_tokenize\n",
    "\n",
    "from nltk.tokenize import RegexpTokenizer\n",
    "from nltk.stem.snowball import SnowballStemmer\n",
    "from nltk.stem.porter import PorterStemmer\n"
   ]
  },
  {
   "cell_type": "code",
   "execution_count": 73,
   "id": "512e262e-e60f-4135-bd39-efd7ba88c3f5",
   "metadata": {},
   "outputs": [],
   "source": [
    "# !pip install pyLDAvis"
   ]
  },
  {
   "cell_type": "code",
   "execution_count": 74,
   "id": "a14bfeca-6dfa-4ca4-a884-02f261aaf255",
   "metadata": {},
   "outputs": [],
   "source": [
    "# !pip install gensim"
   ]
  },
  {
   "cell_type": "code",
   "execution_count": 75,
   "id": "ad4d3465-b4a2-42b5-a073-580b482f8fc1",
   "metadata": {},
   "outputs": [],
   "source": [
    "import gensim\n",
    "from gensim import corpora\n",
    "from gensim.models import CoherenceModel# Coherence score and perplexity provide a convinent way to measure how good a given topic model is\n",
    "import pyLDAvis.gensim_models"
   ]
  },
  {
   "cell_type": "code",
   "execution_count": 76,
   "id": "945c0862-c59b-4a1f-a831-d5f0a2550e6f",
   "metadata": {},
   "outputs": [],
   "source": [
    "# nltk.download('stopwords')\n",
    "# nltk.download('punkt')"
   ]
  },
  {
   "cell_type": "code",
   "execution_count": 77,
   "id": "cd96fe7e-7ec4-4642-8d09-cae825483288",
   "metadata": {},
   "outputs": [],
   "source": [
    "base = pd.read_csv('C:/Users/farav/OneDrive/Documentos/Python Scripts/base_tit_senti_fecha.csv', encoding='iso8859_2')"
   ]
  },
  {
   "cell_type": "code",
   "execution_count": 78,
   "id": "ac9c037a-da73-4eba-9ed1-c6031bb7ae32",
   "metadata": {},
   "outputs": [],
   "source": [
    "base_elobse = base[base['diario'] == 'elobse']"
   ]
  },
  {
   "cell_type": "code",
   "execution_count": 79,
   "id": "23533044-1592-47e6-ab4e-2f02be4d3988",
   "metadata": {},
   "outputs": [],
   "source": [
    "base_elobse_fecha = base_elobse[base_elobse['fecha'] == '2021-07-23']"
   ]
  },
  {
   "cell_type": "code",
   "execution_count": 80,
   "id": "d073059e-febd-4d7f-a492-5009bead4705",
   "metadata": {},
   "outputs": [
    {
     "data": {
      "text/plain": [
       "615"
      ]
     },
     "execution_count": 80,
     "metadata": {},
     "output_type": "execute_result"
    }
   ],
   "source": [
    "stop_words = list(stopwords.words('spanish'))\n",
    "espanol = pd.read_csv('spanish.txt', header=None)\n",
    "espanol.columns = ['palabra']\n",
    "list_espanol = list(espanol['palabra'])\n",
    "stop_words.extend(list_espanol)\n",
    "\n",
    "unique_stop_words = []\n",
    "[unique_stop_words.append(word) for word in stop_words if word not in unique_stop_words]\n",
    "len(unique_stop_words)"
   ]
  },
  {
   "cell_type": "code",
   "execution_count": 81,
   "id": "4a212941-b9af-47e1-91b6-c27210cef28e",
   "metadata": {},
   "outputs": [
    {
     "name": "stderr",
     "output_type": "stream",
     "text": [
      "<>:4: DeprecationWarning: invalid escape sequence '\\d'\n",
      "<>:4: DeprecationWarning: invalid escape sequence '\\d'\n",
      "C:\\Users\\farav\\AppData\\Local\\Temp\\ipykernel_11928\\2669027614.py:4: DeprecationWarning: invalid escape sequence '\\d'\n",
      "  nuevo_texto = re.sub(\"\\d+\", ' ', nuevo_texto)\n"
     ]
    }
   ],
   "source": [
    "def limpiar_tokenizar(texto):\n",
    "    porter_stemmer = PorterStemmer()\n",
    "    nuevo_texto = texto.lower()\n",
    "    nuevo_texto = re.sub(\"\\d+\", ' ', nuevo_texto)\n",
    "    nuevo_texto = wordpunct_tokenize(nuevo_texto)# esto toma espacios, símbolos, comas, etc. y los tokeniza junto con las palabras\n",
    "    nuevo_texto = [token for token in nuevo_texto if len(token) > 3]\n",
    "    nuevo_texto = [token for token in nuevo_texto if token not in unique_stop_words]\n",
    "    stemmers = [porter_stemmer.stem(word) for word in nuevo_texto]\n",
    "    nuevo_texto = [stem for stem in stemmers if stem.isalpha() and len(stem) > 1]\n",
    "    \n",
    "    return(nuevo_texto)"
   ]
  },
  {
   "cell_type": "code",
   "execution_count": 82,
   "id": "da86ebb3-5216-4857-8276-d25c37c76e84",
   "metadata": {},
   "outputs": [
    {
     "name": "stderr",
     "output_type": "stream",
     "text": [
      "C:\\Users\\farav\\AppData\\Local\\Temp\\ipykernel_11928\\3183837091.py:1: SettingWithCopyWarning: \n",
      "A value is trying to be set on a copy of a slice from a DataFrame.\n",
      "Try using .loc[row_indexer,col_indexer] = value instead\n",
      "\n",
      "See the caveats in the documentation: https://pandas.pydata.org/pandas-docs/stable/user_guide/indexing.html#returning-a-view-versus-a-copy\n",
      "  base_elobse_fecha['tit_tokenizado'] = base_elobse_fecha['titular'].apply(lambda x: limpiar_tokenizar(x))\n"
     ]
    }
   ],
   "source": [
    "base_elobse_fecha['tit_tokenizado'] = base_elobse_fecha['titular'].apply(lambda x: limpiar_tokenizar(x))\n",
    "tokenizado = list(base_elobse_fecha['tit_tokenizado'])"
   ]
  },
  {
   "cell_type": "code",
   "execution_count": 83,
   "id": "0e69b014-0927-4817-a682-979133bb592f",
   "metadata": {},
   "outputs": [],
   "source": [
    "dictionary = corpora.Dictionary(tokenizado)\n",
    "dictionary.filter_extremes(no_below=3)# tenía esto y lo saqué: , keep_n=300"
   ]
  },
  {
   "cell_type": "code",
   "execution_count": 84,
   "id": "f017cc0c-3292-4748-ac6c-52826efcf3d3",
   "metadata": {},
   "outputs": [
    {
     "name": "stdout",
     "output_type": "stream",
     "text": [
      "Dictionary<12 unique tokens: ['inauguración', 'juego', 'olímpico', 'tokio', 'cancha']...>\n"
     ]
    }
   ],
   "source": [
    "print(dictionary)"
   ]
  },
  {
   "cell_type": "code",
   "execution_count": 85,
   "id": "50f5c02b-fc5d-4cd1-be94-f07fc9788171",
   "metadata": {},
   "outputs": [],
   "source": [
    "corpus = [dictionary.doc2bow(text) for text in tokenizado]"
   ]
  },
  {
   "cell_type": "code",
   "execution_count": null,
   "id": "b84f7299-95f1-4081-a654-4421e538b5e3",
   "metadata": {},
   "outputs": [],
   "source": []
  },
  {
   "cell_type": "code",
   "execution_count": 86,
   "id": "9de1f3e4-8495-4b43-b227-7aa9af27476a",
   "metadata": {},
   "outputs": [
    {
     "data": {
      "text/plain": [
       "[(0, 1), (1, 1), (2, 1), (3, 1)]"
      ]
     },
     "execution_count": 86,
     "metadata": {},
     "output_type": "execute_result"
    }
   ],
   "source": [
    "corpus[0][:10]"
   ]
  },
  {
   "cell_type": "code",
   "execution_count": 178,
   "id": "4b106621-1ba8-42c5-b526-2cf5e4f4a1e2",
   "metadata": {},
   "outputs": [],
   "source": [
    "# Esto es para seleccionar la cantidad de tópicos, no cambian los valores\n",
    "\n",
    "results = []\n",
    "\n",
    "for t in range(2, 10):\n",
    "    lda_model = gensim.models.ldamodel.LdaModel(corpus, id2word=dictionary, num_topics=t, passes=10)\n",
    "    #lda_model = models.LdaModel(corpus_4, id2word=dictionary_4, num_topics=t, passes=10)\n",
    "    corpus_lda = lda_model[corpus]\n",
    "\n",
    "    cm = CoherenceModel(model=lda_model, corpus=corpus_lda, texts=tokenizado, coherence='c_v')\n",
    "    score = cm.get_coherence()\n",
    "    tup = t, score\n",
    "    results.append(tup)\n",
    "\n",
    "results = pd.DataFrame(results, columns=['topic', 'score'])"
   ]
  },
  {
   "cell_type": "code",
   "execution_count": 179,
   "id": "54394c8a-d978-4449-a71f-0d3c67652a1b",
   "metadata": {},
   "outputs": [
    {
     "data": {
      "text/html": [
       "<div>\n",
       "<style scoped>\n",
       "    .dataframe tbody tr th:only-of-type {\n",
       "        vertical-align: middle;\n",
       "    }\n",
       "\n",
       "    .dataframe tbody tr th {\n",
       "        vertical-align: top;\n",
       "    }\n",
       "\n",
       "    .dataframe thead th {\n",
       "        text-align: right;\n",
       "    }\n",
       "</style>\n",
       "<table border=\"1\" class=\"dataframe\">\n",
       "  <thead>\n",
       "    <tr style=\"text-align: right;\">\n",
       "      <th></th>\n",
       "      <th>topic</th>\n",
       "      <th>score</th>\n",
       "    </tr>\n",
       "  </thead>\n",
       "  <tbody>\n",
       "    <tr>\n",
       "      <th>0</th>\n",
       "      <td>2</td>\n",
       "      <td>0.502815</td>\n",
       "    </tr>\n",
       "    <tr>\n",
       "      <th>1</th>\n",
       "      <td>3</td>\n",
       "      <td>0.502815</td>\n",
       "    </tr>\n",
       "    <tr>\n",
       "      <th>2</th>\n",
       "      <td>4</td>\n",
       "      <td>0.502815</td>\n",
       "    </tr>\n",
       "    <tr>\n",
       "      <th>3</th>\n",
       "      <td>5</td>\n",
       "      <td>0.502815</td>\n",
       "    </tr>\n",
       "    <tr>\n",
       "      <th>4</th>\n",
       "      <td>6</td>\n",
       "      <td>0.502815</td>\n",
       "    </tr>\n",
       "    <tr>\n",
       "      <th>5</th>\n",
       "      <td>7</td>\n",
       "      <td>0.502815</td>\n",
       "    </tr>\n",
       "    <tr>\n",
       "      <th>6</th>\n",
       "      <td>8</td>\n",
       "      <td>0.502815</td>\n",
       "    </tr>\n",
       "    <tr>\n",
       "      <th>7</th>\n",
       "      <td>9</td>\n",
       "      <td>0.502815</td>\n",
       "    </tr>\n",
       "  </tbody>\n",
       "</table>\n",
       "</div>"
      ],
      "text/plain": [
       "   topic     score\n",
       "0      2  0.502815\n",
       "1      3  0.502815\n",
       "2      4  0.502815\n",
       "3      5  0.502815\n",
       "4      6  0.502815\n",
       "5      7  0.502815\n",
       "6      8  0.502815\n",
       "7      9  0.502815"
      ]
     },
     "execution_count": 179,
     "metadata": {},
     "output_type": "execute_result"
    }
   ],
   "source": [
    "results"
   ]
  },
  {
   "cell_type": "code",
   "execution_count": 87,
   "id": "2fae11fb-a75c-4c9d-99ec-316d3c39ad5a",
   "metadata": {},
   "outputs": [
    {
     "name": "stdout",
     "output_type": "stream",
     "text": [
      "(0, '0.262*\"juego\" + 0.262*\"olímpico\" + 0.190*\"tokio\" + 0.117*\"clásico\" + 0.116*\"inauguración\"')\n",
      "(1, '0.445*\"montevideo\" + 0.339*\"vacuna\" + 0.022*\"olímpico\" + 0.022*\"juego\" + 0.022*\"inauguración\"')\n",
      "(2, '0.377*\"cancha\" + 0.377*\"peńarol\" + 0.029*\"pfizer\" + 0.027*\"clásico\" + 0.024*\"montevideo\"')\n",
      "(3, '0.675*\"uruguay\" + 0.042*\"pfizer\" + 0.041*\"dosi\" + 0.028*\"tokio\" + 0.028*\"juego\"')\n",
      "(4, '0.376*\"dosi\" + 0.369*\"pfizer\" + 0.028*\"juego\" + 0.028*\"olímpico\" + 0.027*\"inauguración\"')\n"
     ]
    }
   ],
   "source": [
    "# Define the LDA model\n",
    "ldamodel = gensim.models.ldamodel.LdaModel(corpus, num_topics=5, id2word=dictionary, passes=10)# revisar los argumentos\n",
    "\n",
    "# Save the topics and top 5 words\n",
    "topics = ldamodel.print_topics(num_words=5)\n",
    "\n",
    "# Print the results\n",
    "for topic in topics:\n",
    "    print(topic)"
   ]
  },
  {
   "cell_type": "code",
   "execution_count": 88,
   "id": "e967ac61-745b-4ed6-a6d2-d13062322789",
   "metadata": {},
   "outputs": [
    {
     "name": "stderr",
     "output_type": "stream",
     "text": [
      "C:\\Users\\farav\\AppData\\Local\\Programs\\Python\\Python310\\lib\\site-packages\\pyLDAvis\\_prepare.py:247: FutureWarning: In a future version of pandas all arguments of DataFrame.drop except for the argument 'labels' will be keyword-only.\n",
      "  by='saliency', ascending=False).head(R).drop('saliency', 1)\n"
     ]
    }
   ],
   "source": [
    "lda_display_elobse = pyLDAvis.gensim_models.prepare(ldamodel, corpus, dictionary, sort_topics=False)"
   ]
  },
  {
   "cell_type": "code",
   "execution_count": 89,
   "id": "770224e5-cac6-401c-af34-2a938c8d352f",
   "metadata": {},
   "outputs": [
    {
     "data": {
      "text/html": [
       "\n",
       "<link rel=\"stylesheet\" type=\"text/css\" href=\"https://cdn.jsdelivr.net/gh/bmabey/pyLDAvis@3.3.1/pyLDAvis/js/ldavis.v1.0.0.css\">\n",
       "\n",
       "\n",
       "<div id=\"ldavis_el1192824309661708961936990117\"></div>\n",
       "<script type=\"text/javascript\">\n",
       "\n",
       "var ldavis_el1192824309661708961936990117_data = {\"mdsDat\": {\"x\": [0.2814532681225634, -0.11857725664496975, -0.07159076674769854, -0.040661444080920484, -0.05062380064897466], \"y\": [0.04681864495757134, 0.22499344233372082, -0.043880803711610086, -0.1182816248455064, -0.10964965873417565], \"topics\": [1, 2, 3, 4, 5], \"cluster\": [1, 1, 1, 1, 1], \"Freq\": [44.57408461408463, 13.73490055960267, 14.454051291381242, 12.839692905263187, 14.397270629668272]}, \"tinfo\": {\"Term\": [\"uruguay\", \"montevideo\", \"cancha\", \"pe\\u0144arol\", \"dosi\", \"pfizer\", \"vacuna\", \"juego\", \"ol\\u00edmpico\", \"tokio\", \"cl\\u00e1sico\", \"inauguraci\\u00f3n\", \"juego\", \"ol\\u00edmpico\", \"tokio\", \"cl\\u00e1sico\", \"inauguraci\\u00f3n\", \"vacuna\", \"pe\\u0144arol\", \"cancha\", \"pfizer\", \"dosi\", \"montevideo\", \"uruguay\", \"montevideo\", \"vacuna\", \"inauguraci\\u00f3n\", \"cancha\", \"cl\\u00e1sico\", \"pe\\u0144arol\", \"pfizer\", \"dosi\", \"tokio\", \"uruguay\", \"ol\\u00edmpico\", \"juego\", \"cancha\", \"pe\\u0144arol\", \"pfizer\", \"cl\\u00e1sico\", \"vacuna\", \"inauguraci\\u00f3n\", \"dosi\", \"montevideo\", \"tokio\", \"uruguay\", \"ol\\u00edmpico\", \"juego\", \"uruguay\", \"pfizer\", \"dosi\", \"vacuna\", \"pe\\u0144arol\", \"cl\\u00e1sico\", \"inauguraci\\u00f3n\", \"cancha\", \"montevideo\", \"tokio\", \"juego\", \"ol\\u00edmpico\", \"dosi\", \"pfizer\", \"inauguraci\\u00f3n\", \"vacuna\", \"cl\\u00e1sico\", \"cancha\", \"pe\\u0144arol\", \"montevideo\", \"tokio\", \"uruguay\", \"juego\", \"ol\\u00edmpico\"], \"Freq\": [4.0, 3.0, 3.0, 3.0, 3.0, 3.0, 2.0, 6.0, 6.0, 4.0, 3.0, 3.0, 5.731697810691662, 5.731681537653934, 4.142332021625232, 2.5473035408900584, 2.542373786840604, 0.16060672551956684, 0.1710977698714193, 0.17104292973427446, 0.16051136551847817, 0.16050645309521389, 0.16061001063905825, 0.1615379704448741, 2.992372624771712, 2.27986095611488, 0.1489519804056943, 0.1487655606648166, 0.1426979622639629, 0.14260717806899037, 0.1426155018338981, 0.14261452404223726, 0.1489397580099337, 0.14269742322497037, 0.14901669015637756, 0.14896105631803344, 2.6720187638368813, 2.6719672616574757, 0.2039460052089199, 0.18804072328599575, 0.16835325006293747, 0.16824478415128868, 0.168286972668128, 0.1684067838344615, 0.168262844213688, 0.1683866394113178, 0.16829763193066902, 0.16827345070760258, 4.248573137175979, 0.26636759365685847, 0.25800116474827395, 0.16372480843487128, 0.1707007387713471, 0.16372606233983367, 0.16360075387476186, 0.1636521874156952, 0.16377771853678835, 0.17799060237919745, 0.17568891333653258, 0.17564584697450708, 2.650028851207946, 2.6047916250402796, 0.1901569274029953, 0.1720517427989623, 0.17205133544863557, 0.1719804564917851, 0.1719924798965901, 0.1721142645039483, 0.1796447528891506, 0.1739071841162037, 0.19798578019202534, 0.19795700286249204], \"Total\": [4.0, 3.0, 3.0, 3.0, 3.0, 3.0, 2.0, 6.0, 6.0, 4.0, 3.0, 3.0, 6.422607011245857, 6.422598709577979, 4.817169979117201, 3.213819624228486, 3.2133282326753445, 2.9445974829312176, 3.3283654282658226, 3.327459898143453, 3.3782320912584343, 3.3794379657617992, 3.6572814022859683, 4.895102354373345, 3.6572814022859683, 2.9445974829312176, 3.2133282326753445, 3.327459898143453, 3.213819624228486, 3.3283654282658226, 3.3782320912584343, 3.3794379657617992, 4.817169979117201, 4.895102354373345, 6.422598709577979, 6.422607011245857, 3.327459898143453, 3.3283654282658226, 3.3782320912584343, 3.213819624228486, 2.9445974829312176, 3.2133282326753445, 3.3794379657617992, 3.6572814022859683, 4.817169979117201, 4.895102354373345, 6.422598709577979, 6.422607011245857, 4.895102354373345, 3.3782320912584343, 3.3794379657617992, 2.9445974829312176, 3.3283654282658226, 3.213819624228486, 3.2133282326753445, 3.327459898143453, 3.6572814022859683, 4.817169979117201, 6.422607011245857, 6.422598709577979, 3.3794379657617992, 3.3782320912584343, 3.2133282326753445, 2.9445974829312176, 3.213819624228486, 3.327459898143453, 3.3283654282658226, 3.6572814022859683, 4.817169979117201, 4.895102354373345, 6.422607011245857, 6.422598709577979], \"Category\": [\"Default\", \"Default\", \"Default\", \"Default\", \"Default\", \"Default\", \"Default\", \"Default\", \"Default\", \"Default\", \"Default\", \"Default\", \"Topic1\", \"Topic1\", \"Topic1\", \"Topic1\", \"Topic1\", \"Topic1\", \"Topic1\", \"Topic1\", \"Topic1\", \"Topic1\", \"Topic1\", \"Topic1\", \"Topic2\", \"Topic2\", \"Topic2\", \"Topic2\", \"Topic2\", \"Topic2\", \"Topic2\", \"Topic2\", \"Topic2\", \"Topic2\", \"Topic2\", \"Topic2\", \"Topic3\", \"Topic3\", \"Topic3\", \"Topic3\", \"Topic3\", \"Topic3\", \"Topic3\", \"Topic3\", \"Topic3\", \"Topic3\", \"Topic3\", \"Topic3\", \"Topic4\", \"Topic4\", \"Topic4\", \"Topic4\", \"Topic4\", \"Topic4\", \"Topic4\", \"Topic4\", \"Topic4\", \"Topic4\", \"Topic4\", \"Topic4\", \"Topic5\", \"Topic5\", \"Topic5\", \"Topic5\", \"Topic5\", \"Topic5\", \"Topic5\", \"Topic5\", \"Topic5\", \"Topic5\", \"Topic5\", \"Topic5\"], \"logprob\": [12.0, 11.0, 10.0, 9.0, 8.0, 7.0, 6.0, 5.0, 4.0, 3.0, 2.0, 1.0, -1.3378, -1.3378, -1.6625, -2.1488, -2.1507, -4.9126, -4.8493, -4.8496, -4.9132, -4.9132, -4.9126, -4.9068, -0.8105, -1.0825, -3.8107, -3.812, -3.8536, -3.8543, -3.8542, -3.8542, -3.8108, -3.8536, -3.8103, -3.8107, -0.9748, -0.9748, -3.5475, -3.6287, -3.7393, -3.74, -3.7397, -3.739, -3.7399, -3.7391, -3.7396, -3.7398, -0.3926, -3.1621, -3.194, -3.6488, -3.607, -3.6488, -3.6495, -3.6492, -3.6484, -3.5652, -3.5782, -3.5785, -0.9791, -0.9963, -3.6136, -3.7136, -3.7137, -3.7141, -3.714, -3.7133, -3.6705, -3.7029, -3.5732, -3.5734], \"loglift\": [12.0, 11.0, 10.0, 9.0, 8.0, 7.0, 6.0, 5.0, 4.0, 3.0, 2.0, 1.0, 0.6942, 0.6942, 0.6571, 0.5756, 0.5738, -2.1008, -2.16, -2.16, -2.2387, -2.2391, -2.3175, -2.6032, 1.7846, 1.7294, -1.0862, -1.1224, -1.1293, -1.1649, -1.1797, -1.1801, -1.4912, -1.55, -1.7783, -1.7787, 1.7148, 1.7145, -0.8731, -0.9044, -0.9275, -1.0154, -1.0656, -1.1439, -1.4202, -1.4355, -1.7076, -1.7078, 1.911, -0.4876, -0.5199, -0.8369, -0.9177, -0.9244, -0.925, -0.9596, -1.0533, -1.2456, -1.5462, -1.5465, 1.695, 1.6781, -0.8891, -0.9018, -0.9893, -1.0245, -1.0247, -1.1182, -1.3508, -1.3993, -1.5413, -1.5414]}, \"token.table\": {\"Topic\": [3, 1, 5, 1, 1, 2, 1, 3, 5, 1, 4, 2], \"Freq\": [0.9015886267100744, 0.9334686917036248, 0.8877215768994695, 0.9336114404665931, 0.9342000825356619, 0.8202814249198497, 0.934201290056039, 0.9013433364385981, 0.8880384529419534, 0.8303630590866223, 0.8171432812689504, 0.6792099808524892], \"Term\": [\"cancha\", \"cl\\u00e1sico\", \"dosi\", \"inauguraci\\u00f3n\", \"juego\", \"montevideo\", \"ol\\u00edmpico\", \"pe\\u0144arol\", \"pfizer\", \"tokio\", \"uruguay\", \"vacuna\"]}, \"R\": 12, \"lambda.step\": 0.01, \"plot.opts\": {\"xlab\": \"PC1\", \"ylab\": \"PC2\"}, \"topic.order\": [1, 2, 3, 4, 5]};\n",
       "\n",
       "function LDAvis_load_lib(url, callback){\n",
       "  var s = document.createElement('script');\n",
       "  s.src = url;\n",
       "  s.async = true;\n",
       "  s.onreadystatechange = s.onload = callback;\n",
       "  s.onerror = function(){console.warn(\"failed to load library \" + url);};\n",
       "  document.getElementsByTagName(\"head\")[0].appendChild(s);\n",
       "}\n",
       "\n",
       "if(typeof(LDAvis) !== \"undefined\"){\n",
       "   // already loaded: just create the visualization\n",
       "   !function(LDAvis){\n",
       "       new LDAvis(\"#\" + \"ldavis_el1192824309661708961936990117\", ldavis_el1192824309661708961936990117_data);\n",
       "   }(LDAvis);\n",
       "}else if(typeof define === \"function\" && define.amd){\n",
       "   // require.js is available: use it to load d3/LDAvis\n",
       "   require.config({paths: {d3: \"https://d3js.org/d3.v5\"}});\n",
       "   require([\"d3\"], function(d3){\n",
       "      window.d3 = d3;\n",
       "      LDAvis_load_lib(\"https://cdn.jsdelivr.net/gh/bmabey/pyLDAvis@3.3.1/pyLDAvis/js/ldavis.v3.0.0.js\", function(){\n",
       "        new LDAvis(\"#\" + \"ldavis_el1192824309661708961936990117\", ldavis_el1192824309661708961936990117_data);\n",
       "      });\n",
       "    });\n",
       "}else{\n",
       "    // require.js not available: dynamically load d3 & LDAvis\n",
       "    LDAvis_load_lib(\"https://d3js.org/d3.v5.js\", function(){\n",
       "         LDAvis_load_lib(\"https://cdn.jsdelivr.net/gh/bmabey/pyLDAvis@3.3.1/pyLDAvis/js/ldavis.v3.0.0.js\", function(){\n",
       "                 new LDAvis(\"#\" + \"ldavis_el1192824309661708961936990117\", ldavis_el1192824309661708961936990117_data);\n",
       "            })\n",
       "         });\n",
       "}\n",
       "</script>"
      ],
      "text/plain": [
       "<IPython.core.display.HTML object>"
      ]
     },
     "execution_count": 89,
     "metadata": {},
     "output_type": "execute_result"
    }
   ],
   "source": [
    "pyLDAvis.display(lda_display_elobse)"
   ]
  },
  {
   "cell_type": "code",
   "execution_count": 90,
   "id": "d9e8ef5e-f070-4dd5-b424-853ac2510128",
   "metadata": {},
   "outputs": [],
   "source": [
    "# Coherence score and perplexity provide a convinent way to measure how good a given topic model is.\n",
    "\n",
    "# Lower the perplexity better the model.\n",
    "# Higher the topic coherence, the topic is more human interpretable."
   ]
  },
  {
   "cell_type": "code",
   "execution_count": 91,
   "id": "353c630e-2473-456b-8a2f-259f8a466541",
   "metadata": {},
   "outputs": [
    {
     "name": "stdout",
     "output_type": "stream",
     "text": [
      "\n",
      "Perplexity:  -3.0238594828113827\n",
      "\n",
      "Coherence Score:  0.5028153977517918\n"
     ]
    }
   ],
   "source": [
    "# Compute Perplexity\n",
    "print('\\nPerplexity: ', ldamodel.log_perplexity(corpus))  \n",
    "# a measure of how good the model is. lower the better.\n",
    "\n",
    "# Compute Coherence Score\n",
    "coherence_model_lda = CoherenceModel(model=ldamodel, texts=tokenizado, dictionary=dictionary, coherence='c_v')\n",
    "coherence_lda = coherence_model_lda.get_coherence()\n",
    "print('\\nCoherence Score: ', coherence_lda)"
   ]
  },
  {
   "cell_type": "code",
   "execution_count": 92,
   "id": "b2497527-6a3a-4a60-8fad-0486ce82af0b",
   "metadata": {},
   "outputs": [],
   "source": [
    "base_ladiar = base[base['diario'] == 'ladiar']\n",
    "base_ladiar_fecha = base_ladiar[base_ladiar['fecha'] == '2021-07-23']"
   ]
  },
  {
   "cell_type": "code",
   "execution_count": 93,
   "id": "c084dba4-f359-4c5a-986e-ec072a2e6051",
   "metadata": {},
   "outputs": [
    {
     "name": "stderr",
     "output_type": "stream",
     "text": [
      "C:\\Users\\farav\\AppData\\Local\\Temp\\ipykernel_11928\\3857919374.py:1: SettingWithCopyWarning: \n",
      "A value is trying to be set on a copy of a slice from a DataFrame.\n",
      "Try using .loc[row_indexer,col_indexer] = value instead\n",
      "\n",
      "See the caveats in the documentation: https://pandas.pydata.org/pandas-docs/stable/user_guide/indexing.html#returning-a-view-versus-a-copy\n",
      "  base_ladiar_fecha['tit_tokenizado_1'] = base_ladiar_fecha['titular'].apply(lambda x: limpiar_tokenizar(x))\n"
     ]
    }
   ],
   "source": [
    "base_ladiar_fecha['tit_tokenizado_1'] = base_ladiar_fecha['titular'].apply(lambda x: limpiar_tokenizar(x))\n",
    "tokenizado_1 = list(base_ladiar_fecha['tit_tokenizado_1'])\n"
   ]
  },
  {
   "cell_type": "code",
   "execution_count": 94,
   "id": "4948e500-9ca4-4674-a825-69f1a26676b3",
   "metadata": {},
   "outputs": [],
   "source": [
    "dictionary_1 = corpora.Dictionary(tokenizado_1)\n",
    "dictionary_1.filter_extremes(no_below=3)# , keep_n=300"
   ]
  },
  {
   "cell_type": "code",
   "execution_count": 95,
   "id": "d87fb760-6822-4d51-b897-b4db585d86ec",
   "metadata": {},
   "outputs": [
    {
     "name": "stdout",
     "output_type": "stream",
     "text": [
      "Dictionary<20 unique tokens: ['canelon', 'juego', 'olímpico', 'tokio', 'estafa']...>\n"
     ]
    }
   ],
   "source": [
    "print(dictionary_1)"
   ]
  },
  {
   "cell_type": "code",
   "execution_count": 96,
   "id": "587c850f-60c9-4bdd-9e69-af0598c87336",
   "metadata": {},
   "outputs": [],
   "source": [
    "corpus_1 = [dictionary_1.doc2bow(text) for text in tokenizado_1]"
   ]
  },
  {
   "cell_type": "code",
   "execution_count": 176,
   "id": "fab0c72c-aae3-4e86-a27c-219cafd215b2",
   "metadata": {},
   "outputs": [],
   "source": [
    "# Esto es para seleccionar la cantidad de tópicos, no cambian los valores\n",
    "\n",
    "results = []\n",
    "\n",
    "for t in range(2, 10):\n",
    "    lda_model = gensim.models.ldamodel.LdaModel(corpus_1, id2word=dictionary_1, num_topics=t, passes=10)\n",
    "    #lda_model = models.LdaModel(corpus_4, id2word=dictionary_4, num_topics=t, passes=10)\n",
    "    corpus_lda = lda_model[corpus_1]\n",
    "\n",
    "    cm = CoherenceModel(model=lda_model, corpus=corpus_lda, texts=tokenizado_1, coherence='c_v')\n",
    "    score = cm.get_coherence()\n",
    "    tup = t, score\n",
    "    results.append(tup)\n",
    "\n",
    "results = pd.DataFrame(results, columns=['topic', 'score'])"
   ]
  },
  {
   "cell_type": "code",
   "execution_count": 177,
   "id": "e7901b94-2dfa-4c21-bacb-92d9a759939f",
   "metadata": {},
   "outputs": [
    {
     "data": {
      "text/html": [
       "<div>\n",
       "<style scoped>\n",
       "    .dataframe tbody tr th:only-of-type {\n",
       "        vertical-align: middle;\n",
       "    }\n",
       "\n",
       "    .dataframe tbody tr th {\n",
       "        vertical-align: top;\n",
       "    }\n",
       "\n",
       "    .dataframe thead th {\n",
       "        text-align: right;\n",
       "    }\n",
       "</style>\n",
       "<table border=\"1\" class=\"dataframe\">\n",
       "  <thead>\n",
       "    <tr style=\"text-align: right;\">\n",
       "      <th></th>\n",
       "      <th>topic</th>\n",
       "      <th>score</th>\n",
       "    </tr>\n",
       "  </thead>\n",
       "  <tbody>\n",
       "    <tr>\n",
       "      <th>0</th>\n",
       "      <td>2</td>\n",
       "      <td>0.712454</td>\n",
       "    </tr>\n",
       "    <tr>\n",
       "      <th>1</th>\n",
       "      <td>3</td>\n",
       "      <td>0.712454</td>\n",
       "    </tr>\n",
       "    <tr>\n",
       "      <th>2</th>\n",
       "      <td>4</td>\n",
       "      <td>0.712454</td>\n",
       "    </tr>\n",
       "    <tr>\n",
       "      <th>3</th>\n",
       "      <td>5</td>\n",
       "      <td>0.712454</td>\n",
       "    </tr>\n",
       "    <tr>\n",
       "      <th>4</th>\n",
       "      <td>6</td>\n",
       "      <td>0.712454</td>\n",
       "    </tr>\n",
       "    <tr>\n",
       "      <th>5</th>\n",
       "      <td>7</td>\n",
       "      <td>0.712454</td>\n",
       "    </tr>\n",
       "    <tr>\n",
       "      <th>6</th>\n",
       "      <td>8</td>\n",
       "      <td>0.712454</td>\n",
       "    </tr>\n",
       "    <tr>\n",
       "      <th>7</th>\n",
       "      <td>9</td>\n",
       "      <td>0.712454</td>\n",
       "    </tr>\n",
       "  </tbody>\n",
       "</table>\n",
       "</div>"
      ],
      "text/plain": [
       "   topic     score\n",
       "0      2  0.712454\n",
       "1      3  0.712454\n",
       "2      4  0.712454\n",
       "3      5  0.712454\n",
       "4      6  0.712454\n",
       "5      7  0.712454\n",
       "6      8  0.712454\n",
       "7      9  0.712454"
      ]
     },
     "execution_count": 177,
     "metadata": {},
     "output_type": "execute_result"
    }
   ],
   "source": [
    "results"
   ]
  },
  {
   "cell_type": "code",
   "execution_count": 97,
   "id": "5ce9d099-6a16-4818-852b-84cd751cf3d7",
   "metadata": {},
   "outputs": [
    {
     "name": "stdout",
     "output_type": "stream",
     "text": [
      "(0, '0.355*\"pandemia\" + 0.211*\"tiempo\" + 0.161*\"apunt\" + 0.111*\"mujer\" + 0.010*\"coronaviru\"')\n",
      "(1, '0.198*\"juego\" + 0.166*\"olímpico\" + 0.134*\"tokio\" + 0.134*\"coronaviru\" + 0.102*\"política\"')\n",
      "(2, '0.281*\"uruguay\" + 0.210*\"gigant\" + 0.169*\"número\" + 0.089*\"cabildo\" + 0.089*\"abierto\"')\n",
      "(3, '0.227*\"falta\" + 0.226*\"gobierno\" + 0.157*\"uruguayo\" + 0.085*\"abierto\" + 0.085*\"cabildo\"')\n",
      "(4, '0.319*\"estafa\" + 0.318*\"canelon\" + 0.021*\"juego\" + 0.021*\"olímpico\" + 0.020*\"apunt\"')\n"
     ]
    }
   ],
   "source": [
    "# Define the LDA model\n",
    "ldamodel_1 = gensim.models.ldamodel.LdaModel(corpus_1, num_topics=5, id2word=dictionary_1, passes=10)\n",
    "\n",
    "# Save the topics and top 5 words\n",
    "topics = ldamodel_1.print_topics(num_words=5)\n",
    "\n",
    "# Print the results\n",
    "for topic in topics:\n",
    "    print(topic)"
   ]
  },
  {
   "cell_type": "code",
   "execution_count": null,
   "id": "85a171c8-230e-47fe-b788-76cb124fde77",
   "metadata": {},
   "outputs": [],
   "source": []
  },
  {
   "cell_type": "code",
   "execution_count": 98,
   "id": "91e77797-617f-4ac4-8a07-9ceedcbcc2eb",
   "metadata": {},
   "outputs": [
    {
     "name": "stderr",
     "output_type": "stream",
     "text": [
      "C:\\Users\\farav\\AppData\\Local\\Programs\\Python\\Python310\\lib\\site-packages\\pyLDAvis\\_prepare.py:247: FutureWarning: In a future version of pandas all arguments of DataFrame.drop except for the argument 'labels' will be keyword-only.\n",
      "  by='saliency', ascending=False).head(R).drop('saliency', 1)\n"
     ]
    }
   ],
   "source": [
    "lda_display_ladiar = pyLDAvis.gensim_models.prepare(ldamodel_1, corpus_1, dictionary_1, sort_topics=False)"
   ]
  },
  {
   "cell_type": "code",
   "execution_count": 99,
   "id": "913ed0b6-6dcd-44e7-8fa1-25654fc17dbe",
   "metadata": {},
   "outputs": [
    {
     "data": {
      "text/html": [
       "\n",
       "<link rel=\"stylesheet\" type=\"text/css\" href=\"https://cdn.jsdelivr.net/gh/bmabey/pyLDAvis@3.3.1/pyLDAvis/js/ldavis.v1.0.0.css\">\n",
       "\n",
       "\n",
       "<div id=\"ldavis_el119282430972320160596131763\"></div>\n",
       "<script type=\"text/javascript\">\n",
       "\n",
       "var ldavis_el119282430972320160596131763_data = {\"mdsDat\": {\"x\": [0.008151604337422715, 0.23278927466671973, -0.22163527895021934, -0.04906379996888861, 0.029758199914965502], \"y\": [-0.2659198349941574, 0.08639696732593502, 0.06640974306638929, 0.08363039674143208, 0.029482727860401216], \"topics\": [1, 2, 3, 4, 5], \"cluster\": [1, 1, 1, 1, 1], \"Freq\": [19.772046773511754, 29.548173459765938, 24.150008962447654, 15.30528909689276, 11.2244817073819]}, \"tinfo\": {\"Term\": [\"pandemia\", \"estafa\", \"canelon\", \"uruguay\", \"falta\", \"gobierno\", \"tiempo\", \"gigant\", \"juego\", \"n\\u00famero\", \"uruguayo\", \"ol\\u00edmpico\", \"apunt\", \"tokio\", \"coronaviru\", \"cabildo\", \"abierto\", \"mujer\", \"pol\\u00edtica\", \"ni\\u0144o\", \"pandemia\", \"tiempo\", \"apunt\", \"mujer\", \"ni\\u0144o\", \"pol\\u00edtica\", \"abierto\", \"cabildo\", \"uruguayo\", \"gobierno\", \"falta\", \"canelon\", \"estafa\", \"coronaviru\", \"tokio\", \"n\\u00famero\", \"ol\\u00edmpico\", \"gigant\", \"juego\", \"uruguay\", \"juego\", \"ol\\u00edmpico\", \"tokio\", \"coronaviru\", \"pol\\u00edtica\", \"ni\\u0144o\", \"mujer\", \"uruguayo\", \"uruguay\", \"abierto\", \"cabildo\", \"gobierno\", \"falta\", \"canelon\", \"estafa\", \"tiempo\", \"n\\u00famero\", \"apunt\", \"gigant\", \"pandemia\", \"uruguay\", \"gigant\", \"n\\u00famero\", \"cabildo\", \"abierto\", \"apunt\", \"ni\\u0144o\", \"pol\\u00edtica\", \"mujer\", \"uruguayo\", \"canelon\", \"gobierno\", \"falta\", \"estafa\", \"tokio\", \"coronaviru\", \"tiempo\", \"ol\\u00edmpico\", \"juego\", \"pandemia\", \"falta\", \"gobierno\", \"uruguayo\", \"abierto\", \"cabildo\", \"ni\\u0144o\", \"pol\\u00edtica\", \"mujer\", \"canelon\", \"estafa\", \"coronaviru\", \"tokio\", \"n\\u00famero\", \"apunt\", \"tiempo\", \"pandemia\", \"ol\\u00edmpico\", \"gigant\", \"juego\", \"uruguay\", \"estafa\", \"canelon\", \"ni\\u0144o\", \"pol\\u00edtica\", \"mujer\", \"abierto\", \"cabildo\", \"uruguayo\", \"gobierno\", \"falta\", \"coronaviru\", \"tokio\", \"apunt\", \"n\\u00famero\", \"tiempo\", \"ol\\u00edmpico\", \"gigant\", \"juego\", \"uruguay\", \"pandemia\"], \"Freq\": [6.0, 3.0, 3.0, 6.0, 3.0, 3.0, 4.0, 4.0, 5.0, 3.0, 3.0, 4.0, 3.0, 3.0, 3.0, 3.0, 3.0, 3.0, 3.0, 3.0, 5.619812567842857, 3.340436849689672, 2.544183151519275, 1.755138491410005, 0.15959632468599028, 0.1595827276748853, 0.15949786052323225, 0.1594818770378055, 0.1611032801009356, 0.16057007986589272, 0.15955214544839133, 0.16039275893125504, 0.15953885779506882, 0.1613612550288558, 0.15949021496660876, 0.15951528767831047, 0.15949788998587822, 0.1595465180830153, 0.15959932987587697, 0.15973871765385667, 4.682701958637626, 3.926417935885976, 3.1767504208627395, 3.1749458867330196, 2.420105702630154, 2.4132389271876735, 0.9057843741616618, 0.8983492567675313, 0.31964014998911705, 0.15136868531413095, 0.151356125696707, 0.1580195916441654, 0.1514363267243589, 0.15143946387682675, 0.15137603835921348, 0.1580013631371943, 0.15136701216614806, 0.15142305161602124, 0.15138034231224834, 0.1934374155757502, 5.430548432817681, 4.0525456596115985, 3.2732677000397166, 1.7136523436925475, 1.7135561882507166, 0.937879667416689, 0.16298865593306688, 0.1560370349299868, 0.15603419201086083, 0.15595028991032617, 0.16289633303410841, 0.1559973960006542, 0.15599807974069718, 0.15601461545384138, 0.15620899555079093, 0.15601125073310365, 0.15598474680985946, 0.15618810549316264, 0.15619301762557652, 0.15605398448578855, 2.7769593265159136, 2.768316515303076, 1.9183833364082807, 1.0426335677270613, 1.0425937929150622, 0.17386101719955796, 0.17378678152693344, 0.17380048832854553, 0.173765571334755, 0.17378507102756421, 0.17376643798776875, 0.17367238332911944, 0.1737029898644995, 0.17377998514277304, 0.1736978925763792, 0.2547840809646695, 0.17370318372109467, 0.1737297306713051, 0.17378872009288523, 0.1817208074144795, 2.86872251613552, 2.859789610850534, 0.17961411790815673, 0.1795653288040594, 0.17960508598624636, 0.1794461576121864, 0.1794098961182944, 0.17944652557937535, 0.1794937090084664, 0.17951336180151212, 0.17957185185877245, 0.17940976231204386, 0.1833850456604258, 0.17942906386368196, 0.1794617794919351, 0.18748289553428776, 0.17952761216719293, 0.1875199431399016, 0.1796802014701343, 0.17951127107884768], \"Total\": [6.0, 3.0, 3.0, 6.0, 3.0, 3.0, 4.0, 4.0, 5.0, 3.0, 3.0, 4.0, 3.0, 3.0, 3.0, 3.0, 3.0, 3.0, 3.0, 3.0, 6.403599319947913, 4.00758263170504, 3.9906509013551847, 3.17036263189732, 3.089299042914445, 3.089077575566019, 3.2465024594273273, 3.2464940354604166, 3.3132326887664494, 3.422397291822255, 3.423459240230873, 3.508283738027479, 3.5094370987712082, 3.84565668234152, 3.8455317770213027, 3.937282053612357, 4.6032900106204, 4.71672986284536, 5.359802969371866, 6.271328309345269, 5.359802969371866, 4.6032900106204, 3.8455317770213027, 3.84565668234152, 3.089077575566019, 3.089299042914445, 3.17036263189732, 3.3132326887664494, 6.271328309345269, 3.2465024594273273, 3.2464940354604166, 3.422397291822255, 3.423459240230873, 3.508283738027479, 3.5094370987712082, 4.00758263170504, 3.937282053612357, 3.9906509013551847, 4.71672986284536, 6.403599319947913, 6.271328309345269, 4.71672986284536, 3.937282053612357, 3.2464940354604166, 3.2465024594273273, 3.9906509013551847, 3.089299042914445, 3.089077575566019, 3.17036263189732, 3.3132326887664494, 3.508283738027479, 3.422397291822255, 3.423459240230873, 3.5094370987712082, 3.8455317770213027, 3.84565668234152, 4.00758263170504, 4.6032900106204, 5.359802969371866, 6.403599319947913, 3.423459240230873, 3.422397291822255, 3.3132326887664494, 3.2465024594273273, 3.2464940354604166, 3.089299042914445, 3.089077575566019, 3.17036263189732, 3.508283738027479, 3.5094370987712082, 3.84565668234152, 3.8455317770213027, 3.937282053612357, 3.9906509013551847, 4.00758263170504, 6.403599319947913, 4.6032900106204, 4.71672986284536, 5.359802969371866, 6.271328309345269, 3.5094370987712082, 3.508283738027479, 3.089299042914445, 3.089077575566019, 3.17036263189732, 3.2465024594273273, 3.2464940354604166, 3.3132326887664494, 3.422397291822255, 3.423459240230873, 3.84565668234152, 3.8455317770213027, 3.9906509013551847, 3.937282053612357, 4.00758263170504, 4.6032900106204, 4.71672986284536, 5.359802969371866, 6.271328309345269, 6.403599319947913], \"Category\": [\"Default\", \"Default\", \"Default\", \"Default\", \"Default\", \"Default\", \"Default\", \"Default\", \"Default\", \"Default\", \"Default\", \"Default\", \"Default\", \"Default\", \"Default\", \"Default\", \"Default\", \"Default\", \"Default\", \"Default\", \"Topic1\", \"Topic1\", \"Topic1\", \"Topic1\", \"Topic1\", \"Topic1\", \"Topic1\", \"Topic1\", \"Topic1\", \"Topic1\", \"Topic1\", \"Topic1\", \"Topic1\", \"Topic1\", \"Topic1\", \"Topic1\", \"Topic1\", \"Topic1\", \"Topic1\", \"Topic1\", \"Topic2\", \"Topic2\", \"Topic2\", \"Topic2\", \"Topic2\", \"Topic2\", \"Topic2\", \"Topic2\", \"Topic2\", \"Topic2\", \"Topic2\", \"Topic2\", \"Topic2\", \"Topic2\", \"Topic2\", \"Topic2\", \"Topic2\", \"Topic2\", \"Topic2\", \"Topic2\", \"Topic3\", \"Topic3\", \"Topic3\", \"Topic3\", \"Topic3\", \"Topic3\", \"Topic3\", \"Topic3\", \"Topic3\", \"Topic3\", \"Topic3\", \"Topic3\", \"Topic3\", \"Topic3\", \"Topic3\", \"Topic3\", \"Topic3\", \"Topic3\", \"Topic3\", \"Topic3\", \"Topic4\", \"Topic4\", \"Topic4\", \"Topic4\", \"Topic4\", \"Topic4\", \"Topic4\", \"Topic4\", \"Topic4\", \"Topic4\", \"Topic4\", \"Topic4\", \"Topic4\", \"Topic4\", \"Topic4\", \"Topic4\", \"Topic4\", \"Topic4\", \"Topic4\", \"Topic4\", \"Topic5\", \"Topic5\", \"Topic5\", \"Topic5\", \"Topic5\", \"Topic5\", \"Topic5\", \"Topic5\", \"Topic5\", \"Topic5\", \"Topic5\", \"Topic5\", \"Topic5\", \"Topic5\", \"Topic5\", \"Topic5\", \"Topic5\", \"Topic5\", \"Topic5\", \"Topic5\"], \"logprob\": [20.0, 19.0, 18.0, 17.0, 16.0, 15.0, 14.0, 13.0, 12.0, 11.0, 10.0, 9.0, 8.0, 7.0, 6.0, 5.0, 4.0, 3.0, 2.0, 1.0, -1.0348, -1.555, -1.8273, -2.1986, -4.5962, -4.5963, -4.5969, -4.597, -4.5868, -4.5902, -4.5965, -4.5913, -4.5966, -4.5852, -4.5969, -4.5967, -4.5969, -4.5965, -4.5962, -4.5953, -1.619, -1.7952, -2.007, -2.0076, -2.2791, -2.2819, -3.2618, -3.2701, -4.3034, -5.0509, -5.051, -5.0079, -5.0505, -5.0504, -5.0509, -5.008, -5.0509, -5.0506, -5.0508, -4.8057, -1.2691, -1.5618, -1.7754, -2.4225, -2.4226, -3.0253, -4.7752, -4.8188, -4.8188, -4.8194, -4.7758, -4.8191, -4.8191, -4.8189, -4.8177, -4.819, -4.8191, -4.8178, -4.8178, -4.8187, -1.4837, -1.4868, -1.8536, -2.4633, -2.4633, -4.2546, -4.255, -4.2549, -4.2551, -4.255, -4.2551, -4.2556, -4.2555, -4.255, -4.2555, -3.8724, -4.2555, -4.2553, -4.255, -4.2103, -1.1411, -1.1442, -3.9119, -3.9122, -3.9119, -3.9128, -3.913, -3.9128, -3.9126, -3.9125, -3.9121, -3.913, -3.8911, -3.9129, -3.9127, -3.869, -3.9124, -3.8688, -3.9115, -3.9125], \"loglift\": [20.0, 19.0, 18.0, 17.0, 16.0, 15.0, 14.0, 13.0, 12.0, 11.0, 10.0, 9.0, 8.0, 7.0, 6.0, 5.0, 4.0, 3.0, 2.0, 1.0, 1.4903, 1.4388, 1.1708, 1.0296, -1.3422, -1.3422, -1.3924, -1.3925, -1.4027, -1.4385, -1.4451, -1.4644, -1.47, -1.5502, -1.5618, -1.5852, -1.7416, -1.7656, -1.8931, -2.0493, 1.0841, 1.0601, 1.0281, 1.0275, 0.9751, 0.9722, -0.0337, -0.086, -1.7574, -1.8465, -1.8465, -1.8562, -1.8991, -1.9235, -1.9243, -2.0142, -2.0394, -2.0525, -2.2199, -2.2805, 1.2769, 1.2691, 1.2362, 0.7819, 0.7819, -0.0272, -1.5211, -1.5646, -1.5906, -1.6353, -1.6489, -1.6674, -1.6677, -1.6924, -1.7826, -1.7839, -1.8253, -1.9626, -2.1147, -2.2935, 1.6677, 1.6649, 1.3305, 0.7411, 0.7411, -1.0005, -1.0008, -1.0267, -1.1282, -1.1284, -1.22, -1.2205, -1.2439, -1.2569, -1.2617, -1.3472, -1.4002, -1.4244, -1.5519, -1.6643, 1.9855, 1.9827, -0.6578, -0.658, -0.6838, -0.7084, -0.7086, -0.7287, -0.7609, -0.7611, -0.8771, -0.8779, -0.893, -0.9014, -0.9189, -1.0138, -1.0815, -1.1657, -1.3655, -1.3873]}, \"token.table\": {\"Topic\": [3, 4, 1, 3, 3, 4, 5, 2, 5, 4, 3, 4, 2, 1, 2, 2, 3, 2, 1, 2, 1, 2, 3, 2, 4], \"Freq\": [0.6160475850533603, 0.30802379252668016, 0.7517570627341095, 0.25058568757803645, 0.6160491835668384, 0.3080245917834192, 0.8551189766899355, 0.7801008378557023, 0.854837945678074, 0.8763066213102291, 0.8480451745835208, 0.876578533757152, 0.9328701126836324, 0.6308426613024674, 0.3154213306512337, 0.647396050760175, 0.7619469367828439, 0.8689437317161139, 0.9369730522191392, 0.6474424649674054, 0.7485809465951397, 0.780126176027535, 0.7972792610058719, 0.301820033162932, 0.603640066325864], \"Term\": [\"abierto\", \"abierto\", \"apunt\", \"apunt\", \"cabildo\", \"cabildo\", \"canelon\", \"coronaviru\", \"estafa\", \"falta\", \"gigant\", \"gobierno\", \"juego\", \"mujer\", \"mujer\", \"ni\\u0144o\", \"n\\u00famero\", \"ol\\u00edmpico\", \"pandemia\", \"pol\\u00edtica\", \"tiempo\", \"tokio\", \"uruguay\", \"uruguayo\", \"uruguayo\"]}, \"R\": 20, \"lambda.step\": 0.01, \"plot.opts\": {\"xlab\": \"PC1\", \"ylab\": \"PC2\"}, \"topic.order\": [1, 2, 3, 4, 5]};\n",
       "\n",
       "function LDAvis_load_lib(url, callback){\n",
       "  var s = document.createElement('script');\n",
       "  s.src = url;\n",
       "  s.async = true;\n",
       "  s.onreadystatechange = s.onload = callback;\n",
       "  s.onerror = function(){console.warn(\"failed to load library \" + url);};\n",
       "  document.getElementsByTagName(\"head\")[0].appendChild(s);\n",
       "}\n",
       "\n",
       "if(typeof(LDAvis) !== \"undefined\"){\n",
       "   // already loaded: just create the visualization\n",
       "   !function(LDAvis){\n",
       "       new LDAvis(\"#\" + \"ldavis_el119282430972320160596131763\", ldavis_el119282430972320160596131763_data);\n",
       "   }(LDAvis);\n",
       "}else if(typeof define === \"function\" && define.amd){\n",
       "   // require.js is available: use it to load d3/LDAvis\n",
       "   require.config({paths: {d3: \"https://d3js.org/d3.v5\"}});\n",
       "   require([\"d3\"], function(d3){\n",
       "      window.d3 = d3;\n",
       "      LDAvis_load_lib(\"https://cdn.jsdelivr.net/gh/bmabey/pyLDAvis@3.3.1/pyLDAvis/js/ldavis.v3.0.0.js\", function(){\n",
       "        new LDAvis(\"#\" + \"ldavis_el119282430972320160596131763\", ldavis_el119282430972320160596131763_data);\n",
       "      });\n",
       "    });\n",
       "}else{\n",
       "    // require.js not available: dynamically load d3 & LDAvis\n",
       "    LDAvis_load_lib(\"https://d3js.org/d3.v5.js\", function(){\n",
       "         LDAvis_load_lib(\"https://cdn.jsdelivr.net/gh/bmabey/pyLDAvis@3.3.1/pyLDAvis/js/ldavis.v3.0.0.js\", function(){\n",
       "                 new LDAvis(\"#\" + \"ldavis_el119282430972320160596131763\", ldavis_el119282430972320160596131763_data);\n",
       "            })\n",
       "         });\n",
       "}\n",
       "</script>"
      ],
      "text/plain": [
       "<IPython.core.display.HTML object>"
      ]
     },
     "execution_count": 99,
     "metadata": {},
     "output_type": "execute_result"
    }
   ],
   "source": [
    "pyLDAvis.display(lda_display_ladiar)"
   ]
  },
  {
   "cell_type": "code",
   "execution_count": 100,
   "id": "0db1897d-5d1d-48a8-a4e9-b29b5a9e4269",
   "metadata": {},
   "outputs": [
    {
     "name": "stdout",
     "output_type": "stream",
     "text": [
      "\n",
      "Perplexity:  -3.703646237320716\n",
      "\n",
      "Coherence Score:  0.7124535429118619\n"
     ]
    }
   ],
   "source": [
    "# Compute Perplexity\n",
    "print('\\nPerplexity: ', ldamodel_1.log_perplexity(corpus_1))  \n",
    "# a measure of how good the model is. lower the better.\n",
    "\n",
    "# Compute Coherence Score\n",
    "coherence_model_lda = CoherenceModel(model=ldamodel_1, texts=tokenizado_1, dictionary=dictionary_1, coherence='c_v')\n",
    "coherence_lda = coherence_model_lda.get_coherence()\n",
    "print('\\nCoherence Score: ', coherence_lda)"
   ]
  },
  {
   "cell_type": "code",
   "execution_count": 101,
   "id": "30298c3f-e7f3-482a-b6df-a9147b1f1e61",
   "metadata": {},
   "outputs": [],
   "source": [
    "base_elpais = base[base['diario'] == 'elpais']\n",
    "base_elpais_fecha = base_elpais[base_elpais['fecha'] == '2021-07-23']"
   ]
  },
  {
   "cell_type": "code",
   "execution_count": 102,
   "id": "540c09f0-7814-4f7b-b7fb-8c13a6ea4d08",
   "metadata": {},
   "outputs": [
    {
     "name": "stderr",
     "output_type": "stream",
     "text": [
      "C:\\Users\\farav\\AppData\\Local\\Temp\\ipykernel_11928\\494036624.py:1: SettingWithCopyWarning: \n",
      "A value is trying to be set on a copy of a slice from a DataFrame.\n",
      "Try using .loc[row_indexer,col_indexer] = value instead\n",
      "\n",
      "See the caveats in the documentation: https://pandas.pydata.org/pandas-docs/stable/user_guide/indexing.html#returning-a-view-versus-a-copy\n",
      "  base_elpais_fecha['tit_tokenizado_2'] = base_elpais_fecha['titular'].apply(lambda x: limpiar_tokenizar(x))\n"
     ]
    }
   ],
   "source": [
    "base_elpais_fecha['tit_tokenizado_2'] = base_elpais_fecha['titular'].apply(lambda x: limpiar_tokenizar(x))\n",
    "tokenizado_2 = list(base_elpais_fecha['tit_tokenizado_2'])\n"
   ]
  },
  {
   "cell_type": "code",
   "execution_count": 103,
   "id": "368ab5a0-c0af-495a-bea1-7652a78fe39c",
   "metadata": {},
   "outputs": [],
   "source": [
    "dictionary_2 = corpora.Dictionary(tokenizado_2)\n",
    "dictionary_2.filter_extremes(no_below=3)# , keep_n=300"
   ]
  },
  {
   "cell_type": "code",
   "execution_count": 104,
   "id": "f39caa66-8500-4262-94a9-b0240b56e933",
   "metadata": {},
   "outputs": [
    {
     "name": "stdout",
     "output_type": "stream",
     "text": [
      "Dictionary<10 unique tokens: ['peńarol', 'juego', 'olímpico', 'uruguay', 'netflix']...>\n"
     ]
    }
   ],
   "source": [
    "print(dictionary_2)"
   ]
  },
  {
   "cell_type": "code",
   "execution_count": 105,
   "id": "4b0e49d7-8bbd-480a-8a28-2181c73d56c8",
   "metadata": {},
   "outputs": [],
   "source": [
    "corpus_2 = [dictionary_2.doc2bow(text) for text in tokenizado_2]"
   ]
  },
  {
   "cell_type": "code",
   "execution_count": 166,
   "id": "d0071765-6900-4274-96c1-8c504d4ba667",
   "metadata": {},
   "outputs": [],
   "source": [
    "# Esto es para seleccionar la cantidad de tópicos, no cambian los valores\n",
    "\n",
    "results = []\n",
    "\n",
    "for t in range(2, 10):\n",
    "    lda_model = gensim.models.ldamodel.LdaModel(corpus_2, id2word=dictionary_2, num_topics=t, passes=10)\n",
    "    #lda_model = models.LdaModel(corpus_4, id2word=dictionary_4, num_topics=t, passes=10)\n",
    "    corpus_lda = lda_model[corpus_2]\n",
    "\n",
    "    cm = CoherenceModel(model=lda_model, corpus=corpus_lda, texts=tokenizado_2, coherence='c_v')\n",
    "    score = cm.get_coherence()\n",
    "    tup = t, score\n",
    "    results.append(tup)\n",
    "\n",
    "results = pd.DataFrame(results, columns=['topic', 'score'])"
   ]
  },
  {
   "cell_type": "code",
   "execution_count": 167,
   "id": "87737f05-981f-49c4-8bca-3f9a9a83b868",
   "metadata": {},
   "outputs": [
    {
     "data": {
      "text/html": [
       "<div>\n",
       "<style scoped>\n",
       "    .dataframe tbody tr th:only-of-type {\n",
       "        vertical-align: middle;\n",
       "    }\n",
       "\n",
       "    .dataframe tbody tr th {\n",
       "        vertical-align: top;\n",
       "    }\n",
       "\n",
       "    .dataframe thead th {\n",
       "        text-align: right;\n",
       "    }\n",
       "</style>\n",
       "<table border=\"1\" class=\"dataframe\">\n",
       "  <thead>\n",
       "    <tr style=\"text-align: right;\">\n",
       "      <th></th>\n",
       "      <th>topic</th>\n",
       "      <th>score</th>\n",
       "    </tr>\n",
       "  </thead>\n",
       "  <tbody>\n",
       "    <tr>\n",
       "      <th>0</th>\n",
       "      <td>2</td>\n",
       "      <td>0.526359</td>\n",
       "    </tr>\n",
       "    <tr>\n",
       "      <th>1</th>\n",
       "      <td>3</td>\n",
       "      <td>0.526359</td>\n",
       "    </tr>\n",
       "    <tr>\n",
       "      <th>2</th>\n",
       "      <td>4</td>\n",
       "      <td>0.526359</td>\n",
       "    </tr>\n",
       "    <tr>\n",
       "      <th>3</th>\n",
       "      <td>5</td>\n",
       "      <td>0.526359</td>\n",
       "    </tr>\n",
       "    <tr>\n",
       "      <th>4</th>\n",
       "      <td>6</td>\n",
       "      <td>0.526359</td>\n",
       "    </tr>\n",
       "    <tr>\n",
       "      <th>5</th>\n",
       "      <td>7</td>\n",
       "      <td>0.526359</td>\n",
       "    </tr>\n",
       "    <tr>\n",
       "      <th>6</th>\n",
       "      <td>8</td>\n",
       "      <td>0.526359</td>\n",
       "    </tr>\n",
       "    <tr>\n",
       "      <th>7</th>\n",
       "      <td>9</td>\n",
       "      <td>0.526359</td>\n",
       "    </tr>\n",
       "  </tbody>\n",
       "</table>\n",
       "</div>"
      ],
      "text/plain": [
       "   topic     score\n",
       "0      2  0.526359\n",
       "1      3  0.526359\n",
       "2      4  0.526359\n",
       "3      5  0.526359\n",
       "4      6  0.526359\n",
       "5      7  0.526359\n",
       "6      8  0.526359\n",
       "7      9  0.526359"
      ]
     },
     "execution_count": 167,
     "metadata": {},
     "output_type": "execute_result"
    }
   ],
   "source": [
    "results"
   ]
  },
  {
   "cell_type": "code",
   "execution_count": 172,
   "id": "82dadc0c-b6d8-4293-9f42-9247a1afaf60",
   "metadata": {},
   "outputs": [
    {
     "name": "stdout",
     "output_type": "stream",
     "text": [
      "(0, '0.639*\"baja\" + 0.042*\"netflix\" + 0.040*\"uruguay\" + 0.040*\"marca\" + 0.040*\"videojuego\"')\n",
      "(1, '0.637*\"netflix\" + 0.042*\"videojuego\" + 0.040*\"uruguay\" + 0.040*\"marca\" + 0.040*\"baja\"')\n",
      "(2, '0.355*\"peńarol\" + 0.355*\"marca\" + 0.133*\"clasificación\" + 0.023*\"videojuego\" + 0.023*\"netflix\"')\n",
      "(3, '0.466*\"vuelta\" + 0.245*\"clasificación\" + 0.134*\"uruguay\" + 0.022*\"baja\" + 0.022*\"marca\"')\n",
      "(4, '0.280*\"uruguay\" + 0.214*\"olímpico\" + 0.214*\"juego\" + 0.213*\"videojuego\" + 0.013*\"netflix\"')\n"
     ]
    }
   ],
   "source": [
    "# Define the LDA model\n",
    "ldamodel_2 = gensim.models.ldamodel.LdaModel(corpus_2, num_topics=5, id2word=dictionary_2, passes=10)\n",
    "\n",
    "# Save the topics and top 5 words\n",
    "topics = ldamodel_2.print_topics(num_words=5)\n",
    "\n",
    "# Print the results\n",
    "for topic in topics:\n",
    "    print(topic)"
   ]
  },
  {
   "cell_type": "code",
   "execution_count": 173,
   "id": "bcb737f1-5a1c-492a-8320-fa612cad8bc9",
   "metadata": {},
   "outputs": [
    {
     "name": "stderr",
     "output_type": "stream",
     "text": [
      "C:\\Users\\farav\\AppData\\Local\\Programs\\Python\\Python310\\lib\\site-packages\\pyLDAvis\\_prepare.py:247: FutureWarning: In a future version of pandas all arguments of DataFrame.drop except for the argument 'labels' will be keyword-only.\n",
      "  by='saliency', ascending=False).head(R).drop('saliency', 1)\n"
     ]
    }
   ],
   "source": [
    "lda_display_elpais = pyLDAvis.gensim_models.prepare(ldamodel_2, corpus_2, dictionary_2, sort_topics=False)"
   ]
  },
  {
   "cell_type": "code",
   "execution_count": 174,
   "id": "bbcfa400-93b7-44db-a862-c94a237e32bc",
   "metadata": {},
   "outputs": [
    {
     "data": {
      "text/html": [
       "\n",
       "<link rel=\"stylesheet\" type=\"text/css\" href=\"https://cdn.jsdelivr.net/gh/bmabey/pyLDAvis@3.3.1/pyLDAvis/js/ldavis.v1.0.0.css\">\n",
       "\n",
       "\n",
       "<div id=\"ldavis_el1192824310076492162909090034\"></div>\n",
       "<script type=\"text/javascript\">\n",
       "\n",
       "var ldavis_el1192824310076492162909090034_data = {\"mdsDat\": {\"x\": [-0.010112799607599225, -0.009272261530554438, -0.19864485527455314, -0.00914531017181762, 0.22717522658452458], \"y\": [0.13079833207105088, 0.12520756413916537, -0.04667826724545252, -0.17250023658590255, -0.03682739237886136], \"topics\": [1, 2, 3, 4, 5], \"cluster\": [1, 1, 1, 1, 1], \"Freq\": [12.627227985815665, 13.146097765544928, 19.686558480357217, 20.70593925601359, 33.834176512268606]}, \"tinfo\": {\"Term\": [\"netflix\", \"baja\", \"vuelta\", \"pe\\u0144arol\", \"marca\", \"clasificaci\\u00f3n\", \"uruguay\", \"ol\\u00edmpico\", \"juego\", \"videojuego\", \"baja\", \"marca\", \"pe\\u0144arol\", \"videojuego\", \"clasificaci\\u00f3n\", \"juego\", \"ol\\u00edmpico\", \"netflix\", \"vuelta\", \"uruguay\", \"netflix\", \"videojuego\", \"marca\", \"pe\\u0144arol\", \"clasificaci\\u00f3n\", \"juego\", \"ol\\u00edmpico\", \"baja\", \"vuelta\", \"uruguay\", \"pe\\u0144arol\", \"marca\", \"clasificaci\\u00f3n\", \"videojuego\", \"juego\", \"ol\\u00edmpico\", \"netflix\", \"baja\", \"vuelta\", \"uruguay\", \"vuelta\", \"clasificaci\\u00f3n\", \"uruguay\", \"marca\", \"pe\\u0144arol\", \"videojuego\", \"juego\", \"ol\\u00edmpico\", \"baja\", \"netflix\", \"ol\\u00edmpico\", \"juego\", \"videojuego\", \"uruguay\", \"pe\\u0144arol\", \"marca\", \"clasificaci\\u00f3n\", \"baja\", \"netflix\", \"vuelta\"], \"Freq\": [3.0, 3.0, 3.0, 2.0, 2.0, 3.0, 4.0, 3.0, 3.0, 3.0, 2.661012139291223, 0.16655436550813438, 0.1665332073461645, 0.16654095343774408, 0.16651867760324168, 0.16644061128149076, 0.16643385867660676, 0.17381611680039094, 0.16649570322340645, 0.1666396811781171, 2.7650452642889056, 0.18095026111951218, 0.17406896170614977, 0.17400956966365008, 0.17402773474004998, 0.17394264654855046, 0.17392217043485056, 0.1740449947948499, 0.17403006193844997, 0.1741700978699492, 2.305945492099308, 2.30588198713273, 0.8619649153481972, 0.15072727145651685, 0.14421301475439563, 0.1442032010105133, 0.15066304044230286, 0.14428381649971705, 0.14428463935370472, 0.14439688631825803, 3.1843946700855237, 1.6710329647438014, 0.9151241549237834, 0.15179702640658346, 0.15179557548530095, 0.15179385728904538, 0.1517219857760432, 0.15171618209091323, 0.15181167562058479, 0.15177219528884534, 2.385602977063727, 2.3855633796684517, 2.3726522995502077, 3.1255807986485538, 0.14925927234545205, 0.14925335561280723, 0.14920644808915012, 0.14924258279203384, 0.14966976257021092, 0.14924725170760067], \"Total\": [3.0, 3.0, 3.0, 2.0, 2.0, 3.0, 4.0, 3.0, 3.0, 3.0, 3.2803952089984083, 2.9475556963664045, 2.9475431169398756, 3.022664642853026, 3.0227507405244403, 3.0218816380289315, 3.0218783892766106, 3.390966379390656, 3.8184523263086856, 4.525911618938661, 3.390966379390656, 3.022664642853026, 2.9475556963664045, 2.9475431169398756, 3.0227507405244403, 3.0218816380289315, 3.0218783892766106, 3.2803952089984083, 3.8184523263086856, 4.525911618938661, 2.9475431169398756, 2.9475556963664045, 3.0227507405244403, 3.022664642853026, 3.0218816380289315, 3.0218783892766106, 3.390966379390656, 3.2803952089984083, 3.8184523263086856, 4.525911618938661, 3.8184523263086856, 3.0227507405244403, 4.525911618938661, 2.9475556963664045, 2.9475431169398756, 3.022664642853026, 3.0218816380289315, 3.0218783892766106, 3.2803952089984083, 3.390966379390656, 3.0218783892766106, 3.0218816380289315, 3.022664642853026, 4.525911618938661, 2.9475431169398756, 2.9475556963664045, 3.0227507405244403, 3.2803952089984083, 3.390966379390656, 3.8184523263086856], \"Category\": [\"Default\", \"Default\", \"Default\", \"Default\", \"Default\", \"Default\", \"Default\", \"Default\", \"Default\", \"Default\", \"Topic1\", \"Topic1\", \"Topic1\", \"Topic1\", \"Topic1\", \"Topic1\", \"Topic1\", \"Topic1\", \"Topic1\", \"Topic1\", \"Topic2\", \"Topic2\", \"Topic2\", \"Topic2\", \"Topic2\", \"Topic2\", \"Topic2\", \"Topic2\", \"Topic2\", \"Topic2\", \"Topic3\", \"Topic3\", \"Topic3\", \"Topic3\", \"Topic3\", \"Topic3\", \"Topic3\", \"Topic3\", \"Topic3\", \"Topic3\", \"Topic4\", \"Topic4\", \"Topic4\", \"Topic4\", \"Topic4\", \"Topic4\", \"Topic4\", \"Topic4\", \"Topic4\", \"Topic4\", \"Topic5\", \"Topic5\", \"Topic5\", \"Topic5\", \"Topic5\", \"Topic5\", \"Topic5\", \"Topic5\", \"Topic5\", \"Topic5\"], \"logprob\": [10.0, 9.0, 8.0, 7.0, 6.0, 5.0, 4.0, 3.0, 2.0, 1.0, -0.4485, -3.2196, -3.2198, -3.2197, -3.2198, -3.2203, -3.2204, -3.177, -3.22, -3.2191, -0.4504, -3.177, -3.2158, -3.2161, -3.216, -3.2165, -3.2166, -3.2159, -3.216, -3.2152, -1.0358, -1.0358, -2.0198, -3.7636, -3.8077, -3.8078, -3.764, -3.8072, -3.8072, -3.8065, -0.7635, -1.4083, -2.0105, -3.807, -3.807, -3.807, -3.8075, -3.8075, -3.8069, -3.8071, -1.5434, -1.5434, -1.5488, -1.2732, -4.3149, -4.3149, -4.3152, -4.315, -4.3121, -4.315], \"loglift\": [10.0, 9.0, 8.0, 7.0, 6.0, 5.0, 4.0, 3.0, 2.0, 1.0, 1.8601, -0.8041, -0.8042, -0.8293, -0.8295, -0.8297, -0.8297, -0.9016, -1.0633, -1.2324, 1.825, -0.7866, -0.8002, -0.8006, -0.8257, -0.8259, -0.826, -0.9074, -1.0593, -1.2285, 1.3798, 1.3797, 0.3705, -1.3732, -1.4171, -1.4172, -1.4886, -1.4987, -1.6506, -1.8198, 1.3932, 0.982, -0.0238, -1.3914, -1.3914, -1.4166, -1.4168, -1.4169, -1.4983, -1.5317, 0.8473, 0.8473, 0.8416, 0.7135, -1.8993, -1.8994, -1.9249, -2.0064, -2.0367, -2.1583]}, \"token.table\": {\"Topic\": [1, 3, 4, 5, 3, 2, 5, 3, 4, 5, 5, 4], \"Freq\": [0.9145239548487146, 0.3308244992197082, 0.6616489984394164, 0.6618392907355997, 0.6785283149918074, 0.8847035518350049, 0.6618400022638793, 0.6785312107923938, 0.2209499619514229, 0.6628498858542687, 0.6616678448695665, 0.785658623869769], \"Term\": [\"baja\", \"clasificaci\\u00f3n\", \"clasificaci\\u00f3n\", \"juego\", \"marca\", \"netflix\", \"ol\\u00edmpico\", \"pe\\u0144arol\", \"uruguay\", \"uruguay\", \"videojuego\", \"vuelta\"]}, \"R\": 10, \"lambda.step\": 0.01, \"plot.opts\": {\"xlab\": \"PC1\", \"ylab\": \"PC2\"}, \"topic.order\": [1, 2, 3, 4, 5]};\n",
       "\n",
       "function LDAvis_load_lib(url, callback){\n",
       "  var s = document.createElement('script');\n",
       "  s.src = url;\n",
       "  s.async = true;\n",
       "  s.onreadystatechange = s.onload = callback;\n",
       "  s.onerror = function(){console.warn(\"failed to load library \" + url);};\n",
       "  document.getElementsByTagName(\"head\")[0].appendChild(s);\n",
       "}\n",
       "\n",
       "if(typeof(LDAvis) !== \"undefined\"){\n",
       "   // already loaded: just create the visualization\n",
       "   !function(LDAvis){\n",
       "       new LDAvis(\"#\" + \"ldavis_el1192824310076492162909090034\", ldavis_el1192824310076492162909090034_data);\n",
       "   }(LDAvis);\n",
       "}else if(typeof define === \"function\" && define.amd){\n",
       "   // require.js is available: use it to load d3/LDAvis\n",
       "   require.config({paths: {d3: \"https://d3js.org/d3.v5\"}});\n",
       "   require([\"d3\"], function(d3){\n",
       "      window.d3 = d3;\n",
       "      LDAvis_load_lib(\"https://cdn.jsdelivr.net/gh/bmabey/pyLDAvis@3.3.1/pyLDAvis/js/ldavis.v3.0.0.js\", function(){\n",
       "        new LDAvis(\"#\" + \"ldavis_el1192824310076492162909090034\", ldavis_el1192824310076492162909090034_data);\n",
       "      });\n",
       "    });\n",
       "}else{\n",
       "    // require.js not available: dynamically load d3 & LDAvis\n",
       "    LDAvis_load_lib(\"https://d3js.org/d3.v5.js\", function(){\n",
       "         LDAvis_load_lib(\"https://cdn.jsdelivr.net/gh/bmabey/pyLDAvis@3.3.1/pyLDAvis/js/ldavis.v3.0.0.js\", function(){\n",
       "                 new LDAvis(\"#\" + \"ldavis_el1192824310076492162909090034\", ldavis_el1192824310076492162909090034_data);\n",
       "            })\n",
       "         });\n",
       "}\n",
       "</script>"
      ],
      "text/plain": [
       "<IPython.core.display.HTML object>"
      ]
     },
     "execution_count": 174,
     "metadata": {},
     "output_type": "execute_result"
    }
   ],
   "source": [
    "pyLDAvis.display(lda_display_elpais)"
   ]
  },
  {
   "cell_type": "code",
   "execution_count": 175,
   "id": "ed39cb90-cc05-4649-864b-05d3594565b3",
   "metadata": {},
   "outputs": [
    {
     "name": "stdout",
     "output_type": "stream",
     "text": [
      "\n",
      "Perplexity:  -3.194043850386862\n",
      "\n",
      "Coherence Score:  0.5263586384049894\n"
     ]
    }
   ],
   "source": [
    "# Compute Perplexity\n",
    "print('\\nPerplexity: ', ldamodel_2.log_perplexity(corpus_2))  \n",
    "# a measure of how good the model is. lower the better.\n",
    "\n",
    "# Compute Coherence Score\n",
    "coherence_model_lda = CoherenceModel(model=ldamodel_2, texts=tokenizado_2, dictionary=dictionary_2, coherence='c_v')\n",
    "coherence_lda = coherence_model_lda.get_coherence()\n",
    "print('\\nCoherence Score: ', coherence_lda)"
   ]
  },
  {
   "cell_type": "code",
   "execution_count": 110,
   "id": "97bf4e64-76b6-47db-8541-8d37ed9505d0",
   "metadata": {},
   "outputs": [],
   "source": [
    "base_montev = base[base['diario'] == 'montev']\n",
    "base_montev_fecha = base_montev[base_montev['fecha'] == '2021-07-23']"
   ]
  },
  {
   "cell_type": "code",
   "execution_count": 111,
   "id": "a782dbc0-7774-46b5-bf40-f02e929a1f4d",
   "metadata": {},
   "outputs": [
    {
     "name": "stderr",
     "output_type": "stream",
     "text": [
      "C:\\Users\\farav\\AppData\\Local\\Temp\\ipykernel_11928\\1743992655.py:1: SettingWithCopyWarning: \n",
      "A value is trying to be set on a copy of a slice from a DataFrame.\n",
      "Try using .loc[row_indexer,col_indexer] = value instead\n",
      "\n",
      "See the caveats in the documentation: https://pandas.pydata.org/pandas-docs/stable/user_guide/indexing.html#returning-a-view-versus-a-copy\n",
      "  base_montev_fecha['tit_tokenizado_3'] = base_montev_fecha['titular'].apply(lambda x: limpiar_tokenizar(x))\n"
     ]
    }
   ],
   "source": [
    "base_montev_fecha['tit_tokenizado_3'] = base_montev_fecha['titular'].apply(lambda x: limpiar_tokenizar(x))\n",
    "tokenizado_3 = list(base_montev_fecha['tit_tokenizado_3'])\n"
   ]
  },
  {
   "cell_type": "code",
   "execution_count": 112,
   "id": "4831a52f-fb36-4f3f-bee0-0afc75a061e2",
   "metadata": {},
   "outputs": [],
   "source": [
    "dictionary_3 = corpora.Dictionary(tokenizado_3)\n",
    "dictionary_3.filter_extremes(no_below=3)# , keep_n=300"
   ]
  },
  {
   "cell_type": "code",
   "execution_count": 113,
   "id": "f552e218-6067-4a0d-bd10-c3400385b045",
   "metadata": {},
   "outputs": [
    {
     "name": "stdout",
     "output_type": "stream",
     "text": [
      "Dictionary<10 unique tokens: ['uruguay', 'clásico', 'nacion', 'peńarol', 'juego']...>\n"
     ]
    }
   ],
   "source": [
    "print(dictionary_3)"
   ]
  },
  {
   "cell_type": "code",
   "execution_count": 114,
   "id": "aaf73c03-3db8-4dec-b65a-e54faa1cf9b8",
   "metadata": {},
   "outputs": [],
   "source": [
    "corpus_3 = [dictionary_3.doc2bow(text) for text in tokenizado_3]"
   ]
  },
  {
   "cell_type": "code",
   "execution_count": 164,
   "id": "faebb594-fa2c-4c5b-98ee-482f1a8d38c1",
   "metadata": {},
   "outputs": [],
   "source": [
    "# Esto es para seleccionar la cantidad de tópicos, hay algo raro porque no cambian los valores\n",
    "\n",
    "results = []\n",
    "\n",
    "for t in range(2, 10):\n",
    "    lda_model = gensim.models.ldamodel.LdaModel(corpus_3, id2word=dictionary_3, num_topics=t, passes=10)\n",
    "    #lda_model = models.LdaModel(corpus_4, id2word=dictionary_4, num_topics=t, passes=10)\n",
    "    corpus_lda = lda_model[corpus_3]\n",
    "\n",
    "    cm = CoherenceModel(model=lda_model, corpus=corpus_lda, texts=tokenizado_3, coherence='c_v')\n",
    "    score = cm.get_coherence()\n",
    "    tup = t, score\n",
    "    results.append(tup)\n",
    "\n",
    "results = pd.DataFrame(results, columns=['topic', 'score'])"
   ]
  },
  {
   "cell_type": "code",
   "execution_count": 165,
   "id": "114f057f-1093-417e-8bc0-31f0d1e90fb2",
   "metadata": {},
   "outputs": [
    {
     "data": {
      "text/html": [
       "<div>\n",
       "<style scoped>\n",
       "    .dataframe tbody tr th:only-of-type {\n",
       "        vertical-align: middle;\n",
       "    }\n",
       "\n",
       "    .dataframe tbody tr th {\n",
       "        vertical-align: top;\n",
       "    }\n",
       "\n",
       "    .dataframe thead th {\n",
       "        text-align: right;\n",
       "    }\n",
       "</style>\n",
       "<table border=\"1\" class=\"dataframe\">\n",
       "  <thead>\n",
       "    <tr style=\"text-align: right;\">\n",
       "      <th></th>\n",
       "      <th>topic</th>\n",
       "      <th>score</th>\n",
       "    </tr>\n",
       "  </thead>\n",
       "  <tbody>\n",
       "    <tr>\n",
       "      <th>0</th>\n",
       "      <td>2</td>\n",
       "      <td>0.522956</td>\n",
       "    </tr>\n",
       "    <tr>\n",
       "      <th>1</th>\n",
       "      <td>3</td>\n",
       "      <td>0.522956</td>\n",
       "    </tr>\n",
       "    <tr>\n",
       "      <th>2</th>\n",
       "      <td>4</td>\n",
       "      <td>0.522956</td>\n",
       "    </tr>\n",
       "    <tr>\n",
       "      <th>3</th>\n",
       "      <td>5</td>\n",
       "      <td>0.522956</td>\n",
       "    </tr>\n",
       "    <tr>\n",
       "      <th>4</th>\n",
       "      <td>6</td>\n",
       "      <td>0.522956</td>\n",
       "    </tr>\n",
       "    <tr>\n",
       "      <th>5</th>\n",
       "      <td>7</td>\n",
       "      <td>0.522956</td>\n",
       "    </tr>\n",
       "    <tr>\n",
       "      <th>6</th>\n",
       "      <td>8</td>\n",
       "      <td>0.522956</td>\n",
       "    </tr>\n",
       "    <tr>\n",
       "      <th>7</th>\n",
       "      <td>9</td>\n",
       "      <td>0.522956</td>\n",
       "    </tr>\n",
       "  </tbody>\n",
       "</table>\n",
       "</div>"
      ],
      "text/plain": [
       "   topic     score\n",
       "0      2  0.522956\n",
       "1      3  0.522956\n",
       "2      4  0.522956\n",
       "3      5  0.522956\n",
       "4      6  0.522956\n",
       "5      7  0.522956\n",
       "6      8  0.522956\n",
       "7      9  0.522956"
      ]
     },
     "execution_count": 165,
     "metadata": {},
     "output_type": "execute_result"
    }
   ],
   "source": [
    "results"
   ]
  },
  {
   "cell_type": "code",
   "execution_count": 115,
   "id": "c8e52613-3fec-4690-ba89-ee565ac8f890",
   "metadata": {},
   "outputs": [
    {
     "name": "stdout",
     "output_type": "stream",
     "text": [
      "(0, '0.634*\"hombr\" + 0.042*\"opinión\" + 0.042*\"cuba\" + 0.042*\"juego\" + 0.042*\"sudamericana\"')\n",
      "(1, '0.314*\"uruguay\" + 0.314*\"opinión\" + 0.240*\"cuba\" + 0.036*\"nacion\" + 0.019*\"clásico\"')\n",
      "(2, '0.530*\"delta\" + 0.200*\"clásico\" + 0.035*\"hombr\" + 0.034*\"uruguay\" + 0.033*\"nacion\"')\n",
      "(3, '0.350*\"nacion\" + 0.229*\"sudamericana\" + 0.229*\"peńarol\" + 0.139*\"clásico\" + 0.009*\"hombr\"')\n",
      "(4, '0.631*\"juego\" + 0.044*\"uruguay\" + 0.044*\"opinión\" + 0.044*\"delta\" + 0.040*\"nacion\"')\n"
     ]
    }
   ],
   "source": [
    "# Define the LDA model\n",
    "ldamodel_3 = gensim.models.ldamodel.LdaModel(corpus_3, num_topics=5, id2word=dictionary_3, passes=10)\n",
    "\n",
    "# Save the topics and top 5 words\n",
    "topics = ldamodel_3.print_topics(num_words=5)\n",
    "\n",
    "# Print the results\n",
    "for topic in topics:\n",
    "    print(topic)"
   ]
  },
  {
   "cell_type": "code",
   "execution_count": 116,
   "id": "ef994dcc-94da-4e32-b020-9e54043e2b57",
   "metadata": {},
   "outputs": [
    {
     "name": "stderr",
     "output_type": "stream",
     "text": [
      "C:\\Users\\farav\\AppData\\Local\\Programs\\Python\\Python310\\lib\\site-packages\\pyLDAvis\\_prepare.py:247: FutureWarning: In a future version of pandas all arguments of DataFrame.drop except for the argument 'labels' will be keyword-only.\n",
      "  by='saliency', ascending=False).head(R).drop('saliency', 1)\n"
     ]
    }
   ],
   "source": [
    "lda_display_montev = pyLDAvis.gensim_models.prepare(ldamodel_3, corpus_3, dictionary_3, sort_topics=False)"
   ]
  },
  {
   "cell_type": "code",
   "execution_count": 117,
   "id": "0ca44511-2b83-4a0a-8994-2719bf67021e",
   "metadata": {},
   "outputs": [
    {
     "data": {
      "text/html": [
       "\n",
       "<link rel=\"stylesheet\" type=\"text/css\" href=\"https://cdn.jsdelivr.net/gh/bmabey/pyLDAvis@3.3.1/pyLDAvis/js/ldavis.v1.0.0.css\">\n",
       "\n",
       "\n",
       "<div id=\"ldavis_el1192824309521347363860815325\"></div>\n",
       "<script type=\"text/javascript\">\n",
       "\n",
       "var ldavis_el1192824309521347363860815325_data = {\"mdsDat\": {\"x\": [-0.03250553619178611, -0.2189834568121515, 0.053249572117317984, 0.2385967731519162, -0.04035735226529613], \"y\": [0.11628843827328479, -0.14833032830386822, 0.03713633798255335, -0.1107169951154559, 0.10562254716348601], \"topics\": [1, 2, 3, 4, 5], \"cluster\": [1, 1, 1, 1, 1], \"Freq\": [11.175527191655823, 23.472386749174557, 12.770746096850882, 41.40573092071368, 11.175609041605059]}, \"tinfo\": {\"Term\": [\"hombr\", \"juego\", \"delta\", \"uruguay\", \"opini\\u00f3n\", \"cuba\", \"cl\\u00e1sico\", \"nacion\", \"sudamericana\", \"pe\\u0144arol\", \"hombr\", \"cuba\", \"juego\", \"delta\", \"opini\\u00f3n\", \"uruguay\", \"cl\\u00e1sico\", \"sudamericana\", \"pe\\u0144arol\", \"nacion\", \"uruguay\", \"opini\\u00f3n\", \"cuba\", \"nacion\", \"cl\\u00e1sico\", \"delta\", \"juego\", \"hombr\", \"pe\\u0144arol\", \"sudamericana\", \"delta\", \"cl\\u00e1sico\", \"cuba\", \"hombr\", \"juego\", \"uruguay\", \"opini\\u00f3n\", \"pe\\u0144arol\", \"sudamericana\", \"nacion\", \"nacion\", \"pe\\u0144arol\", \"sudamericana\", \"cl\\u00e1sico\", \"cuba\", \"delta\", \"juego\", \"hombr\", \"uruguay\", \"opini\\u00f3n\", \"juego\", \"cuba\", \"delta\", \"uruguay\", \"opini\\u00f3n\", \"hombr\", \"cl\\u00e1sico\", \"pe\\u0144arol\", \"sudamericana\", \"nacion\"], \"Freq\": [3.0, 3.0, 3.0, 3.0, 3.0, 3.0, 4.0, 6.0, 4.0, 4.0, 2.9781344900398543, 0.19534076715376927, 0.19510315703439224, 0.1868364266341634, 0.19544034693372747, 0.1869332611945512, 0.18691845099725102, 0.19508273399962645, 0.18688783393057729, 0.18704392676564086, 3.098839071623601, 3.095477080584679, 2.3688917038518404, 0.3582423934512162, 0.18671099873417507, 0.14919560562086653, 0.14861940228252468, 0.14863061271428024, 0.1551716379750947, 0.1486244703892643, 2.844202447751376, 1.0742861366575762, 0.17918940411744064, 0.18713714164475814, 0.17917599660511319, 0.1827426146794993, 0.17922626978099376, 0.17920059369553806, 0.17919258115836473, 0.17936026497871044, 6.079178704901977, 3.9858021041683998, 3.9858531542084634, 2.4173256432911217, 0.15366254792501666, 0.15368940102350193, 0.15372284592601826, 0.1537367097693858, 0.15371440776901535, 0.15372271635738866, 2.961446500200794, 0.18582205635034058, 0.20541154462804656, 0.20617599770713105, 0.20555723467253367, 0.18582032527564013, 0.18586895273768028, 0.1858487393805719, 0.1858309740078884, 0.18597395378390508], \"Total\": [3.0, 3.0, 3.0, 3.0, 3.0, 3.0, 4.0, 6.0, 4.0, 4.0, 3.653459279443919, 3.0829064793984076, 3.6380679020488422, 3.5393354256579546, 3.829423648329323, 3.8284053529737982, 4.051110182417804, 4.694583913763608, 4.692910909150181, 6.98979924388145, 3.8284053529737982, 3.829423648329323, 3.0829064793984076, 6.98979924388145, 4.051110182417804, 3.5393354256579546, 3.6380679020488422, 3.653459279443919, 4.692910909150181, 4.694583913763608, 3.5393354256579546, 4.051110182417804, 3.0829064793984076, 3.653459279443919, 3.6380679020488422, 3.8284053529737982, 3.829423648329323, 4.692910909150181, 4.694583913763608, 6.98979924388145, 6.98979924388145, 4.692910909150181, 4.694583913763608, 4.051110182417804, 3.0829064793984076, 3.5393354256579546, 3.6380679020488422, 3.653459279443919, 3.8284053529737982, 3.829423648329323, 3.6380679020488422, 3.0829064793984076, 3.5393354256579546, 3.8284053529737982, 3.829423648329323, 3.653459279443919, 4.051110182417804, 4.692910909150181, 4.694583913763608, 6.98979924388145], \"Category\": [\"Default\", \"Default\", \"Default\", \"Default\", \"Default\", \"Default\", \"Default\", \"Default\", \"Default\", \"Default\", \"Topic1\", \"Topic1\", \"Topic1\", \"Topic1\", \"Topic1\", \"Topic1\", \"Topic1\", \"Topic1\", \"Topic1\", \"Topic1\", \"Topic2\", \"Topic2\", \"Topic2\", \"Topic2\", \"Topic2\", \"Topic2\", \"Topic2\", \"Topic2\", \"Topic2\", \"Topic2\", \"Topic3\", \"Topic3\", \"Topic3\", \"Topic3\", \"Topic3\", \"Topic3\", \"Topic3\", \"Topic3\", \"Topic3\", \"Topic3\", \"Topic4\", \"Topic4\", \"Topic4\", \"Topic4\", \"Topic4\", \"Topic4\", \"Topic4\", \"Topic4\", \"Topic4\", \"Topic4\", \"Topic5\", \"Topic5\", \"Topic5\", \"Topic5\", \"Topic5\", \"Topic5\", \"Topic5\", \"Topic5\", \"Topic5\", \"Topic5\"], \"logprob\": [10.0, 9.0, 8.0, 7.0, 6.0, 5.0, 4.0, 3.0, 2.0, 1.0, -0.4549, -3.1792, -3.1805, -3.2237, -3.1787, -3.2232, -3.2233, -3.1806, -3.2235, -3.2226, -1.1573, -1.1584, -1.4259, -3.3149, -3.9665, -4.1908, -4.1947, -4.1946, -4.1515, -4.1947, -0.6344, -1.608, -3.399, -3.3556, -3.399, -3.3793, -3.3988, -3.3989, -3.399, -3.398, -1.051, -1.4732, -1.4732, -1.9733, -4.7289, -4.7287, -4.7285, -4.7284, -4.7286, -4.7285, -0.4606, -3.2292, -3.129, -3.1253, -3.1283, -3.2292, -3.2289, -3.2291, -3.2292, -3.2284], \"loglift\": [10.0, 9.0, 8.0, 7.0, 6.0, 5.0, 4.0, 3.0, 2.0, 1.0, 1.9871, -0.5674, -0.7342, -0.75, -0.7838, -0.828, -0.8846, -0.9893, -1.0319, -1.4294, 1.2379, 1.2366, 1.1859, -1.5217, -1.6278, -1.7171, -1.7485, -1.7526, -1.9599, -2.0034, 1.8394, 0.7307, -0.7872, -0.9136, -0.9528, -0.9841, -1.0038, -1.2073, -1.2077, -1.6048, 0.7422, 0.7184, 0.7181, 0.3654, -2.1171, -2.255, -2.2823, -2.2864, -2.3334, -2.3336, 1.9857, -0.6174, -0.6552, -0.73, -0.7333, -0.7872, -0.8903, -1.0374, -1.0379, -1.4352]}, \"token.table\": {\"Topic\": [3, 4, 2, 3, 1, 5, 4, 2, 4, 4, 2], \"Freq\": [0.24684591506300996, 0.4936918301260199, 0.6487384594262088, 0.8476167526400261, 0.821139574999347, 0.8246135258526914, 0.8583937521885375, 0.7834077071385981, 0.8523494431144747, 0.8520456921161378, 0.7836160812150375], \"Term\": [\"cl\\u00e1sico\", \"cl\\u00e1sico\", \"cuba\", \"delta\", \"hombr\", \"juego\", \"nacion\", \"opini\\u00f3n\", \"pe\\u0144arol\", \"sudamericana\", \"uruguay\"]}, \"R\": 10, \"lambda.step\": 0.01, \"plot.opts\": {\"xlab\": \"PC1\", \"ylab\": \"PC2\"}, \"topic.order\": [1, 2, 3, 4, 5]};\n",
       "\n",
       "function LDAvis_load_lib(url, callback){\n",
       "  var s = document.createElement('script');\n",
       "  s.src = url;\n",
       "  s.async = true;\n",
       "  s.onreadystatechange = s.onload = callback;\n",
       "  s.onerror = function(){console.warn(\"failed to load library \" + url);};\n",
       "  document.getElementsByTagName(\"head\")[0].appendChild(s);\n",
       "}\n",
       "\n",
       "if(typeof(LDAvis) !== \"undefined\"){\n",
       "   // already loaded: just create the visualization\n",
       "   !function(LDAvis){\n",
       "       new LDAvis(\"#\" + \"ldavis_el1192824309521347363860815325\", ldavis_el1192824309521347363860815325_data);\n",
       "   }(LDAvis);\n",
       "}else if(typeof define === \"function\" && define.amd){\n",
       "   // require.js is available: use it to load d3/LDAvis\n",
       "   require.config({paths: {d3: \"https://d3js.org/d3.v5\"}});\n",
       "   require([\"d3\"], function(d3){\n",
       "      window.d3 = d3;\n",
       "      LDAvis_load_lib(\"https://cdn.jsdelivr.net/gh/bmabey/pyLDAvis@3.3.1/pyLDAvis/js/ldavis.v3.0.0.js\", function(){\n",
       "        new LDAvis(\"#\" + \"ldavis_el1192824309521347363860815325\", ldavis_el1192824309521347363860815325_data);\n",
       "      });\n",
       "    });\n",
       "}else{\n",
       "    // require.js not available: dynamically load d3 & LDAvis\n",
       "    LDAvis_load_lib(\"https://d3js.org/d3.v5.js\", function(){\n",
       "         LDAvis_load_lib(\"https://cdn.jsdelivr.net/gh/bmabey/pyLDAvis@3.3.1/pyLDAvis/js/ldavis.v3.0.0.js\", function(){\n",
       "                 new LDAvis(\"#\" + \"ldavis_el1192824309521347363860815325\", ldavis_el1192824309521347363860815325_data);\n",
       "            })\n",
       "         });\n",
       "}\n",
       "</script>"
      ],
      "text/plain": [
       "<IPython.core.display.HTML object>"
      ]
     },
     "execution_count": 117,
     "metadata": {},
     "output_type": "execute_result"
    }
   ],
   "source": [
    "pyLDAvis.display(lda_display_montev)"
   ]
  },
  {
   "cell_type": "code",
   "execution_count": 118,
   "id": "2b98636b-93d4-47ee-ad60-d9b664016c23",
   "metadata": {},
   "outputs": [
    {
     "name": "stdout",
     "output_type": "stream",
     "text": [
      "\n",
      "Perplexity:  -2.9883680274684408\n",
      "\n",
      "Coherence Score:  0.5229562142470268\n"
     ]
    }
   ],
   "source": [
    "# Compute Perplexity\n",
    "print('\\nPerplexity: ', ldamodel_3.log_perplexity(corpus_3))  \n",
    "# a measure of how good the model is. lower the better.\n",
    "\n",
    "# Compute Coherence Score\n",
    "coherence_model_lda = CoherenceModel(model=ldamodel_3, texts=tokenizado_3, dictionary=dictionary_3, coherence='c_v')\n",
    "coherence_lda = coherence_model_lda.get_coherence()\n",
    "print('\\nCoherence Score: ', coherence_lda)"
   ]
  },
  {
   "cell_type": "code",
   "execution_count": 119,
   "id": "36fd58ea-671b-48f0-9a23-3d1553da862f",
   "metadata": {},
   "outputs": [],
   "source": [
    "base_republ = base[base['diario'] == 'republ']\n",
    "base_republ_fecha = base_republ[base_republ['fecha'] == '2021-07-23']"
   ]
  },
  {
   "cell_type": "code",
   "execution_count": 120,
   "id": "1bc5874d-5280-427e-a20e-97202f823fd4",
   "metadata": {},
   "outputs": [
    {
     "name": "stderr",
     "output_type": "stream",
     "text": [
      "C:\\Users\\farav\\AppData\\Local\\Temp\\ipykernel_11928\\2681922119.py:1: SettingWithCopyWarning: \n",
      "A value is trying to be set on a copy of a slice from a DataFrame.\n",
      "Try using .loc[row_indexer,col_indexer] = value instead\n",
      "\n",
      "See the caveats in the documentation: https://pandas.pydata.org/pandas-docs/stable/user_guide/indexing.html#returning-a-view-versus-a-copy\n",
      "  base_republ_fecha['tit_tokenizado_4'] = base_republ_fecha['titular'].apply(lambda x: limpiar_tokenizar(x))\n"
     ]
    }
   ],
   "source": [
    "base_republ_fecha['tit_tokenizado_4'] = base_republ_fecha['titular'].apply(lambda x: limpiar_tokenizar(x))\n",
    "tokenizado_4 = list(base_republ_fecha['tit_tokenizado_4'])\n",
    "#tokenizado_4"
   ]
  },
  {
   "cell_type": "code",
   "execution_count": 121,
   "id": "3b3b6e29-2406-4efe-87d9-142efa9355a5",
   "metadata": {},
   "outputs": [],
   "source": [
    "dictionary_4 = corpora.Dictionary(tokenizado_4)\n",
    "dictionary_4.filter_extremes(no_below=3)# , keep_n=300"
   ]
  },
  {
   "cell_type": "code",
   "execution_count": 122,
   "id": "06e79f87-2be0-4533-921e-5e1c085e90d3",
   "metadata": {},
   "outputs": [
    {
     "name": "stdout",
     "output_type": "stream",
     "text": [
      "Dictionary<3 unique tokens: ['juego', 'olímpico', 'mujer']>\n"
     ]
    }
   ],
   "source": [
    "print(dictionary_4)"
   ]
  },
  {
   "cell_type": "code",
   "execution_count": 123,
   "id": "96a5993e-4acb-4d0a-8182-284624c1f1df",
   "metadata": {},
   "outputs": [],
   "source": [
    "corpus_4 = [dictionary_4.doc2bow(text) for text in tokenizado_4]"
   ]
  },
  {
   "cell_type": "code",
   "execution_count": 160,
   "id": "fcbf9758-b663-458d-825a-4fcff3589d2b",
   "metadata": {},
   "outputs": [],
   "source": [
    "# Esto es para seleccionar la cantidad de tópicos, en el caso del diario la republica parece que no cambia nada, me parece\n",
    "# que hay algo raro con este diario, luego analizar qué está pasando.\n",
    "\n",
    "from gensim import models\n",
    "\n",
    "results = []\n",
    "\n",
    "for t in range(1, 10):\n",
    "    lda_model = gensim.models.ldamodel.LdaModel(corpus_4, id2word=dictionary_4, num_topics=t, passes=10)\n",
    "    #lda_model = models.LdaModel(corpus_4, id2word=dictionary_4, num_topics=t, passes=10)\n",
    "    corpus_lda = lda_model[corpus_4]\n",
    "\n",
    "    cm = CoherenceModel(model=lda_model, corpus=corpus_lda, texts=tokenizado_4, coherence='c_v')\n",
    "    score = cm.get_coherence()\n",
    "    tup = t, score\n",
    "    results.append(tup)\n",
    "\n",
    "results = pd.DataFrame(results, columns=['topic', 'score'])"
   ]
  },
  {
   "cell_type": "code",
   "execution_count": 161,
   "id": "d5601f88-26ea-484a-a486-489d2cae7954",
   "metadata": {},
   "outputs": [
    {
     "data": {
      "text/html": [
       "<div>\n",
       "<style scoped>\n",
       "    .dataframe tbody tr th:only-of-type {\n",
       "        vertical-align: middle;\n",
       "    }\n",
       "\n",
       "    .dataframe tbody tr th {\n",
       "        vertical-align: top;\n",
       "    }\n",
       "\n",
       "    .dataframe thead th {\n",
       "        text-align: right;\n",
       "    }\n",
       "</style>\n",
       "<table border=\"1\" class=\"dataframe\">\n",
       "  <thead>\n",
       "    <tr style=\"text-align: right;\">\n",
       "      <th></th>\n",
       "      <th>topic</th>\n",
       "      <th>score</th>\n",
       "    </tr>\n",
       "  </thead>\n",
       "  <tbody>\n",
       "    <tr>\n",
       "      <th>0</th>\n",
       "      <td>1</td>\n",
       "      <td>0.348646</td>\n",
       "    </tr>\n",
       "    <tr>\n",
       "      <th>1</th>\n",
       "      <td>2</td>\n",
       "      <td>0.348646</td>\n",
       "    </tr>\n",
       "    <tr>\n",
       "      <th>2</th>\n",
       "      <td>3</td>\n",
       "      <td>0.348646</td>\n",
       "    </tr>\n",
       "    <tr>\n",
       "      <th>3</th>\n",
       "      <td>4</td>\n",
       "      <td>0.348646</td>\n",
       "    </tr>\n",
       "    <tr>\n",
       "      <th>4</th>\n",
       "      <td>5</td>\n",
       "      <td>0.348646</td>\n",
       "    </tr>\n",
       "    <tr>\n",
       "      <th>5</th>\n",
       "      <td>6</td>\n",
       "      <td>0.348646</td>\n",
       "    </tr>\n",
       "    <tr>\n",
       "      <th>6</th>\n",
       "      <td>7</td>\n",
       "      <td>0.348646</td>\n",
       "    </tr>\n",
       "    <tr>\n",
       "      <th>7</th>\n",
       "      <td>8</td>\n",
       "      <td>0.348646</td>\n",
       "    </tr>\n",
       "    <tr>\n",
       "      <th>8</th>\n",
       "      <td>9</td>\n",
       "      <td>0.348646</td>\n",
       "    </tr>\n",
       "  </tbody>\n",
       "</table>\n",
       "</div>"
      ],
      "text/plain": [
       "   topic     score\n",
       "0      1  0.348646\n",
       "1      2  0.348646\n",
       "2      3  0.348646\n",
       "3      4  0.348646\n",
       "4      5  0.348646\n",
       "5      6  0.348646\n",
       "6      7  0.348646\n",
       "7      8  0.348646\n",
       "8      9  0.348646"
      ]
     },
     "execution_count": 161,
     "metadata": {},
     "output_type": "execute_result"
    }
   ],
   "source": [
    "results"
   ]
  },
  {
   "cell_type": "code",
   "execution_count": 140,
   "id": "36792002-b5cd-4591-8987-ff94bf21ff97",
   "metadata": {},
   "outputs": [
    {
     "name": "stdout",
     "output_type": "stream",
     "text": [
      "(0, '0.889*\"mujer\" + 0.056*\"juego\" + 0.056*\"olímpico\"')\n",
      "(1, '0.338*\"olímpico\" + 0.338*\"juego\" + 0.323*\"mujer\"')\n",
      "(2, '0.334*\"mujer\" + 0.333*\"juego\" + 0.333*\"olímpico\"')\n",
      "(3, '0.485*\"olímpico\" + 0.485*\"juego\" + 0.030*\"mujer\"')\n",
      "(4, '0.334*\"mujer\" + 0.333*\"olímpico\" + 0.333*\"juego\"')\n"
     ]
    }
   ],
   "source": [
    "# Define the LDA model\n",
    "ldamodel_4 = gensim.models.ldamodel.LdaModel(corpus_4, num_topics=5, id2word=dictionary_4, passes=10)\n",
    "\n",
    "# Save the topics and top 5 words\n",
    "topics = ldamodel_4.print_topics(num_words=5)\n",
    "\n",
    "# Print the results\n",
    "for topic in topics:\n",
    "    print(topic)"
   ]
  },
  {
   "cell_type": "code",
   "execution_count": 141,
   "id": "e05094bb-d7f2-49c4-8266-9c16420afba4",
   "metadata": {},
   "outputs": [
    {
     "name": "stderr",
     "output_type": "stream",
     "text": [
      "C:\\Users\\farav\\AppData\\Local\\Programs\\Python\\Python310\\lib\\site-packages\\pyLDAvis\\_prepare.py:247: FutureWarning: In a future version of pandas all arguments of DataFrame.drop except for the argument 'labels' will be keyword-only.\n",
      "  by='saliency', ascending=False).head(R).drop('saliency', 1)\n"
     ]
    }
   ],
   "source": [
    "lda_display_republ = pyLDAvis.gensim_models.prepare(ldamodel_4, corpus_4, dictionary_4, sort_topics=False)"
   ]
  },
  {
   "cell_type": "code",
   "execution_count": 142,
   "id": "00bfb7ae-dbfd-49c6-9047-514dd748e57a",
   "metadata": {},
   "outputs": [
    {
     "data": {
      "text/html": [
       "\n",
       "<link rel=\"stylesheet\" type=\"text/css\" href=\"https://cdn.jsdelivr.net/gh/bmabey/pyLDAvis@3.3.1/pyLDAvis/js/ldavis.v1.0.0.css\">\n",
       "\n",
       "\n",
       "<div id=\"ldavis_el1192824309948068481572152765\"></div>\n",
       "<script type=\"text/javascript\">\n",
       "\n",
       "var ldavis_el1192824309948068481572152765_data = {\"mdsDat\": {\"x\": [0.2355244336858844, -0.009960281704923744, -0.00673425270967196, -0.21208807232102797, -0.006741826950260727], \"y\": [0.0, 0.0, 0.0, 0.0, 0.0], \"topics\": [1, 2, 3, 4, 5], \"cluster\": [1, 1, 1, 1, 1], \"Freq\": [24.435713050354828, 7.788983902397588, 7.787897442200585, 52.199512053705085, 7.787893551341909]}, \"tinfo\": {\"Term\": [\"mujer\", \"ol\\u00edmpico\", \"juego\", \"mujer\", \"juego\", \"ol\\u00edmpico\", \"mujer\", \"ol\\u00edmpico\", \"juego\", \"mujer\", \"juego\", \"ol\\u00edmpico\", \"juego\", \"ol\\u00edmpico\", \"mujer\", \"mujer\", \"ol\\u00edmpico\", \"juego\"], \"Freq\": [2.0, 3.0, 3.0, 1.9545975539539455, 0.12231889345151803, 0.12229780541237911, 0.226639769934317, 0.23719719405079376, 0.23717153906373545, 0.23380475543572588, 0.23355879017888048, 0.23354721780076648, 2.277512784331732, 2.2775150244918074, 0.14292863575784506, 0.23378750984396346, 0.2335722094078081, 0.23355069398632367], \"Total\": [2.0, 3.0, 3.0, 2.7917582249257964, 3.10411270101219, 3.104129451163555, 2.7917582249257964, 3.104129451163555, 3.10411270101219, 2.7917582249257964, 3.10411270101219, 3.104129451163555, 3.10411270101219, 3.104129451163555, 2.7917582249257964, 2.7917582249257964, 3.104129451163555, 3.10411270101219], \"Category\": [\"Default\", \"Default\", \"Default\", \"Topic1\", \"Topic1\", \"Topic1\", \"Topic2\", \"Topic2\", \"Topic2\", \"Topic3\", \"Topic3\", \"Topic3\", \"Topic4\", \"Topic4\", \"Topic4\", \"Topic5\", \"Topic5\", \"Topic5\"], \"logprob\": [3.0, 2.0, 1.0, -0.1179, -2.8892, -2.8894, -1.1292, -1.0836, -1.0837, -1.0979, -1.0989, -1.099, -0.724, -0.724, -3.4925, -1.098, -1.0989, -1.099], \"loglift\": [3.0, 2.0, 1.0, 1.0526, -1.8247, -1.8249, 0.0414, -0.0191, -0.0192, 0.0727, -0.0345, -0.0345, 0.3405, 0.3404, -2.322, 0.0726, -0.0344, -0.0345]}, \"token.table\": {\"Topic\": [4, 1, 4], \"Freq\": [0.6443065032232366, 0.7163944148684863, 0.6443030264895422], \"Term\": [\"juego\", \"mujer\", \"ol\\u00edmpico\"]}, \"R\": 3, \"lambda.step\": 0.01, \"plot.opts\": {\"xlab\": \"PC1\", \"ylab\": \"PC2\"}, \"topic.order\": [1, 2, 3, 4, 5]};\n",
       "\n",
       "function LDAvis_load_lib(url, callback){\n",
       "  var s = document.createElement('script');\n",
       "  s.src = url;\n",
       "  s.async = true;\n",
       "  s.onreadystatechange = s.onload = callback;\n",
       "  s.onerror = function(){console.warn(\"failed to load library \" + url);};\n",
       "  document.getElementsByTagName(\"head\")[0].appendChild(s);\n",
       "}\n",
       "\n",
       "if(typeof(LDAvis) !== \"undefined\"){\n",
       "   // already loaded: just create the visualization\n",
       "   !function(LDAvis){\n",
       "       new LDAvis(\"#\" + \"ldavis_el1192824309948068481572152765\", ldavis_el1192824309948068481572152765_data);\n",
       "   }(LDAvis);\n",
       "}else if(typeof define === \"function\" && define.amd){\n",
       "   // require.js is available: use it to load d3/LDAvis\n",
       "   require.config({paths: {d3: \"https://d3js.org/d3.v5\"}});\n",
       "   require([\"d3\"], function(d3){\n",
       "      window.d3 = d3;\n",
       "      LDAvis_load_lib(\"https://cdn.jsdelivr.net/gh/bmabey/pyLDAvis@3.3.1/pyLDAvis/js/ldavis.v3.0.0.js\", function(){\n",
       "        new LDAvis(\"#\" + \"ldavis_el1192824309948068481572152765\", ldavis_el1192824309948068481572152765_data);\n",
       "      });\n",
       "    });\n",
       "}else{\n",
       "    // require.js not available: dynamically load d3 & LDAvis\n",
       "    LDAvis_load_lib(\"https://d3js.org/d3.v5.js\", function(){\n",
       "         LDAvis_load_lib(\"https://cdn.jsdelivr.net/gh/bmabey/pyLDAvis@3.3.1/pyLDAvis/js/ldavis.v3.0.0.js\", function(){\n",
       "                 new LDAvis(\"#\" + \"ldavis_el1192824309948068481572152765\", ldavis_el1192824309948068481572152765_data);\n",
       "            })\n",
       "         });\n",
       "}\n",
       "</script>"
      ],
      "text/plain": [
       "<IPython.core.display.HTML object>"
      ]
     },
     "execution_count": 142,
     "metadata": {},
     "output_type": "execute_result"
    }
   ],
   "source": [
    "pyLDAvis.display(lda_display_republ)"
   ]
  },
  {
   "cell_type": "code",
   "execution_count": 143,
   "id": "2d0f17da-1afe-4277-9a97-6bbae6867a5a",
   "metadata": {},
   "outputs": [],
   "source": [
    "# Coherence score and perplexity provide a convinent way to measure how good a given topic model is.\n",
    "\n",
    "# Lower the perplexity better the model.\n",
    "# Higher the topic coherence, the topic is more human interpretable."
   ]
  },
  {
   "cell_type": "code",
   "execution_count": 144,
   "id": "96d872d4-13d6-49f2-985f-3a200410d4be",
   "metadata": {},
   "outputs": [
    {
     "name": "stdout",
     "output_type": "stream",
     "text": [
      "\n",
      "Perplexity:  -2.162357906014317\n",
      "\n",
      "Coherence Score:  0.3486463135123885\n"
     ]
    }
   ],
   "source": [
    "# Compute Perplexity\n",
    "print('\\nPerplexity: ', ldamodel_4.log_perplexity(corpus_4))  \n",
    "# a measure of how good the model is. lower the better.\n",
    "\n",
    "# Compute Coherence Score\n",
    "coherence_model_lda = CoherenceModel(model=ldamodel_4, texts=tokenizado_4, dictionary=dictionary_4, coherence='c_v')\n",
    "coherence_lda = coherence_model_lda.get_coherence()\n",
    "print('\\nCoherence Score: ', coherence_lda)"
   ]
  }
 ],
 "metadata": {
  "kernelspec": {
   "display_name": "Python 3 (ipykernel)",
   "language": "python",
   "name": "python3"
  },
  "language_info": {
   "codemirror_mode": {
    "name": "ipython",
    "version": 3
   },
   "file_extension": ".py",
   "mimetype": "text/x-python",
   "name": "python",
   "nbconvert_exporter": "python",
   "pygments_lexer": "ipython3",
   "version": "3.10.6"
  }
 },
 "nbformat": 4,
 "nbformat_minor": 5
}
