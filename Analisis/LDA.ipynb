{
 "cells": [
  {
   "cell_type": "markdown",
   "id": "0641cf66-131a-4183-8d08-67566c097341",
   "metadata": {},
   "source": [
    "# LDA Latent Dirichlet Allocation(LDA)"
   ]
  },
  {
   "cell_type": "raw",
   "id": "328aac0a-4bf0-493e-9ca8-1345f9dd65e7",
   "metadata": {},
   "source": [
    "# Topic modeling is a method for unsupervised classification of documents, similar to clustering on numeric data, which finds some natural groups of items (topics) even when we’re not sure what we’re looking for. (https://towardsdatascience.com/latent-dirichlet-allocation-lda-9d1cd064ffa2)"
   ]
  },
  {
   "cell_type": "code",
   "execution_count": 5,
   "id": "5be9429f-7729-439d-9e85-967e07e8a611",
   "metadata": {},
   "outputs": [
    {
     "name": "stderr",
     "output_type": "stream",
     "text": [
      "C:\\Users\\farav\\AppData\\Local\\Programs\\Python\\Python310\\lib\\site-packages\\seaborn\\rcmod.py:82: DeprecationWarning: distutils Version classes are deprecated. Use packaging.version instead.\n",
      "  if LooseVersion(mpl.__version__) >= \"3.0\":\n",
      "C:\\Users\\farav\\AppData\\Local\\Programs\\Python\\Python310\\lib\\site-packages\\setuptools\\_distutils\\version.py:346: DeprecationWarning: distutils Version classes are deprecated. Use packaging.version instead.\n",
      "  other = LooseVersion(other)\n"
     ]
    }
   ],
   "source": [
    "import numpy as np \n",
    "import pandas as pd \n",
    "import matplotlib.pyplot as plt\n",
    "import seaborn as sns\n",
    "from sklearn.feature_extraction import text\n",
    "import nltk\n",
    "from nltk.corpus import stopwords\n",
    "from nltk.classify import SklearnClassifier\n",
    "\n",
    "import re\n",
    "from nltk.tokenize import wordpunct_tokenize\n",
    "\n",
    "from nltk.tokenize import RegexpTokenizer\n",
    "from nltk.stem.snowball import SnowballStemmer\n",
    "from nltk.stem.porter import PorterStemmer\n"
   ]
  },
  {
   "cell_type": "code",
   "execution_count": 1,
   "id": "512e262e-e60f-4135-bd39-efd7ba88c3f5",
   "metadata": {},
   "outputs": [
    {
     "name": "stdout",
     "output_type": "stream",
     "text": [
      "Requirement already satisfied: pyLDAvis in c:\\users\\farav\\appdata\\local\\programs\\python\\python310\\lib\\site-packages (3.3.1)\n",
      "Requirement already satisfied: gensim in c:\\users\\farav\\appdata\\local\\programs\\python\\python310\\lib\\site-packages (from pyLDAvis) (4.3.0)\n",
      "Requirement already satisfied: funcy in c:\\users\\farav\\appdata\\local\\programs\\python\\python310\\lib\\site-packages (from pyLDAvis) (1.17)\n",
      "Requirement already satisfied: jinja2 in c:\\users\\farav\\appdata\\local\\programs\\python\\python310\\lib\\site-packages (from pyLDAvis) (3.1.2)\n",
      "Requirement already satisfied: pandas>=1.2.0 in c:\\users\\farav\\appdata\\local\\programs\\python\\python310\\lib\\site-packages (from pyLDAvis) (1.4.3)\n",
      "Requirement already satisfied: sklearn in c:\\users\\farav\\appdata\\local\\programs\\python\\python310\\lib\\site-packages (from pyLDAvis) (0.0.post2)\n",
      "Requirement already satisfied: future in c:\\users\\farav\\appdata\\local\\programs\\python\\python310\\lib\\site-packages (from pyLDAvis) (0.18.3)\n",
      "Requirement already satisfied: numpy>=1.20.0 in c:\\users\\farav\\appdata\\local\\programs\\python\\python310\\lib\\site-packages (from pyLDAvis) (1.23.2)\n",
      "Requirement already satisfied: scipy in c:\\users\\farav\\appdata\\local\\programs\\python\\python310\\lib\\site-packages (from pyLDAvis) (1.9.0)\n",
      "Requirement already satisfied: scikit-learn in c:\\users\\farav\\appdata\\local\\programs\\python\\python310\\lib\\site-packages (from pyLDAvis) (1.1.2)\n",
      "Requirement already satisfied: joblib in c:\\users\\farav\\appdata\\local\\programs\\python\\python310\\lib\\site-packages (from pyLDAvis) (1.1.0)\n",
      "Requirement already satisfied: setuptools in c:\\users\\farav\\appdata\\local\\programs\\python\\python310\\lib\\site-packages (from pyLDAvis) (65.0.2)\n",
      "Requirement already satisfied: numexpr in c:\\users\\farav\\appdata\\local\\programs\\python\\python310\\lib\\site-packages (from pyLDAvis) (2.8.4)\n",
      "Requirement already satisfied: python-dateutil>=2.8.1 in c:\\users\\farav\\appdata\\local\\programs\\python\\python310\\lib\\site-packages (from pandas>=1.2.0->pyLDAvis) (2.8.2)\n",
      "Requirement already satisfied: pytz>=2020.1 in c:\\users\\farav\\appdata\\local\\programs\\python\\python310\\lib\\site-packages (from pandas>=1.2.0->pyLDAvis) (2022.2.1)\n",
      "Requirement already satisfied: FuzzyTM>=0.4.0 in c:\\users\\farav\\appdata\\local\\programs\\python\\python310\\lib\\site-packages (from gensim->pyLDAvis) (2.0.5)\n",
      "Requirement already satisfied: Cython==0.29.32 in c:\\users\\farav\\appdata\\local\\programs\\python\\python310\\lib\\site-packages (from gensim->pyLDAvis) (0.29.32)\n",
      "Requirement already satisfied: smart-open>=1.8.1 in c:\\users\\farav\\appdata\\local\\programs\\python\\python310\\lib\\site-packages (from gensim->pyLDAvis) (5.2.1)\n",
      "Requirement already satisfied: MarkupSafe>=2.0 in c:\\users\\farav\\appdata\\local\\programs\\python\\python310\\lib\\site-packages (from jinja2->pyLDAvis) (2.1.1)\n",
      "Requirement already satisfied: threadpoolctl>=2.0.0 in c:\\users\\farav\\appdata\\local\\programs\\python\\python310\\lib\\site-packages (from scikit-learn->pyLDAvis) (3.1.0)\n",
      "Requirement already satisfied: pyfume in c:\\users\\farav\\appdata\\local\\programs\\python\\python310\\lib\\site-packages (from FuzzyTM>=0.4.0->gensim->pyLDAvis) (0.2.25)\n",
      "Requirement already satisfied: six>=1.5 in c:\\users\\farav\\appdata\\local\\programs\\python\\python310\\lib\\site-packages (from python-dateutil>=2.8.1->pandas>=1.2.0->pyLDAvis) (1.16.0)\n",
      "Requirement already satisfied: simpful in c:\\users\\farav\\appdata\\local\\programs\\python\\python310\\lib\\site-packages (from pyfume->FuzzyTM>=0.4.0->gensim->pyLDAvis) (2.9.0)\n",
      "Requirement already satisfied: fst-pso in c:\\users\\farav\\appdata\\local\\programs\\python\\python310\\lib\\site-packages (from pyfume->FuzzyTM>=0.4.0->gensim->pyLDAvis) (1.8.1)\n",
      "Requirement already satisfied: miniful in c:\\users\\farav\\appdata\\local\\programs\\python\\python310\\lib\\site-packages (from fst-pso->pyfume->FuzzyTM>=0.4.0->gensim->pyLDAvis) (0.0.6)\n",
      "Requirement already satisfied: requests in c:\\users\\farav\\appdata\\local\\programs\\python\\python310\\lib\\site-packages (from simpful->pyfume->FuzzyTM>=0.4.0->gensim->pyLDAvis) (2.28.1)\n",
      "Requirement already satisfied: certifi>=2017.4.17 in c:\\users\\farav\\appdata\\local\\programs\\python\\python310\\lib\\site-packages (from requests->simpful->pyfume->FuzzyTM>=0.4.0->gensim->pyLDAvis) (2022.6.15)\n",
      "Requirement already satisfied: idna<4,>=2.5 in c:\\users\\farav\\appdata\\local\\programs\\python\\python310\\lib\\site-packages (from requests->simpful->pyfume->FuzzyTM>=0.4.0->gensim->pyLDAvis) (3.3)\n",
      "Requirement already satisfied: urllib3<1.27,>=1.21.1 in c:\\users\\farav\\appdata\\local\\programs\\python\\python310\\lib\\site-packages (from requests->simpful->pyfume->FuzzyTM>=0.4.0->gensim->pyLDAvis) (1.26.11)\n",
      "Requirement already satisfied: charset-normalizer<3,>=2 in c:\\users\\farav\\appdata\\local\\programs\\python\\python310\\lib\\site-packages (from requests->simpful->pyfume->FuzzyTM>=0.4.0->gensim->pyLDAvis) (2.1.0)\n"
     ]
    }
   ],
   "source": [
    "!pip install pyLDAvis"
   ]
  },
  {
   "cell_type": "code",
   "execution_count": 3,
   "id": "cc747bad-84b5-476c-a0ee-5b55e30afe2c",
   "metadata": {},
   "outputs": [],
   "source": [
    "from collections.abc import Mapping"
   ]
  },
  {
   "cell_type": "code",
   "execution_count": 4,
   "id": "92063e9c-3a2a-45ca-8ce0-3d0530beb4d6",
   "metadata": {},
   "outputs": [
    {
     "name": "stdout",
     "output_type": "stream",
     "text": [
      "<class 'collections.abc.Mapping'>\n"
     ]
    }
   ],
   "source": [
    "print(Mapping)"
   ]
  },
  {
   "cell_type": "code",
   "execution_count": 6,
   "id": "a14bfeca-6dfa-4ca4-a884-02f261aaf255",
   "metadata": {},
   "outputs": [
    {
     "name": "stdout",
     "output_type": "stream",
     "text": [
      "Requirement already satisfied: gensim in c:\\users\\farav\\appdata\\local\\programs\\python\\python310\\lib\\site-packages (3.8.1)\n",
      "Requirement already satisfied: numpy>=1.11.3 in c:\\users\\farav\\appdata\\local\\programs\\python\\python310\\lib\\site-packages (from gensim) (1.23.2)\n",
      "Requirement already satisfied: scipy>=0.18.1 in c:\\users\\farav\\appdata\\local\\programs\\python\\python310\\lib\\site-packages (from gensim) (1.9.0)\n",
      "Requirement already satisfied: six>=1.5.0 in c:\\users\\farav\\appdata\\local\\programs\\python\\python310\\lib\\site-packages (from gensim) (1.16.0)\n",
      "Requirement already satisfied: smart_open>=1.8.1 in c:\\users\\farav\\appdata\\local\\programs\\python\\python310\\lib\\site-packages (from gensim) (5.2.1)\n"
     ]
    }
   ],
   "source": [
    "!pip install gensim"
   ]
  },
  {
   "cell_type": "code",
   "execution_count": 6,
   "id": "ad4d3465-b4a2-42b5-a073-580b482f8fc1",
   "metadata": {},
   "outputs": [],
   "source": [
    "import gensim\n",
    "from gensim import corpora\n",
    "import pyLDAvis.gensim_models"
   ]
  },
  {
   "cell_type": "code",
   "execution_count": 7,
   "id": "945c0862-c59b-4a1f-a831-d5f0a2550e6f",
   "metadata": {},
   "outputs": [
    {
     "name": "stderr",
     "output_type": "stream",
     "text": [
      "[nltk_data] Downloading package stopwords to\n",
      "[nltk_data]     C:\\Users\\farav\\AppData\\Roaming\\nltk_data...\n",
      "[nltk_data]   Package stopwords is already up-to-date!\n",
      "[nltk_data] Downloading package punkt to\n",
      "[nltk_data]     C:\\Users\\farav\\AppData\\Roaming\\nltk_data...\n",
      "[nltk_data]   Package punkt is already up-to-date!\n"
     ]
    },
    {
     "data": {
      "text/plain": [
       "True"
      ]
     },
     "execution_count": 7,
     "metadata": {},
     "output_type": "execute_result"
    }
   ],
   "source": [
    "nltk.download('stopwords')\n",
    "nltk.download('punkt')"
   ]
  },
  {
   "cell_type": "code",
   "execution_count": 8,
   "id": "cd96fe7e-7ec4-4642-8d09-cae825483288",
   "metadata": {},
   "outputs": [],
   "source": [
    "base = pd.read_csv('C:/Users/farav/OneDrive/Documentos/Python Scripts/base_tit_senti_fecha.csv', encoding='iso8859_2')"
   ]
  },
  {
   "cell_type": "code",
   "execution_count": 9,
   "id": "ac9c037a-da73-4eba-9ed1-c6031bb7ae32",
   "metadata": {},
   "outputs": [],
   "source": [
    "base_elobse = base[base['diario'] == 'elobse']"
   ]
  },
  {
   "cell_type": "code",
   "execution_count": 10,
   "id": "23533044-1592-47e6-ab4e-2f02be4d3988",
   "metadata": {},
   "outputs": [],
   "source": [
    "base_elobse_fecha = base_elobse[base_elobse['fecha'] == '2021-07-23']"
   ]
  },
  {
   "cell_type": "code",
   "execution_count": 11,
   "id": "d073059e-febd-4d7f-a492-5009bead4705",
   "metadata": {},
   "outputs": [
    {
     "data": {
      "text/plain": [
       "615"
      ]
     },
     "execution_count": 11,
     "metadata": {},
     "output_type": "execute_result"
    }
   ],
   "source": [
    "stop_words = list(stopwords.words('spanish'))\n",
    "espanol = pd.read_csv('spanish.txt', header=None)\n",
    "espanol.columns = ['palabra']\n",
    "list_espanol = list(espanol['palabra'])\n",
    "stop_words.extend(list_espanol)\n",
    "\n",
    "unique_stop_words = []\n",
    "[unique_stop_words.append(word) for word in stop_words if word not in unique_stop_words]\n",
    "len(unique_stop_words)"
   ]
  },
  {
   "cell_type": "code",
   "execution_count": 12,
   "id": "4a212941-b9af-47e1-91b6-c27210cef28e",
   "metadata": {},
   "outputs": [
    {
     "name": "stderr",
     "output_type": "stream",
     "text": [
      "<>:4: DeprecationWarning: invalid escape sequence '\\d'\n",
      "<>:4: DeprecationWarning: invalid escape sequence '\\d'\n",
      "C:\\Users\\farav\\AppData\\Local\\Temp\\ipykernel_4668\\2669027614.py:4: DeprecationWarning: invalid escape sequence '\\d'\n",
      "  nuevo_texto = re.sub(\"\\d+\", ' ', nuevo_texto)\n"
     ]
    }
   ],
   "source": [
    "def limpiar_tokenizar(texto):\n",
    "    porter_stemmer = PorterStemmer()\n",
    "    nuevo_texto = texto.lower()\n",
    "    nuevo_texto = re.sub(\"\\d+\", ' ', nuevo_texto)\n",
    "    nuevo_texto = wordpunct_tokenize(nuevo_texto)# esto toma espacios, símbolos, comas, etc. y los tokeniza junto con las palabras\n",
    "    nuevo_texto = [token for token in nuevo_texto if len(token) > 3]\n",
    "    nuevo_texto = [token for token in nuevo_texto if token not in unique_stop_words]\n",
    "    stemmers = [porter_stemmer.stem(word) for word in nuevo_texto]\n",
    "    nuevo_texto = [stem for stem in stemmers if stem.isalpha() and len(stem) > 1]\n",
    "    \n",
    "    return(nuevo_texto)"
   ]
  },
  {
   "cell_type": "code",
   "execution_count": 13,
   "id": "da86ebb3-5216-4857-8276-d25c37c76e84",
   "metadata": {},
   "outputs": [
    {
     "name": "stderr",
     "output_type": "stream",
     "text": [
      "C:\\Users\\farav\\AppData\\Local\\Temp\\ipykernel_4668\\3183837091.py:1: SettingWithCopyWarning: \n",
      "A value is trying to be set on a copy of a slice from a DataFrame.\n",
      "Try using .loc[row_indexer,col_indexer] = value instead\n",
      "\n",
      "See the caveats in the documentation: https://pandas.pydata.org/pandas-docs/stable/user_guide/indexing.html#returning-a-view-versus-a-copy\n",
      "  base_elobse_fecha['tit_tokenizado'] = base_elobse_fecha['titular'].apply(lambda x: limpiar_tokenizar(x))\n"
     ]
    }
   ],
   "source": [
    "base_elobse_fecha['tit_tokenizado'] = base_elobse_fecha['titular'].apply(lambda x: limpiar_tokenizar(x))\n",
    "tokenizado = list(base_elobse_fecha['tit_tokenizado'])"
   ]
  },
  {
   "cell_type": "code",
   "execution_count": 14,
   "id": "0e69b014-0927-4817-a682-979133bb592f",
   "metadata": {},
   "outputs": [],
   "source": [
    "dictionary = corpora.Dictionary(tokenizado)\n",
    "dictionary.filter_extremes(no_below=3, keep_n=300)"
   ]
  },
  {
   "cell_type": "code",
   "execution_count": 15,
   "id": "f017cc0c-3292-4748-ac6c-52826efcf3d3",
   "metadata": {},
   "outputs": [
    {
     "name": "stdout",
     "output_type": "stream",
     "text": [
      "Dictionary<12 unique tokens: ['inauguración', 'juego', 'olímpico', 'tokio', 'cancha']...>\n"
     ]
    }
   ],
   "source": [
    "print(dictionary)"
   ]
  },
  {
   "cell_type": "code",
   "execution_count": 16,
   "id": "50f5c02b-fc5d-4cd1-be94-f07fc9788171",
   "metadata": {},
   "outputs": [],
   "source": [
    "corpus = [dictionary.doc2bow(text) for text in tokenizado]"
   ]
  },
  {
   "cell_type": "code",
   "execution_count": 17,
   "id": "9de1f3e4-8495-4b43-b227-7aa9af27476a",
   "metadata": {},
   "outputs": [
    {
     "data": {
      "text/plain": [
       "[(0, 1), (1, 1), (2, 1), (3, 1)]"
      ]
     },
     "execution_count": 17,
     "metadata": {},
     "output_type": "execute_result"
    }
   ],
   "source": [
    "corpus[0][:10]"
   ]
  },
  {
   "cell_type": "code",
   "execution_count": 18,
   "id": "2fae11fb-a75c-4c9d-99ec-316d3c39ad5a",
   "metadata": {},
   "outputs": [
    {
     "name": "stdout",
     "output_type": "stream",
     "text": [
      "(0, '0.295*\"juego\" + 0.295*\"olímpico\" + 0.213*\"tokio\" + 0.131*\"inauguración\" + 0.009*\"vacuna\"')\n",
      "(1, '0.444*\"montevideo\" + 0.338*\"vacuna\" + 0.022*\"olímpico\" + 0.022*\"juego\" + 0.022*\"inauguración\"')\n",
      "(2, '0.280*\"cancha\" + 0.280*\"peńarol\" + 0.280*\"clásico\" + 0.018*\"montevideo\" + 0.018*\"uruguay\"')\n",
      "(3, '0.380*\"dosi\" + 0.378*\"pfizer\" + 0.025*\"olímpico\" + 0.025*\"juego\" + 0.025*\"peńarol\"')\n",
      "(4, '0.688*\"uruguay\" + 0.032*\"tokio\" + 0.031*\"olímpico\" + 0.031*\"juego\" + 0.029*\"pfizer\"')\n"
     ]
    }
   ],
   "source": [
    "# Define the LDA model\n",
    "ldamodel = gensim.models.ldamodel.LdaModel(corpus, num_topics=5, id2word=dictionary, passes=10)# revisar los argumentos\n",
    "\n",
    "# Save the topics and top 5 words\n",
    "topics = ldamodel.print_topics(num_words=5)\n",
    "\n",
    "# Print the results\n",
    "for topic in topics:\n",
    "    print(topic)"
   ]
  },
  {
   "cell_type": "code",
   "execution_count": 21,
   "id": "e967ac61-745b-4ed6-a6d2-d13062322789",
   "metadata": {},
   "outputs": [
    {
     "name": "stderr",
     "output_type": "stream",
     "text": [
      "C:\\Users\\farav\\AppData\\Local\\Programs\\Python\\Python310\\lib\\site-packages\\pyLDAvis\\_prepare.py:247: FutureWarning: In a future version of pandas all arguments of DataFrame.drop except for the argument 'labels' will be keyword-only.\n",
      "  by='saliency', ascending=False).head(R).drop('saliency', 1)\n"
     ]
    }
   ],
   "source": [
    "lda_display_elobse = pyLDAvis.gensim_models.prepare(ldamodel, corpus, dictionary, sort_topics=False)"
   ]
  },
  {
   "cell_type": "code",
   "execution_count": 22,
   "id": "770224e5-cac6-401c-af34-2a938c8d352f",
   "metadata": {},
   "outputs": [
    {
     "data": {
      "text/html": [
       "\n",
       "<link rel=\"stylesheet\" type=\"text/css\" href=\"https://cdn.jsdelivr.net/gh/bmabey/pyLDAvis@3.3.1/pyLDAvis/js/ldavis.v1.0.0.css\">\n",
       "\n",
       "\n",
       "<div id=\"ldavis_el466814975779971368880507249\"></div>\n",
       "<script type=\"text/javascript\">\n",
       "\n",
       "var ldavis_el466814975779971368880507249_data = {\"mdsDat\": {\"x\": [0.2890177123175635, -0.07805962064300788, -0.1515034015416554, -0.05763189858541472, -0.001822791547485704], \"y\": [0.03370489469046246, -0.21799967718076002, 0.18259548660750885, -0.01628141318182198, 0.01798070906461063], \"topics\": [1, 2, 3, 4, 5], \"cluster\": [1, 1, 1, 1, 1], \"Freq\": [41.039859177998956, 13.734780936839242, 17.986262936790663, 14.414670138436831, 12.824426809934314]}, \"tinfo\": {\"Term\": [\"uruguay\", \"montevideo\", \"dosi\", \"pfizer\", \"vacuna\", \"cancha\", \"pe\\u0144arol\", \"cl\\u00e1sico\", \"juego\", \"ol\\u00edmpico\", \"tokio\", \"inauguraci\\u00f3n\", \"juego\", \"ol\\u00edmpico\", \"tokio\", \"inauguraci\\u00f3n\", \"vacuna\", \"cancha\", \"cl\\u00e1sico\", \"pe\\u0144arol\", \"pfizer\", \"dosi\", \"montevideo\", \"uruguay\", \"montevideo\", \"vacuna\", \"cl\\u00e1sico\", \"cancha\", \"pe\\u0144arol\", \"inauguraci\\u00f3n\", \"pfizer\", \"dosi\", \"tokio\", \"uruguay\", \"ol\\u00edmpico\", \"juego\", \"cl\\u00e1sico\", \"cancha\", \"pe\\u0144arol\", \"vacuna\", \"inauguraci\\u00f3n\", \"pfizer\", \"dosi\", \"montevideo\", \"tokio\", \"uruguay\", \"ol\\u00edmpico\", \"juego\", \"dosi\", \"pfizer\", \"vacuna\", \"pe\\u0144arol\", \"cl\\u00e1sico\", \"cancha\", \"inauguraci\\u00f3n\", \"montevideo\", \"uruguay\", \"tokio\", \"ol\\u00edmpico\", \"juego\", \"uruguay\", \"vacuna\", \"pfizer\", \"dosi\", \"cl\\u00e1sico\", \"cancha\", \"pe\\u0144arol\", \"inauguraci\\u00f3n\", \"montevideo\", \"tokio\", \"ol\\u00edmpico\", \"juego\"], \"Freq\": [4.0, 3.0, 3.0, 3.0, 2.0, 3.0, 3.0, 3.0, 6.0, 6.0, 4.0, 3.0, 5.9230729889826845, 5.9229573220129215, 4.2768485352881065, 2.6369267328241417, 0.173219621384278, 0.1730168858033712, 0.16584976631007828, 0.1658326672259796, 0.16584630154495422, 0.16583188063065418, 0.1731866780229094, 0.16694373312318936, 2.9910456442120315, 2.275794970982857, 0.14941680910303307, 0.14315211492016547, 0.14315232802674718, 0.1495026033056979, 0.1493870117886359, 0.14314307669396423, 0.14311963496997485, 0.14323804701532436, 0.14955132949882446, 0.14953900692412844, 2.4704490008756315, 2.4706199898525294, 2.470585581932447, 0.1550002271104693, 0.15491919777195473, 0.15496141970442223, 0.15494511862396335, 0.16190512183615696, 0.15492435239357014, 0.15502859394534635, 0.15496752645359713, 0.1549619614321716, 2.6817198314024675, 2.671446828392142, 0.16858514084512596, 0.1758759328446381, 0.16856772201843284, 0.16852224098831342, 0.16847105016152872, 0.1686443043373004, 0.17082022364666757, 0.16848985039064085, 0.17605416006911823, 0.175990628714057, 4.32084828134168, 0.17389489922066734, 0.18163758064287946, 0.17878277880148127, 0.1665052581147334, 0.16645798240896298, 0.1664415254536985, 0.17378301299351717, 0.16653361885627382, 0.19877719522591236, 0.19517004365938276, 0.19513700099600323], \"Total\": [4.0, 3.0, 3.0, 3.0, 2.0, 3.0, 3.0, 3.0, 6.0, 6.0, 4.0, 3.0, 6.598701587049045, 6.5987003816938445, 4.942159568268204, 3.28360259705684, 2.9464948595433977, 3.1217692139733426, 3.120788556421909, 3.1218880354835106, 3.3232791420730337, 3.3244226861525306, 3.661315367264672, 4.9568788790722085, 3.661315367264672, 2.9464948595433977, 3.120788556421909, 3.1217692139733426, 3.1218880354835106, 3.28360259705684, 3.3232791420730337, 3.3244226861525306, 4.942159568268204, 4.9568788790722085, 6.5987003816938445, 6.598701587049045, 3.120788556421909, 3.1217692139733426, 3.1218880354835106, 2.9464948595433977, 3.28360259705684, 3.3232791420730337, 3.3244226861525306, 3.661315367264672, 4.942159568268204, 4.9568788790722085, 6.5987003816938445, 6.598701587049045, 3.3244226861525306, 3.3232791420730337, 2.9464948595433977, 3.1218880354835106, 3.120788556421909, 3.1217692139733426, 3.28360259705684, 3.661315367264672, 4.9568788790722085, 4.942159568268204, 6.5987003816938445, 6.598701587049045, 4.9568788790722085, 2.9464948595433977, 3.3232791420730337, 3.3244226861525306, 3.120788556421909, 3.1217692139733426, 3.1218880354835106, 3.28360259705684, 3.661315367264672, 4.942159568268204, 6.5987003816938445, 6.598701587049045], \"Category\": [\"Default\", \"Default\", \"Default\", \"Default\", \"Default\", \"Default\", \"Default\", \"Default\", \"Default\", \"Default\", \"Default\", \"Default\", \"Topic1\", \"Topic1\", \"Topic1\", \"Topic1\", \"Topic1\", \"Topic1\", \"Topic1\", \"Topic1\", \"Topic1\", \"Topic1\", \"Topic1\", \"Topic1\", \"Topic2\", \"Topic2\", \"Topic2\", \"Topic2\", \"Topic2\", \"Topic2\", \"Topic2\", \"Topic2\", \"Topic2\", \"Topic2\", \"Topic2\", \"Topic2\", \"Topic3\", \"Topic3\", \"Topic3\", \"Topic3\", \"Topic3\", \"Topic3\", \"Topic3\", \"Topic3\", \"Topic3\", \"Topic3\", \"Topic3\", \"Topic3\", \"Topic4\", \"Topic4\", \"Topic4\", \"Topic4\", \"Topic4\", \"Topic4\", \"Topic4\", \"Topic4\", \"Topic4\", \"Topic4\", \"Topic4\", \"Topic4\", \"Topic5\", \"Topic5\", \"Topic5\", \"Topic5\", \"Topic5\", \"Topic5\", \"Topic5\", \"Topic5\", \"Topic5\", \"Topic5\", \"Topic5\", \"Topic5\"], \"logprob\": [12.0, 11.0, 10.0, 9.0, 8.0, 7.0, 6.0, 5.0, 4.0, 3.0, 2.0, 1.0, -1.2223, -1.2224, -1.548, -2.0316, -4.7544, -4.7556, -4.7979, -4.798, -4.7979, -4.798, -4.7546, -4.7913, -0.811, -1.0843, -3.8076, -3.8504, -3.8504, -3.807, -3.8078, -3.8505, -3.8507, -3.8498, -3.8067, -3.8068, -1.2719, -1.2718, -1.2718, -4.0406, -4.0411, -4.0408, -4.0409, -3.997, -4.0411, -4.0404, -4.0408, -4.0408, -0.9684, -0.9723, -3.7352, -3.6929, -3.7353, -3.7356, -3.7359, -3.7349, -3.722, -3.7358, -3.6919, -3.6922, -0.3746, -3.5873, -3.5437, -3.5596, -3.6307, -3.631, -3.6311, -3.5879, -3.6306, -3.4536, -3.4719, -3.4721], \"loglift\": [12.0, 11.0, 10.0, 9.0, 8.0, 7.0, 6.0, 5.0, 4.0, 3.0, 2.0, 1.0, 0.7826, 0.7826, 0.746, 0.6713, -1.9432, -2.0021, -2.0441, -2.0446, -2.107, -2.1075, -2.1606, -2.5002, 1.783, 1.727, -1.0539, -1.097, -1.097, -1.1041, -1.1169, -1.16, -1.5566, -1.5588, -1.8017, -1.8018, 1.4819, 1.4816, 1.4816, -1.2294, -1.3382, -1.35, -1.3504, -1.403, -1.7471, -1.7494, -2.0359, -2.0359, 1.7221, 1.7186, -0.924, -0.9395, -0.9816, -0.9822, -1.033, -1.1409, -1.431, -1.4418, -1.6869, -1.6873, 1.9165, -0.7761, -0.8529, -0.8691, -0.877, -0.8776, -0.8777, -0.8851, -1.0366, -1.1596, -1.4669, -1.4671]}, \"token.table\": {\"Topic\": [3, 3, 4, 1, 1, 2, 1, 3, 4, 1, 5, 2], \"Freq\": [0.6406623497495605, 0.6408636675767193, 0.9024123233474874, 0.913630657585958, 0.9092697890409095, 0.8193776550423917, 0.909269955133171, 0.6406379656374335, 0.9027228444399122, 0.8093627785073017, 0.8069593987635805, 0.6787726079080718], \"Term\": [\"cancha\", \"cl\\u00e1sico\", \"dosi\", \"inauguraci\\u00f3n\", \"juego\", \"montevideo\", \"ol\\u00edmpico\", \"pe\\u0144arol\", \"pfizer\", \"tokio\", \"uruguay\", \"vacuna\"]}, \"R\": 12, \"lambda.step\": 0.01, \"plot.opts\": {\"xlab\": \"PC1\", \"ylab\": \"PC2\"}, \"topic.order\": [1, 2, 3, 4, 5]};\n",
       "\n",
       "function LDAvis_load_lib(url, callback){\n",
       "  var s = document.createElement('script');\n",
       "  s.src = url;\n",
       "  s.async = true;\n",
       "  s.onreadystatechange = s.onload = callback;\n",
       "  s.onerror = function(){console.warn(\"failed to load library \" + url);};\n",
       "  document.getElementsByTagName(\"head\")[0].appendChild(s);\n",
       "}\n",
       "\n",
       "if(typeof(LDAvis) !== \"undefined\"){\n",
       "   // already loaded: just create the visualization\n",
       "   !function(LDAvis){\n",
       "       new LDAvis(\"#\" + \"ldavis_el466814975779971368880507249\", ldavis_el466814975779971368880507249_data);\n",
       "   }(LDAvis);\n",
       "}else if(typeof define === \"function\" && define.amd){\n",
       "   // require.js is available: use it to load d3/LDAvis\n",
       "   require.config({paths: {d3: \"https://d3js.org/d3.v5\"}});\n",
       "   require([\"d3\"], function(d3){\n",
       "      window.d3 = d3;\n",
       "      LDAvis_load_lib(\"https://cdn.jsdelivr.net/gh/bmabey/pyLDAvis@3.3.1/pyLDAvis/js/ldavis.v3.0.0.js\", function(){\n",
       "        new LDAvis(\"#\" + \"ldavis_el466814975779971368880507249\", ldavis_el466814975779971368880507249_data);\n",
       "      });\n",
       "    });\n",
       "}else{\n",
       "    // require.js not available: dynamically load d3 & LDAvis\n",
       "    LDAvis_load_lib(\"https://d3js.org/d3.v5.js\", function(){\n",
       "         LDAvis_load_lib(\"https://cdn.jsdelivr.net/gh/bmabey/pyLDAvis@3.3.1/pyLDAvis/js/ldavis.v3.0.0.js\", function(){\n",
       "                 new LDAvis(\"#\" + \"ldavis_el466814975779971368880507249\", ldavis_el466814975779971368880507249_data);\n",
       "            })\n",
       "         });\n",
       "}\n",
       "</script>"
      ],
      "text/plain": [
       "<IPython.core.display.HTML object>"
      ]
     },
     "execution_count": 22,
     "metadata": {},
     "output_type": "execute_result"
    }
   ],
   "source": [
    "pyLDAvis.display(lda_display_elobse)"
   ]
  },
  {
   "cell_type": "code",
   "execution_count": 23,
   "id": "b2497527-6a3a-4a60-8fad-0486ce82af0b",
   "metadata": {},
   "outputs": [],
   "source": [
    "base_ladiar = base[base['diario'] == 'ladiar']\n",
    "base_ladiar_fecha = base_ladiar[base_ladiar['fecha'] == '2021-07-23']"
   ]
  },
  {
   "cell_type": "code",
   "execution_count": 24,
   "id": "c084dba4-f359-4c5a-986e-ec072a2e6051",
   "metadata": {},
   "outputs": [
    {
     "name": "stderr",
     "output_type": "stream",
     "text": [
      "C:\\Users\\farav\\AppData\\Local\\Temp\\ipykernel_4668\\3857919374.py:1: SettingWithCopyWarning: \n",
      "A value is trying to be set on a copy of a slice from a DataFrame.\n",
      "Try using .loc[row_indexer,col_indexer] = value instead\n",
      "\n",
      "See the caveats in the documentation: https://pandas.pydata.org/pandas-docs/stable/user_guide/indexing.html#returning-a-view-versus-a-copy\n",
      "  base_ladiar_fecha['tit_tokenizado_1'] = base_ladiar_fecha['titular'].apply(lambda x: limpiar_tokenizar(x))\n"
     ]
    }
   ],
   "source": [
    "base_ladiar_fecha['tit_tokenizado_1'] = base_ladiar_fecha['titular'].apply(lambda x: limpiar_tokenizar(x))\n",
    "tokenizado_1 = list(base_ladiar_fecha['tit_tokenizado_1'])\n"
   ]
  },
  {
   "cell_type": "code",
   "execution_count": 27,
   "id": "4948e500-9ca4-4674-a825-69f1a26676b3",
   "metadata": {},
   "outputs": [],
   "source": [
    "dictionary_1 = corpora.Dictionary(tokenizado_1)\n",
    "dictionary_1.filter_extremes(no_below=3, keep_n=300)"
   ]
  },
  {
   "cell_type": "code",
   "execution_count": 28,
   "id": "d87fb760-6822-4d51-b897-b4db585d86ec",
   "metadata": {},
   "outputs": [
    {
     "name": "stdout",
     "output_type": "stream",
     "text": [
      "Dictionary<20 unique tokens: ['canelon', 'juego', 'olímpico', 'tokio', 'estafa']...>\n"
     ]
    }
   ],
   "source": [
    "print(dictionary_1)"
   ]
  },
  {
   "cell_type": "code",
   "execution_count": 29,
   "id": "587c850f-60c9-4bdd-9e69-af0598c87336",
   "metadata": {},
   "outputs": [],
   "source": [
    "corpus_1 = [dictionary_1.doc2bow(text) for text in tokenizado_1]"
   ]
  },
  {
   "cell_type": "code",
   "execution_count": 30,
   "id": "5ce9d099-6a16-4818-852b-84cd751cf3d7",
   "metadata": {},
   "outputs": [
    {
     "name": "stdout",
     "output_type": "stream",
     "text": [
      "(0, '0.270*\"uruguay\" + 0.269*\"pandemia\" + 0.182*\"tiempo\" + 0.095*\"apunt\" + 0.052*\"uruguayo\"')\n",
      "(1, '0.248*\"juego\" + 0.208*\"olímpico\" + 0.128*\"tokio\" + 0.128*\"estafa\" + 0.127*\"coronaviru\"')\n",
      "(2, '0.184*\"gobierno\" + 0.184*\"mujer\" + 0.100*\"coronaviru\" + 0.100*\"uruguayo\" + 0.100*\"tokio\"')\n",
      "(3, '0.247*\"gigant\" + 0.200*\"número\" + 0.152*\"abierto\" + 0.152*\"cabildo\" + 0.057*\"apunt\"')\n",
      "(4, '0.169*\"falta\" + 0.169*\"canelon\" + 0.169*\"política\" + 0.168*\"nińo\" + 0.063*\"apunt\"')\n"
     ]
    }
   ],
   "source": [
    "# Define the LDA model\n",
    "ldamodel_1 = gensim.models.ldamodel.LdaModel(corpus_1, num_topics=5, id2word=dictionary_1, passes=10)\n",
    "\n",
    "# Save the topics and top 5 words\n",
    "topics = ldamodel_1.print_topics(num_words=5)\n",
    "\n",
    "# Print the results\n",
    "for topic in topics:\n",
    "    print(topic)"
   ]
  },
  {
   "cell_type": "code",
   "execution_count": 31,
   "id": "91e77797-617f-4ac4-8a07-9ceedcbcc2eb",
   "metadata": {},
   "outputs": [
    {
     "name": "stderr",
     "output_type": "stream",
     "text": [
      "C:\\Users\\farav\\AppData\\Local\\Programs\\Python\\Python310\\lib\\site-packages\\pyLDAvis\\_prepare.py:247: FutureWarning: In a future version of pandas all arguments of DataFrame.drop except for the argument 'labels' will be keyword-only.\n",
      "  by='saliency', ascending=False).head(R).drop('saliency', 1)\n"
     ]
    }
   ],
   "source": [
    "lda_display_ladiar = pyLDAvis.gensim_models.prepare(ldamodel_1, corpus_1, dictionary_1, sort_topics=False)"
   ]
  },
  {
   "cell_type": "code",
   "execution_count": 32,
   "id": "913ed0b6-6dcd-44e7-8fa1-25654fc17dbe",
   "metadata": {},
   "outputs": [
    {
     "data": {
      "text/html": [
       "\n",
       "<link rel=\"stylesheet\" type=\"text/css\" href=\"https://cdn.jsdelivr.net/gh/bmabey/pyLDAvis@3.3.1/pyLDAvis/js/ldavis.v1.0.0.css\">\n",
       "\n",
       "\n",
       "<div id=\"ldavis_el466814975779969124802245645\"></div>\n",
       "<script type=\"text/javascript\">\n",
       "\n",
       "var ldavis_el466814975779969124802245645_data = {\"mdsDat\": {\"x\": [0.020747519575689925, -0.25108059993471143, -0.03672574808668645, 0.18026813067977243, 0.08679069776593548], \"y\": [-0.17779905295969192, 0.0027582126579179557, 0.03480973989452428, -0.06965230099744231, 0.20988340140469214], \"topics\": [1, 2, 3, 4, 5], \"cluster\": [1, 1, 1, 1, 1], \"Freq\": [21.657302429436527, 24.782672103089464, 13.643783480773555, 22.05371370388557, 17.862528282814885]}, \"tinfo\": {\"Term\": [\"pandemia\", \"gigant\", \"juego\", \"uruguay\", \"ol\\u00edmpico\", \"n\\u00famero\", \"gobierno\", \"mujer\", \"tiempo\", \"falta\", \"canelon\", \"pol\\u00edtica\", \"ni\\u0144o\", \"abierto\", \"cabildo\", \"coronaviru\", \"tokio\", \"estafa\", \"uruguayo\", \"apunt\", \"tiempo\", \"uruguay\", \"pandemia\", \"apunt\", \"uruguayo\", \"ni\\u0144o\", \"pol\\u00edtica\", \"canelon\", \"falta\", \"estafa\", \"cabildo\", \"abierto\", \"mujer\", \"gobierno\", \"coronaviru\", \"tokio\", \"n\\u00famero\", \"ol\\u00edmpico\", \"gigant\", \"juego\", \"juego\", \"ol\\u00edmpico\", \"estafa\", \"tokio\", \"coronaviru\", \"uruguay\", \"ni\\u0144o\", \"pol\\u00edtica\", \"canelon\", \"falta\", \"uruguayo\", \"cabildo\", \"abierto\", \"mujer\", \"gobierno\", \"tiempo\", \"apunt\", \"n\\u00famero\", \"gigant\", \"pandemia\", \"gobierno\", \"mujer\", \"uruguayo\", \"coronaviru\", \"tokio\", \"pandemia\", \"ni\\u0144o\", \"canelon\", \"falta\", \"pol\\u00edtica\", \"estafa\", \"cabildo\", \"abierto\", \"tiempo\", \"apunt\", \"n\\u00famero\", \"ol\\u00edmpico\", \"gigant\", \"juego\", \"uruguay\", \"gigant\", \"n\\u00famero\", \"abierto\", \"cabildo\", \"uruguayo\", \"apunt\", \"ni\\u0144o\", \"pol\\u00edtica\", \"falta\", \"canelon\", \"estafa\", \"mujer\", \"gobierno\", \"tiempo\", \"coronaviru\", \"tokio\", \"ol\\u00edmpico\", \"juego\", \"pandemia\", \"uruguay\", \"falta\", \"canelon\", \"pol\\u00edtica\", \"ni\\u0144o\", \"mujer\", \"gobierno\", \"apunt\", \"estafa\", \"uruguayo\", \"cabildo\", \"abierto\", \"tiempo\", \"coronaviru\", \"tokio\", \"n\\u00famero\", \"ol\\u00edmpico\", \"gigant\", \"juego\", \"uruguay\", \"pandemia\"], \"Freq\": [6.0, 5.0, 5.0, 6.0, 4.0, 4.0, 3.0, 3.0, 3.0, 3.0, 3.0, 3.0, 3.0, 3.0, 3.0, 4.0, 4.0, 3.0, 3.0, 3.0, 3.158456346846835, 4.673687157081185, 4.662405418778167, 1.6545889873548103, 0.8985221814132514, 0.15749335263910857, 0.15085442671260976, 0.15085086066816128, 0.15083788736618575, 0.15092227837281758, 0.15078930202756843, 0.1507869784510952, 0.15087467732701187, 0.150842486111289, 0.15251157240861063, 0.15079388463672397, 0.1508248172485238, 0.15081085965373672, 0.15163096919715235, 0.1573574718232679, 4.9092672942635724, 4.123387371398571, 2.536946895193395, 2.53817146279622, 2.5276983816092105, 0.941724023989163, 0.15877517901680446, 0.15871860369812146, 0.15871679417422102, 0.1587053646304009, 0.15867157454123973, 0.1586513743458614, 0.1586404802733996, 0.1587362742529451, 0.15869836657368394, 0.15869168241397008, 0.15879957066040115, 0.16567389656456633, 0.1657161988018714, 0.17174881912439022, 2.0045035405307203, 2.00326270982074, 1.0945604506151505, 1.0957692399501324, 1.0860704621198973, 1.0761210459197474, 0.18134426105248996, 0.1813301311314086, 0.18130652704741518, 0.18128918485650528, 0.18136310772420566, 0.18120747528409387, 0.1812037954053662, 0.18127310317654075, 0.18140722560729416, 0.18127033818478958, 0.18124506697341675, 0.18935334429125655, 0.1813235236143562, 0.1898229049492346, 4.353553678018626, 3.5217104528362615, 2.6889402395941184, 2.688901067381723, 1.0077279047929046, 1.0113398325314986, 0.1682500417047069, 0.1682111981182542, 0.16818582819546102, 0.1681686739212408, 0.1682242938620794, 0.16823181939617218, 0.1682013064773724, 0.17559396067013933, 0.16822330798425064, 0.16813487474301184, 0.1681385553535725, 0.16825156981534145, 0.1756786147130346, 0.16930435588606838, 2.4106982080632817, 2.4106698873185017, 2.4106605180495517, 2.4038886659781618, 0.8948975256286869, 0.8939611310785347, 0.9046884116812155, 0.15086194571914782, 0.15076694878482455, 0.15076028116587023, 0.15074087719693727, 0.15081950452783977, 0.1508405321484941, 0.15075765936759877, 0.15076673584689387, 0.1507640341968984, 0.1508280353536875, 0.15083254697609372, 0.15098990810686402, 0.1508276760209295], \"Total\": [6.0, 5.0, 5.0, 6.0, 4.0, 4.0, 3.0, 3.0, 3.0, 3.0, 3.0, 3.0, 3.0, 3.0, 3.0, 4.0, 4.0, 3.0, 3.0, 3.0, 3.824834597635325, 6.125528350012516, 6.23678157455627, 3.9108240278352193, 3.310249060147371, 3.0697515003912716, 3.0697339314350423, 3.0697363472135333, 3.0697338153027447, 3.1883185208716456, 3.3303095002051166, 3.330312370920917, 3.376003006425556, 3.3762068307716, 4.095043034100699, 4.093928343663452, 4.170246240681035, 4.774345887576195, 5.0110822256625935, 5.567032406492632, 5.567032406492632, 4.774345887576195, 3.1883185208716456, 4.093928343663452, 4.095043034100699, 6.125528350012516, 3.0697515003912716, 3.0697339314350423, 3.0697363472135333, 3.0697338153027447, 3.310249060147371, 3.3303095002051166, 3.330312370920917, 3.376003006425556, 3.3762068307716, 3.824834597635325, 3.9108240278352193, 4.170246240681035, 5.0110822256625935, 6.23678157455627, 3.3762068307716, 3.376003006425556, 3.310249060147371, 4.095043034100699, 4.093928343663452, 6.23678157455627, 3.0697515003912716, 3.0697363472135333, 3.0697338153027447, 3.0697339314350423, 3.1883185208716456, 3.3303095002051166, 3.330312370920917, 3.824834597635325, 3.9108240278352193, 4.170246240681035, 4.774345887576195, 5.0110822256625935, 5.567032406492632, 6.125528350012516, 5.0110822256625935, 4.170246240681035, 3.330312370920917, 3.3303095002051166, 3.310249060147371, 3.9108240278352193, 3.0697515003912716, 3.0697339314350423, 3.0697338153027447, 3.0697363472135333, 3.1883185208716456, 3.376003006425556, 3.3762068307716, 3.824834597635325, 4.095043034100699, 4.093928343663452, 4.774345887576195, 5.567032406492632, 6.23678157455627, 6.125528350012516, 3.0697338153027447, 3.0697363472135333, 3.0697339314350423, 3.0697515003912716, 3.376003006425556, 3.3762068307716, 3.9108240278352193, 3.1883185208716456, 3.310249060147371, 3.3303095002051166, 3.330312370920917, 3.824834597635325, 4.095043034100699, 4.093928343663452, 4.170246240681035, 4.774345887576195, 5.0110822256625935, 5.567032406492632, 6.125528350012516, 6.23678157455627], \"Category\": [\"Default\", \"Default\", \"Default\", \"Default\", \"Default\", \"Default\", \"Default\", \"Default\", \"Default\", \"Default\", \"Default\", \"Default\", \"Default\", \"Default\", \"Default\", \"Default\", \"Default\", \"Default\", \"Default\", \"Default\", \"Topic1\", \"Topic1\", \"Topic1\", \"Topic1\", \"Topic1\", \"Topic1\", \"Topic1\", \"Topic1\", \"Topic1\", \"Topic1\", \"Topic1\", \"Topic1\", \"Topic1\", \"Topic1\", \"Topic1\", \"Topic1\", \"Topic1\", \"Topic1\", \"Topic1\", \"Topic1\", \"Topic2\", \"Topic2\", \"Topic2\", \"Topic2\", \"Topic2\", \"Topic2\", \"Topic2\", \"Topic2\", \"Topic2\", \"Topic2\", \"Topic2\", \"Topic2\", \"Topic2\", \"Topic2\", \"Topic2\", \"Topic2\", \"Topic2\", \"Topic2\", \"Topic2\", \"Topic2\", \"Topic3\", \"Topic3\", \"Topic3\", \"Topic3\", \"Topic3\", \"Topic3\", \"Topic3\", \"Topic3\", \"Topic3\", \"Topic3\", \"Topic3\", \"Topic3\", \"Topic3\", \"Topic3\", \"Topic3\", \"Topic3\", \"Topic3\", \"Topic3\", \"Topic3\", \"Topic3\", \"Topic4\", \"Topic4\", \"Topic4\", \"Topic4\", \"Topic4\", \"Topic4\", \"Topic4\", \"Topic4\", \"Topic4\", \"Topic4\", \"Topic4\", \"Topic4\", \"Topic4\", \"Topic4\", \"Topic4\", \"Topic4\", \"Topic4\", \"Topic4\", \"Topic4\", \"Topic4\", \"Topic5\", \"Topic5\", \"Topic5\", \"Topic5\", \"Topic5\", \"Topic5\", \"Topic5\", \"Topic5\", \"Topic5\", \"Topic5\", \"Topic5\", \"Topic5\", \"Topic5\", \"Topic5\", \"Topic5\", \"Topic5\", \"Topic5\", \"Topic5\", \"Topic5\", \"Topic5\"], \"logprob\": [20.0, 19.0, 18.0, 17.0, 16.0, 15.0, 14.0, 13.0, 12.0, 11.0, 10.0, 9.0, 8.0, 7.0, 6.0, 5.0, 4.0, 3.0, 2.0, 1.0, -1.7021, -1.3103, -1.3127, -2.3486, -2.9592, -4.7006, -4.7436, -4.7437, -4.7437, -4.7432, -4.7441, -4.7441, -4.7435, -4.7437, -4.7327, -4.744, -4.7438, -4.7439, -4.7385, -4.7014, -1.3959, -1.5703, -2.056, -2.0556, -2.0597, -3.047, -4.8273, -4.8276, -4.8276, -4.8277, -4.8279, -4.828, -4.8281, -4.8275, -4.8278, -4.8278, -4.8271, -4.7847, -4.7845, -4.7487, -1.6947, -1.6954, -2.2998, -2.2987, -2.3076, -2.3168, -4.0975, -4.0976, -4.0977, -4.0978, -4.0974, -4.0983, -4.0983, -4.0979, -4.0972, -4.0979, -4.098, -4.0543, -4.0976, -4.0518, -1.3993, -1.6114, -1.8812, -1.8812, -2.8626, -2.8591, -4.6526, -4.6529, -4.653, -4.6531, -4.6528, -4.6527, -4.6529, -4.6099, -4.6528, -4.6533, -4.6533, -4.6526, -4.6094, -4.6464, -1.7796, -1.7797, -1.7797, -1.7825, -2.7706, -2.7717, -2.7597, -4.551, -4.5516, -4.5516, -4.5518, -4.5512, -4.5511, -4.5516, -4.5516, -4.5516, -4.5512, -4.5511, -4.5501, -4.5512], \"loglift\": [20.0, 19.0, 18.0, 17.0, 16.0, 15.0, 14.0, 13.0, 12.0, 11.0, 10.0, 9.0, 8.0, 7.0, 6.0, 5.0, 4.0, 3.0, 2.0, 1.0, 1.3384, 1.2593, 1.2389, 0.6696, 0.2258, -1.4401, -1.4832, -1.4832, -1.4833, -1.5207, -1.5651, -1.5651, -1.5782, -1.5784, -1.7605, -1.7715, -1.7898, -1.9252, -1.9681, -2.0363, 1.2693, 1.2484, 1.1665, 0.917, 0.9126, -0.4775, -1.5668, -1.5672, -1.5672, -1.5673, -1.6429, -1.6491, -1.6492, -1.6622, -1.6625, -1.7873, -1.8088, -1.8307, -2.0141, -2.1972, 1.4705, 1.47, 0.8852, 0.6736, 0.6649, 0.2348, -0.8371, -0.8371, -0.8373, -0.8374, -0.8749, -0.9193, -0.9193, -1.0574, -1.0789, -1.1439, -1.2793, -1.2839, -1.4324, -1.4822, 1.371, 1.3427, 1.2978, 1.2978, 0.3224, 0.1592, -1.3922, -1.3924, -1.3926, -1.3927, -1.4303, -1.4874, -1.4877, -1.5694, -1.6806, -1.6808, -1.8345, -1.9875, -2.0579, -2.0768, 1.4808, 1.4808, 1.4808, 1.478, 0.3947, 0.3936, 0.2586, -1.3284, -1.3666, -1.3727, -1.3728, -1.5107, -1.5788, -1.5791, -1.5975, -1.7328, -1.7808, -1.886, -1.9805, -1.9996]}, \"token.table\": {\"Topic\": [4, 1, 4, 5, 4, 5, 2, 3, 2, 5, 4, 3, 5, 2, 3, 5, 5, 4, 2, 1, 3, 5, 1, 2, 3, 1, 2, 1, 3, 4], \"Freq\": [0.9008163997452356, 0.5114011742193042, 0.2557005871096521, 0.2557005871096521, 0.9008171762459998, 0.6515217509853717, 0.7325930338260345, 0.2441976779420115, 0.9409348471180471, 0.6515222883593101, 0.7982307653056117, 0.5923807693804467, 0.29619038469022335, 0.8981445831299056, 0.5924165340473319, 0.2962082670236659, 0.6515185348863187, 0.9591759740659266, 0.8378111042203292, 0.8016955444452513, 0.16033910888905026, 0.6515222637113172, 0.7843476426025657, 0.732792503474902, 0.24426416782496732, 0.8162561193582238, 0.16325122387164476, 0.3020920727806144, 0.3020920727806144, 0.3020920727806144], \"Term\": [\"abierto\", \"apunt\", \"apunt\", \"apunt\", \"cabildo\", \"canelon\", \"coronaviru\", \"coronaviru\", \"estafa\", \"falta\", \"gigant\", \"gobierno\", \"gobierno\", \"juego\", \"mujer\", \"mujer\", \"ni\\u0144o\", \"n\\u00famero\", \"ol\\u00edmpico\", \"pandemia\", \"pandemia\", \"pol\\u00edtica\", \"tiempo\", \"tokio\", \"tokio\", \"uruguay\", \"uruguay\", \"uruguayo\", \"uruguayo\", \"uruguayo\"]}, \"R\": 20, \"lambda.step\": 0.01, \"plot.opts\": {\"xlab\": \"PC1\", \"ylab\": \"PC2\"}, \"topic.order\": [1, 2, 3, 4, 5]};\n",
       "\n",
       "function LDAvis_load_lib(url, callback){\n",
       "  var s = document.createElement('script');\n",
       "  s.src = url;\n",
       "  s.async = true;\n",
       "  s.onreadystatechange = s.onload = callback;\n",
       "  s.onerror = function(){console.warn(\"failed to load library \" + url);};\n",
       "  document.getElementsByTagName(\"head\")[0].appendChild(s);\n",
       "}\n",
       "\n",
       "if(typeof(LDAvis) !== \"undefined\"){\n",
       "   // already loaded: just create the visualization\n",
       "   !function(LDAvis){\n",
       "       new LDAvis(\"#\" + \"ldavis_el466814975779969124802245645\", ldavis_el466814975779969124802245645_data);\n",
       "   }(LDAvis);\n",
       "}else if(typeof define === \"function\" && define.amd){\n",
       "   // require.js is available: use it to load d3/LDAvis\n",
       "   require.config({paths: {d3: \"https://d3js.org/d3.v5\"}});\n",
       "   require([\"d3\"], function(d3){\n",
       "      window.d3 = d3;\n",
       "      LDAvis_load_lib(\"https://cdn.jsdelivr.net/gh/bmabey/pyLDAvis@3.3.1/pyLDAvis/js/ldavis.v3.0.0.js\", function(){\n",
       "        new LDAvis(\"#\" + \"ldavis_el466814975779969124802245645\", ldavis_el466814975779969124802245645_data);\n",
       "      });\n",
       "    });\n",
       "}else{\n",
       "    // require.js not available: dynamically load d3 & LDAvis\n",
       "    LDAvis_load_lib(\"https://d3js.org/d3.v5.js\", function(){\n",
       "         LDAvis_load_lib(\"https://cdn.jsdelivr.net/gh/bmabey/pyLDAvis@3.3.1/pyLDAvis/js/ldavis.v3.0.0.js\", function(){\n",
       "                 new LDAvis(\"#\" + \"ldavis_el466814975779969124802245645\", ldavis_el466814975779969124802245645_data);\n",
       "            })\n",
       "         });\n",
       "}\n",
       "</script>"
      ],
      "text/plain": [
       "<IPython.core.display.HTML object>"
      ]
     },
     "execution_count": 32,
     "metadata": {},
     "output_type": "execute_result"
    }
   ],
   "source": [
    "pyLDAvis.display(lda_display_ladiar)"
   ]
  },
  {
   "cell_type": "code",
   "execution_count": 33,
   "id": "30298c3f-e7f3-482a-b6df-a9147b1f1e61",
   "metadata": {},
   "outputs": [],
   "source": [
    "base_elpais = base[base['diario'] == 'elpais']\n",
    "base_elpais_fecha = base_elpais[base_elpais['fecha'] == '2021-07-23']"
   ]
  },
  {
   "cell_type": "code",
   "execution_count": 34,
   "id": "540c09f0-7814-4f7b-b7fb-8c13a6ea4d08",
   "metadata": {},
   "outputs": [
    {
     "name": "stderr",
     "output_type": "stream",
     "text": [
      "C:\\Users\\farav\\AppData\\Local\\Temp\\ipykernel_4668\\494036624.py:1: SettingWithCopyWarning: \n",
      "A value is trying to be set on a copy of a slice from a DataFrame.\n",
      "Try using .loc[row_indexer,col_indexer] = value instead\n",
      "\n",
      "See the caveats in the documentation: https://pandas.pydata.org/pandas-docs/stable/user_guide/indexing.html#returning-a-view-versus-a-copy\n",
      "  base_elpais_fecha['tit_tokenizado_2'] = base_elpais_fecha['titular'].apply(lambda x: limpiar_tokenizar(x))\n"
     ]
    }
   ],
   "source": [
    "base_elpais_fecha['tit_tokenizado_2'] = base_elpais_fecha['titular'].apply(lambda x: limpiar_tokenizar(x))\n",
    "tokenizado_2 = list(base_elpais_fecha['tit_tokenizado_2'])\n"
   ]
  },
  {
   "cell_type": "code",
   "execution_count": 35,
   "id": "368ab5a0-c0af-495a-bea1-7652a78fe39c",
   "metadata": {},
   "outputs": [],
   "source": [
    "dictionary_2 = corpora.Dictionary(tokenizado_2)\n",
    "dictionary_2.filter_extremes(no_below=3, keep_n=300)"
   ]
  },
  {
   "cell_type": "code",
   "execution_count": 36,
   "id": "f39caa66-8500-4262-94a9-b0240b56e933",
   "metadata": {},
   "outputs": [
    {
     "name": "stdout",
     "output_type": "stream",
     "text": [
      "Dictionary<10 unique tokens: ['peńarol', 'juego', 'olímpico', 'uruguay', 'netflix']...>\n"
     ]
    }
   ],
   "source": [
    "print(dictionary_2)"
   ]
  },
  {
   "cell_type": "code",
   "execution_count": 37,
   "id": "4b0e49d7-8bbd-480a-8a28-2181c73d56c8",
   "metadata": {},
   "outputs": [],
   "source": [
    "corpus_2 = [dictionary_2.doc2bow(text) for text in tokenizado_2]"
   ]
  },
  {
   "cell_type": "code",
   "execution_count": 38,
   "id": "82dadc0c-b6d8-4293-9f42-9247a1afaf60",
   "metadata": {},
   "outputs": [
    {
     "name": "stdout",
     "output_type": "stream",
     "text": [
      "(0, '0.398*\"marca\" + 0.398*\"vuelta\" + 0.029*\"uruguay\" + 0.026*\"videojuego\" + 0.025*\"baja\"')\n",
      "(1, '0.266*\"netflix\" + 0.266*\"peńarol\" + 0.265*\"baja\" + 0.099*\"videojuego\" + 0.020*\"clasificación\"')\n",
      "(2, '0.527*\"clasificación\" + 0.200*\"vuelta\" + 0.036*\"uruguay\" + 0.035*\"baja\" + 0.034*\"peńarol\"')\n",
      "(3, '0.317*\"olímpico\" + 0.317*\"juego\" + 0.218*\"videojuego\" + 0.030*\"uruguay\" + 0.020*\"baja\"')\n",
      "(4, '0.736*\"uruguay\" + 0.030*\"vuelta\" + 0.029*\"juego\" + 0.029*\"olímpico\" + 0.029*\"baja\"')\n"
     ]
    }
   ],
   "source": [
    "# Define the LDA model\n",
    "ldamodel_2 = gensim.models.ldamodel.LdaModel(corpus_2, num_topics=5, id2word=dictionary_2, passes=10)\n",
    "\n",
    "# Save the topics and top 5 words\n",
    "topics = ldamodel_2.print_topics(num_words=5)\n",
    "\n",
    "# Print the results\n",
    "for topic in topics:\n",
    "    print(topic)"
   ]
  },
  {
   "cell_type": "code",
   "execution_count": 39,
   "id": "bcb737f1-5a1c-492a-8320-fa612cad8bc9",
   "metadata": {},
   "outputs": [
    {
     "name": "stderr",
     "output_type": "stream",
     "text": [
      "C:\\Users\\farav\\AppData\\Local\\Programs\\Python\\Python310\\lib\\site-packages\\pyLDAvis\\_prepare.py:247: FutureWarning: In a future version of pandas all arguments of DataFrame.drop except for the argument 'labels' will be keyword-only.\n",
      "  by='saliency', ascending=False).head(R).drop('saliency', 1)\n"
     ]
    }
   ],
   "source": [
    "lda_display_elpais = pyLDAvis.gensim_models.prepare(ldamodel_2, corpus_2, dictionary_2, sort_topics=False)"
   ]
  },
  {
   "cell_type": "code",
   "execution_count": 40,
   "id": "bbcfa400-93b7-44db-a862-c94a237e32bc",
   "metadata": {},
   "outputs": [
    {
     "data": {
      "text/html": [
       "\n",
       "<link rel=\"stylesheet\" type=\"text/css\" href=\"https://cdn.jsdelivr.net/gh/bmabey/pyLDAvis@3.3.1/pyLDAvis/js/ldavis.v1.0.0.css\">\n",
       "\n",
       "\n",
       "<div id=\"ldavis_el46681497578002176121719568\"></div>\n",
       "<script type=\"text/javascript\">\n",
       "\n",
       "var ldavis_el46681497578002176121719568_data = {\"mdsDat\": {\"x\": [-0.20250037461125645, 0.13821155483858993, -0.13057218299865522, 0.14213827020496814, 0.05272273256635361], \"y\": [-0.029968280220350956, -0.13449638293398516, -0.03928807895118327, -0.037487504076988504, 0.24124024618250778], \"topics\": [1, 2, 3, 4, 5], \"cluster\": [1, 1, 1, 1, 1], \"Freq\": [17.683468790800223, 24.724876100537116, 15.654581979305576, 25.03404552166569, 16.903027607691396]}, \"tinfo\": {\"Term\": [\"uruguay\", \"clasificaci\\u00f3n\", \"vuelta\", \"marca\", \"ol\\u00edmpico\", \"juego\", \"netflix\", \"pe\\u0144arol\", \"baja\", \"videojuego\", \"marca\", \"vuelta\", \"netflix\", \"pe\\u0144arol\", \"baja\", \"videojuego\", \"juego\", \"ol\\u00edmpico\", \"clasificaci\\u00f3n\", \"uruguay\", \"netflix\", \"pe\\u0144arol\", \"baja\", \"videojuego\", \"clasificaci\\u00f3n\", \"marca\", \"juego\", \"ol\\u00edmpico\", \"vuelta\", \"uruguay\", \"clasificaci\\u00f3n\", \"vuelta\", \"baja\", \"pe\\u0144arol\", \"netflix\", \"marca\", \"videojuego\", \"juego\", \"ol\\u00edmpico\", \"uruguay\", \"ol\\u00edmpico\", \"juego\", \"videojuego\", \"netflix\", \"pe\\u0144arol\", \"baja\", \"marca\", \"uruguay\", \"clasificaci\\u00f3n\", \"vuelta\", \"uruguay\", \"netflix\", \"pe\\u0144arol\", \"baja\", \"marca\", \"videojuego\", \"juego\", \"ol\\u00edmpico\", \"clasificaci\\u00f3n\", \"vuelta\"], \"Freq\": [4.0, 3.0, 3.0, 2.0, 3.0, 3.0, 2.0, 2.0, 2.0, 3.0, 2.3209175533506965, 2.32021807614168, 0.14520752077163523, 0.1452340098622365, 0.14527016198178505, 0.1516898697193217, 0.14514575999494406, 0.14513401001261333, 0.1451807816814099, 0.17154673116350522, 2.171924339926477, 2.16901537644888, 2.1656638556253642, 0.8099824971856092, 0.16323744421697234, 0.13588357041600443, 0.1358273996759455, 0.135821442173212, 0.135921093564599, 0.13593150399667162, 2.724431944470541, 1.0336950032986587, 0.1804054881766909, 0.17625043851706124, 0.17262818375621458, 0.17265223987409356, 0.1726356507752042, 0.17256432919691672, 0.17253754030404672, 0.18821146748967887, 2.6177461530255934, 2.6176882950889153, 1.7983602072570415, 0.16382105464493313, 0.16384375157488007, 0.16387415776713443, 0.16383927373988716, 0.244459076666455, 0.16377984625279893, 0.16382367056228295, 4.107607610788818, 0.16296689688876906, 0.16298263748551312, 0.16300898610158104, 0.16295924997180297, 0.1629667929904407, 0.16380058746523066, 0.16378869110663533, 0.1629268129136941, 0.16499062852824503], \"Total\": [4.0, 3.0, 3.0, 2.0, 3.0, 3.0, 2.0, 2.0, 2.0, 3.0, 2.956251887352485, 3.8186484720954654, 2.816547995988029, 2.8173262138885713, 2.8182226496525553, 3.0956350179276177, 3.2350263714219523, 3.2350278366221006, 3.3595568295354163, 4.847756390105129, 2.816547995988029, 2.8173262138885713, 2.8182226496525553, 3.0956350179276177, 3.3595568295354163, 2.956251887352485, 3.2350263714219523, 3.2350278366221006, 3.8186484720954654, 4.847756390105129, 3.3595568295354163, 3.8186484720954654, 2.8182226496525553, 2.8173262138885713, 2.816547995988029, 2.956251887352485, 3.0956350179276177, 3.2350263714219523, 3.2350278366221006, 4.847756390105129, 3.2350278366221006, 3.2350263714219523, 3.0956350179276177, 2.816547995988029, 2.8173262138885713, 2.8182226496525553, 2.956251887352485, 4.847756390105129, 3.3595568295354163, 3.8186484720954654, 4.847756390105129, 2.816547995988029, 2.8173262138885713, 2.8182226496525553, 2.956251887352485, 3.0956350179276177, 3.2350263714219523, 3.2350278366221006, 3.3595568295354163, 3.8186484720954654], \"Category\": [\"Default\", \"Default\", \"Default\", \"Default\", \"Default\", \"Default\", \"Default\", \"Default\", \"Default\", \"Default\", \"Topic1\", \"Topic1\", \"Topic1\", \"Topic1\", \"Topic1\", \"Topic1\", \"Topic1\", \"Topic1\", \"Topic1\", \"Topic1\", \"Topic2\", \"Topic2\", \"Topic2\", \"Topic2\", \"Topic2\", \"Topic2\", \"Topic2\", \"Topic2\", \"Topic2\", \"Topic2\", \"Topic3\", \"Topic3\", \"Topic3\", \"Topic3\", \"Topic3\", \"Topic3\", \"Topic3\", \"Topic3\", \"Topic3\", \"Topic3\", \"Topic4\", \"Topic4\", \"Topic4\", \"Topic4\", \"Topic4\", \"Topic4\", \"Topic4\", \"Topic4\", \"Topic4\", \"Topic4\", \"Topic5\", \"Topic5\", \"Topic5\", \"Topic5\", \"Topic5\", \"Topic5\", \"Topic5\", \"Topic5\", \"Topic5\", \"Topic5\"], \"logprob\": [10.0, 9.0, 8.0, 7.0, 6.0, 5.0, 4.0, 3.0, 2.0, 1.0, -0.922, -0.9223, -3.6936, -3.6934, -3.6931, -3.6499, -3.694, -3.6941, -3.6937, -3.5269, -1.3235, -1.3249, -1.3264, -2.3099, -3.9117, -4.0951, -4.0955, -4.0956, -4.0948, -4.0948, -0.6398, -1.609, -3.3546, -3.378, -3.3987, -3.3986, -3.3987, -3.3991, -3.3992, -3.3123, -1.1493, -1.1493, -1.5247, -3.9206, -3.9204, -3.9202, -3.9204, -3.5203, -3.9208, -3.9205, -0.306, -3.533, -3.5329, -3.5328, -3.5331, -3.533, -3.5279, -3.528, -3.5333, -3.5207], \"loglift\": [10.0, 9.0, 8.0, 7.0, 6.0, 5.0, 4.0, 3.0, 2.0, 1.0, 1.4906, 1.2343, -1.2326, -1.2327, -1.2327, -1.2834, -1.3715, -1.3716, -1.409, -1.6089, 1.1375, 1.1358, 1.134, 0.0566, -1.627, -1.6825, -1.773, -1.7731, -1.9382, -2.1768, 1.6449, 0.5476, -0.8942, -0.9172, -0.9377, -0.986, -1.0322, -1.0766, -1.0768, -1.3943, 1.1732, 1.1732, 0.8418, -1.4596, -1.4597, -1.4598, -1.5079, -1.6023, -1.6361, -1.7639, 1.612, -1.072, -1.0722, -1.0724, -1.1205, -1.1665, -1.2055, -1.2055, -1.2486, -1.3641]}, \"token.table\": {\"Topic\": [2, 3, 4, 1, 2, 4, 2, 5, 2, 4, 1, 3], \"Freq\": [0.7096671372812117, 0.8929749226521826, 0.9273494727900328, 0.6765323376389045, 0.7100890887884236, 0.9273490527773918, 0.7098929439340752, 0.8251239703720458, 0.32303549811548943, 0.6460709962309789, 0.5237455122184916, 0.2618727561092458], \"Term\": [\"baja\", \"clasificaci\\u00f3n\", \"juego\", \"marca\", \"netflix\", \"ol\\u00edmpico\", \"pe\\u0144arol\", \"uruguay\", \"videojuego\", \"videojuego\", \"vuelta\", \"vuelta\"]}, \"R\": 10, \"lambda.step\": 0.01, \"plot.opts\": {\"xlab\": \"PC1\", \"ylab\": \"PC2\"}, \"topic.order\": [1, 2, 3, 4, 5]};\n",
       "\n",
       "function LDAvis_load_lib(url, callback){\n",
       "  var s = document.createElement('script');\n",
       "  s.src = url;\n",
       "  s.async = true;\n",
       "  s.onreadystatechange = s.onload = callback;\n",
       "  s.onerror = function(){console.warn(\"failed to load library \" + url);};\n",
       "  document.getElementsByTagName(\"head\")[0].appendChild(s);\n",
       "}\n",
       "\n",
       "if(typeof(LDAvis) !== \"undefined\"){\n",
       "   // already loaded: just create the visualization\n",
       "   !function(LDAvis){\n",
       "       new LDAvis(\"#\" + \"ldavis_el46681497578002176121719568\", ldavis_el46681497578002176121719568_data);\n",
       "   }(LDAvis);\n",
       "}else if(typeof define === \"function\" && define.amd){\n",
       "   // require.js is available: use it to load d3/LDAvis\n",
       "   require.config({paths: {d3: \"https://d3js.org/d3.v5\"}});\n",
       "   require([\"d3\"], function(d3){\n",
       "      window.d3 = d3;\n",
       "      LDAvis_load_lib(\"https://cdn.jsdelivr.net/gh/bmabey/pyLDAvis@3.3.1/pyLDAvis/js/ldavis.v3.0.0.js\", function(){\n",
       "        new LDAvis(\"#\" + \"ldavis_el46681497578002176121719568\", ldavis_el46681497578002176121719568_data);\n",
       "      });\n",
       "    });\n",
       "}else{\n",
       "    // require.js not available: dynamically load d3 & LDAvis\n",
       "    LDAvis_load_lib(\"https://d3js.org/d3.v5.js\", function(){\n",
       "         LDAvis_load_lib(\"https://cdn.jsdelivr.net/gh/bmabey/pyLDAvis@3.3.1/pyLDAvis/js/ldavis.v3.0.0.js\", function(){\n",
       "                 new LDAvis(\"#\" + \"ldavis_el46681497578002176121719568\", ldavis_el46681497578002176121719568_data);\n",
       "            })\n",
       "         });\n",
       "}\n",
       "</script>"
      ],
      "text/plain": [
       "<IPython.core.display.HTML object>"
      ]
     },
     "execution_count": 40,
     "metadata": {},
     "output_type": "execute_result"
    }
   ],
   "source": [
    "pyLDAvis.display(lda_display_elpais)"
   ]
  },
  {
   "cell_type": "code",
   "execution_count": 41,
   "id": "97bf4e64-76b6-47db-8541-8d37ed9505d0",
   "metadata": {},
   "outputs": [],
   "source": [
    "base_montev = base[base['diario'] == 'montev']\n",
    "base_montev_fecha = base_montev[base_montev['fecha'] == '2021-07-23']"
   ]
  },
  {
   "cell_type": "code",
   "execution_count": 42,
   "id": "a782dbc0-7774-46b5-bf40-f02e929a1f4d",
   "metadata": {},
   "outputs": [
    {
     "name": "stderr",
     "output_type": "stream",
     "text": [
      "C:\\Users\\farav\\AppData\\Local\\Temp\\ipykernel_4668\\1743992655.py:1: SettingWithCopyWarning: \n",
      "A value is trying to be set on a copy of a slice from a DataFrame.\n",
      "Try using .loc[row_indexer,col_indexer] = value instead\n",
      "\n",
      "See the caveats in the documentation: https://pandas.pydata.org/pandas-docs/stable/user_guide/indexing.html#returning-a-view-versus-a-copy\n",
      "  base_montev_fecha['tit_tokenizado_3'] = base_montev_fecha['titular'].apply(lambda x: limpiar_tokenizar(x))\n"
     ]
    }
   ],
   "source": [
    "base_montev_fecha['tit_tokenizado_3'] = base_montev_fecha['titular'].apply(lambda x: limpiar_tokenizar(x))\n",
    "tokenizado_3 = list(base_montev_fecha['tit_tokenizado_3'])\n"
   ]
  },
  {
   "cell_type": "code",
   "execution_count": 43,
   "id": "4831a52f-fb36-4f3f-bee0-0afc75a061e2",
   "metadata": {},
   "outputs": [],
   "source": [
    "dictionary_3 = corpora.Dictionary(tokenizado_3)\n",
    "dictionary_3.filter_extremes(no_below=3, keep_n=300)"
   ]
  },
  {
   "cell_type": "code",
   "execution_count": 44,
   "id": "f552e218-6067-4a0d-bd10-c3400385b045",
   "metadata": {},
   "outputs": [
    {
     "name": "stdout",
     "output_type": "stream",
     "text": [
      "Dictionary<10 unique tokens: ['uruguay', 'clásico', 'nacion', 'peńarol', 'juego']...>\n"
     ]
    }
   ],
   "source": [
    "print(dictionary_3)"
   ]
  },
  {
   "cell_type": "code",
   "execution_count": 45,
   "id": "aaf73c03-3db8-4dec-b65a-e54faa1cf9b8",
   "metadata": {},
   "outputs": [],
   "source": [
    "corpus_3 = [dictionary_3.doc2bow(text) for text in tokenizado_3]"
   ]
  },
  {
   "cell_type": "code",
   "execution_count": 46,
   "id": "c8e52613-3fec-4690-ba89-ee565ac8f890",
   "metadata": {},
   "outputs": [
    {
     "name": "stdout",
     "output_type": "stream",
     "text": [
      "(0, '0.607*\"delta\" + 0.056*\"peńarol\" + 0.055*\"sudamericana\" + 0.042*\"juego\" + 0.041*\"uruguay\"')\n",
      "(1, '0.501*\"sudamericana\" + 0.213*\"nacion\" + 0.039*\"delta\" + 0.036*\"peńarol\" + 0.035*\"hombr\"')\n",
      "(2, '0.617*\"juego\" + 0.062*\"opinión\" + 0.047*\"cuba\" + 0.042*\"nacion\" + 0.039*\"hombr\"')\n",
      "(3, '0.323*\"uruguay\" + 0.314*\"opinión\" + 0.243*\"cuba\" + 0.025*\"delta\" + 0.016*\"nacion\"')\n",
      "(4, '0.310*\"nacion\" + 0.221*\"peńarol\" + 0.181*\"clásico\" + 0.138*\"hombr\" + 0.107*\"sudamericana\"')\n"
     ]
    }
   ],
   "source": [
    "# Define the LDA model\n",
    "ldamodel_3 = gensim.models.ldamodel.LdaModel(corpus_3, num_topics=5, id2word=dictionary_3, passes=10)\n",
    "\n",
    "# Save the topics and top 5 words\n",
    "topics = ldamodel_3.print_topics(num_words=5)\n",
    "\n",
    "# Print the results\n",
    "for topic in topics:\n",
    "    print(topic)"
   ]
  },
  {
   "cell_type": "code",
   "execution_count": 47,
   "id": "ef994dcc-94da-4e32-b020-9e54043e2b57",
   "metadata": {},
   "outputs": [
    {
     "name": "stderr",
     "output_type": "stream",
     "text": [
      "C:\\Users\\farav\\AppData\\Local\\Programs\\Python\\Python310\\lib\\site-packages\\pyLDAvis\\_prepare.py:247: FutureWarning: In a future version of pandas all arguments of DataFrame.drop except for the argument 'labels' will be keyword-only.\n",
      "  by='saliency', ascending=False).head(R).drop('saliency', 1)\n"
     ]
    }
   ],
   "source": [
    "lda_display_montev = pyLDAvis.gensim_models.prepare(ldamodel_3, corpus_3, dictionary_3, sort_topics=False)"
   ]
  },
  {
   "cell_type": "code",
   "execution_count": 48,
   "id": "0ca44511-2b83-4a0a-8994-2719bf67021e",
   "metadata": {},
   "outputs": [
    {
     "data": {
      "text/html": [
       "\n",
       "<link rel=\"stylesheet\" type=\"text/css\" href=\"https://cdn.jsdelivr.net/gh/bmabey/pyLDAvis@3.3.1/pyLDAvis/js/ldavis.v1.0.0.css\">\n",
       "\n",
       "\n",
       "<div id=\"ldavis_el466814975780035206778733938\"></div>\n",
       "<script type=\"text/javascript\">\n",
       "\n",
       "var ldavis_el466814975780035206778733938_data = {\"mdsDat\": {\"x\": [0.022706409185754332, -0.11219221086639988, 0.06203132848552325, 0.2502495922342955, -0.22279511903917304], \"y\": [0.04410158862134567, -0.06621323964861608, 0.1707046935671333, -0.11019009565333594, -0.038402946886527026], \"topics\": [1, 2, 3, 4, 5], \"cluster\": [1, 1, 1, 1, 1], \"Freq\": [11.570245973598734, 13.148874169606744, 11.176376142735561, 23.478111553683974, 40.626392160374984]}, \"tinfo\": {\"Term\": [\"juego\", \"delta\", \"sudamericana\", \"uruguay\", \"opini\\u00f3n\", \"nacion\", \"cuba\", \"pe\\u0144arol\", \"cl\\u00e1sico\", \"hombr\", \"delta\", \"hombr\", \"cuba\", \"pe\\u0144arol\", \"juego\", \"sudamericana\", \"cl\\u00e1sico\", \"uruguay\", \"opini\\u00f3n\", \"nacion\", \"sudamericana\", \"nacion\", \"hombr\", \"cuba\", \"delta\", \"juego\", \"cl\\u00e1sico\", \"uruguay\", \"opini\\u00f3n\", \"pe\\u0144arol\", \"juego\", \"opini\\u00f3n\", \"cuba\", \"hombr\", \"delta\", \"cl\\u00e1sico\", \"uruguay\", \"pe\\u0144arol\", \"sudamericana\", \"nacion\", \"uruguay\", \"opini\\u00f3n\", \"cuba\", \"delta\", \"hombr\", \"juego\", \"cl\\u00e1sico\", \"pe\\u0144arol\", \"sudamericana\", \"nacion\", \"pe\\u0144arol\", \"cl\\u00e1sico\", \"hombr\", \"nacion\", \"sudamericana\", \"cuba\", \"juego\", \"delta\", \"uruguay\", \"opini\\u00f3n\"], \"Freq\": [3.0, 3.0, 5.0, 3.0, 3.0, 7.0, 3.0, 4.0, 3.0, 3.0, 2.9510868034476916, 0.19401314445504786, 0.19384225156214002, 0.2699792533657219, 0.20254573246202057, 0.26923809595803766, 0.19386317870029696, 0.1969988279453668, 0.19388490237312422, 0.1940511065733135, 2.7687018150610445, 1.1744912392833986, 0.19467453924351402, 0.19452087937955362, 0.21545581689290336, 0.19449890739739942, 0.19451707337140894, 0.19451565383323605, 0.1945344575707725, 0.19661659090212102, 2.8945673295832437, 0.2909359031794285, 0.22038196780803745, 0.18175274495403024, 0.18162267811100355, 0.18159807417874507, 0.18163196360356165, 0.1816549237763089, 0.18166011735689225, 0.19827280783071763, 3.1875998404579695, 3.0984925482890917, 2.3979966483493715, 0.2509190810141358, 0.15213293480107168, 0.1520176439857789, 0.15200267473064688, 0.1587033082221948, 0.15206820884391192, 0.15887384752759445, 3.767204657127321, 3.0960353756678365, 2.3582838489493465, 5.281160688074815, 1.8225900251291938, 0.14753201135267818, 0.14754119648715477, 0.14757154874814143, 0.14757666572617165, 0.1475892356939415], \"Total\": [3.0, 3.0, 5.0, 3.0, 3.0, 7.0, 3.0, 4.0, 3.0, 3.0, 3.746655928213876, 3.0808572124030102, 3.154273758451781, 4.574158733393667, 3.5911708099155972, 5.19425826234908, 3.8180163766489343, 3.9083229515663054, 3.9254370471063584, 7.006849689289838, 5.19425826234908, 7.006849689289838, 3.0808572124030102, 3.154273758451781, 3.746655928213876, 3.5911708099155972, 3.8180163766489343, 3.9083229515663054, 3.9254370471063584, 4.574158733393667, 3.5911708099155972, 3.9254370471063584, 3.154273758451781, 3.0808572124030102, 3.746655928213876, 3.8180163766489343, 3.9083229515663054, 4.574158733393667, 5.19425826234908, 7.006849689289838, 3.9083229515663054, 3.9254370471063584, 3.154273758451781, 3.746655928213876, 3.0808572124030102, 3.5911708099155972, 3.8180163766489343, 4.574158733393667, 5.19425826234908, 7.006849689289838, 4.574158733393667, 3.8180163766489343, 3.0808572124030102, 7.006849689289838, 5.19425826234908, 3.154273758451781, 3.5911708099155972, 3.746655928213876, 3.9083229515663054, 3.9254370471063584], \"Category\": [\"Default\", \"Default\", \"Default\", \"Default\", \"Default\", \"Default\", \"Default\", \"Default\", \"Default\", \"Default\", \"Topic1\", \"Topic1\", \"Topic1\", \"Topic1\", \"Topic1\", \"Topic1\", \"Topic1\", \"Topic1\", \"Topic1\", \"Topic1\", \"Topic2\", \"Topic2\", \"Topic2\", \"Topic2\", \"Topic2\", \"Topic2\", \"Topic2\", \"Topic2\", \"Topic2\", \"Topic2\", \"Topic3\", \"Topic3\", \"Topic3\", \"Topic3\", \"Topic3\", \"Topic3\", \"Topic3\", \"Topic3\", \"Topic3\", \"Topic3\", \"Topic4\", \"Topic4\", \"Topic4\", \"Topic4\", \"Topic4\", \"Topic4\", \"Topic4\", \"Topic4\", \"Topic4\", \"Topic4\", \"Topic5\", \"Topic5\", \"Topic5\", \"Topic5\", \"Topic5\", \"Topic5\", \"Topic5\", \"Topic5\", \"Topic5\", \"Topic5\"], \"logprob\": [10.0, 9.0, 8.0, 7.0, 6.0, 5.0, 4.0, 3.0, 2.0, 1.0, -0.4988, -3.2208, -3.2216, -2.8903, -3.1777, -2.8931, -3.2215, -3.2055, -3.2214, -3.2206, -0.6905, -1.548, -3.3453, -3.3461, -3.2438, -3.3462, -3.3461, -3.3461, -3.346, -3.3353, -0.4835, -2.781, -3.0587, -3.2514, -3.2521, -3.2523, -3.2521, -3.2519, -3.2519, -3.1644, -1.1293, -1.1577, -1.4139, -3.6712, -4.1716, -4.1723, -4.1724, -4.1293, -4.172, -4.1282, -1.5106, -1.7068, -1.979, -1.1728, -2.2367, -4.7506, -4.7506, -4.7504, -4.7503, -4.7502], \"loglift\": [10.0, 9.0, 8.0, 7.0, 6.0, 5.0, 4.0, 3.0, 2.0, 1.0, 1.918, -0.6083, -0.6327, -0.6731, -0.7185, -0.803, -0.8236, -0.8309, -0.8512, -1.4298, 1.3997, 0.2428, -0.7328, -0.7571, -0.827, -0.887, -0.9481, -0.9715, -0.9758, -1.1181, 1.9757, -0.4108, -0.4698, -0.6389, -0.8353, -0.8543, -0.8775, -1.0347, -1.1618, -1.3736, 1.2453, 1.2125, 1.175, -1.2544, -1.5591, -1.7131, -1.7745, -1.912, -2.0819, -2.3374, 0.7067, 0.6911, 0.6335, 0.618, -0.1465, -2.1617, -2.2914, -2.3336, -2.3758, -2.38]}, \"token.table\": {\"Topic\": [5, 4, 1, 5, 3, 2, 5, 4, 5, 2, 5, 4], \"Freq\": [0.7857483321308051, 0.6340603743226347, 0.8007140387268427, 0.6491699751446897, 0.8353821521707313, 0.14271748993396097, 0.7135874496698048, 0.7642461117065816, 0.8744777418409163, 0.5775608081996415, 0.38504053879976097, 0.7675926573052811], \"Term\": [\"cl\\u00e1sico\", \"cuba\", \"delta\", \"hombr\", \"juego\", \"nacion\", \"nacion\", \"opini\\u00f3n\", \"pe\\u0144arol\", \"sudamericana\", \"sudamericana\", \"uruguay\"]}, \"R\": 10, \"lambda.step\": 0.01, \"plot.opts\": {\"xlab\": \"PC1\", \"ylab\": \"PC2\"}, \"topic.order\": [1, 2, 3, 4, 5]};\n",
       "\n",
       "function LDAvis_load_lib(url, callback){\n",
       "  var s = document.createElement('script');\n",
       "  s.src = url;\n",
       "  s.async = true;\n",
       "  s.onreadystatechange = s.onload = callback;\n",
       "  s.onerror = function(){console.warn(\"failed to load library \" + url);};\n",
       "  document.getElementsByTagName(\"head\")[0].appendChild(s);\n",
       "}\n",
       "\n",
       "if(typeof(LDAvis) !== \"undefined\"){\n",
       "   // already loaded: just create the visualization\n",
       "   !function(LDAvis){\n",
       "       new LDAvis(\"#\" + \"ldavis_el466814975780035206778733938\", ldavis_el466814975780035206778733938_data);\n",
       "   }(LDAvis);\n",
       "}else if(typeof define === \"function\" && define.amd){\n",
       "   // require.js is available: use it to load d3/LDAvis\n",
       "   require.config({paths: {d3: \"https://d3js.org/d3.v5\"}});\n",
       "   require([\"d3\"], function(d3){\n",
       "      window.d3 = d3;\n",
       "      LDAvis_load_lib(\"https://cdn.jsdelivr.net/gh/bmabey/pyLDAvis@3.3.1/pyLDAvis/js/ldavis.v3.0.0.js\", function(){\n",
       "        new LDAvis(\"#\" + \"ldavis_el466814975780035206778733938\", ldavis_el466814975780035206778733938_data);\n",
       "      });\n",
       "    });\n",
       "}else{\n",
       "    // require.js not available: dynamically load d3 & LDAvis\n",
       "    LDAvis_load_lib(\"https://d3js.org/d3.v5.js\", function(){\n",
       "         LDAvis_load_lib(\"https://cdn.jsdelivr.net/gh/bmabey/pyLDAvis@3.3.1/pyLDAvis/js/ldavis.v3.0.0.js\", function(){\n",
       "                 new LDAvis(\"#\" + \"ldavis_el466814975780035206778733938\", ldavis_el466814975780035206778733938_data);\n",
       "            })\n",
       "         });\n",
       "}\n",
       "</script>"
      ],
      "text/plain": [
       "<IPython.core.display.HTML object>"
      ]
     },
     "execution_count": 48,
     "metadata": {},
     "output_type": "execute_result"
    }
   ],
   "source": [
    "pyLDAvis.display(lda_display_montev)"
   ]
  },
  {
   "cell_type": "code",
   "execution_count": 49,
   "id": "36fd58ea-671b-48f0-9a23-3d1553da862f",
   "metadata": {},
   "outputs": [],
   "source": [
    "base_republ = base[base['diario'] == 'republ']\n",
    "base_republ_fecha = base_republ[base_republ['fecha'] == '2021-07-23']"
   ]
  },
  {
   "cell_type": "code",
   "execution_count": 50,
   "id": "1bc5874d-5280-427e-a20e-97202f823fd4",
   "metadata": {},
   "outputs": [
    {
     "name": "stderr",
     "output_type": "stream",
     "text": [
      "C:\\Users\\farav\\AppData\\Local\\Temp\\ipykernel_4668\\881438736.py:1: SettingWithCopyWarning: \n",
      "A value is trying to be set on a copy of a slice from a DataFrame.\n",
      "Try using .loc[row_indexer,col_indexer] = value instead\n",
      "\n",
      "See the caveats in the documentation: https://pandas.pydata.org/pandas-docs/stable/user_guide/indexing.html#returning-a-view-versus-a-copy\n",
      "  base_republ_fecha['tit_tokenizado_4'] = base_republ_fecha['titular'].apply(lambda x: limpiar_tokenizar(x))\n"
     ]
    }
   ],
   "source": [
    "base_republ_fecha['tit_tokenizado_4'] = base_republ_fecha['titular'].apply(lambda x: limpiar_tokenizar(x))\n",
    "tokenizado_4 = list(base_republ_fecha['tit_tokenizado_4'])\n"
   ]
  },
  {
   "cell_type": "code",
   "execution_count": 51,
   "id": "3b3b6e29-2406-4efe-87d9-142efa9355a5",
   "metadata": {},
   "outputs": [],
   "source": [
    "dictionary_4 = corpora.Dictionary(tokenizado_4)\n",
    "dictionary_4.filter_extremes(no_below=3, keep_n=300)"
   ]
  },
  {
   "cell_type": "code",
   "execution_count": 52,
   "id": "06e79f87-2be0-4533-921e-5e1c085e90d3",
   "metadata": {},
   "outputs": [
    {
     "name": "stdout",
     "output_type": "stream",
     "text": [
      "Dictionary<3 unique tokens: ['juego', 'olímpico', 'mujer']>\n"
     ]
    }
   ],
   "source": [
    "print(dictionary_4)"
   ]
  },
  {
   "cell_type": "code",
   "execution_count": 53,
   "id": "96a5993e-4acb-4d0a-8182-284624c1f1df",
   "metadata": {},
   "outputs": [],
   "source": [
    "corpus_4 = [dictionary_4.doc2bow(text) for text in tokenizado_4]"
   ]
  },
  {
   "cell_type": "code",
   "execution_count": 54,
   "id": "36792002-b5cd-4591-8987-ff94bf21ff97",
   "metadata": {},
   "outputs": [
    {
     "name": "stdout",
     "output_type": "stream",
     "text": [
      "(0, '0.334*\"mujer\" + 0.333*\"juego\" + 0.333*\"olímpico\"')\n",
      "(1, '0.334*\"mujer\" + 0.333*\"juego\" + 0.333*\"olímpico\"')\n",
      "(2, '0.884*\"mujer\" + 0.058*\"juego\" + 0.058*\"olímpico\"')\n",
      "(3, '0.345*\"olímpico\" + 0.345*\"juego\" + 0.311*\"mujer\"')\n",
      "(4, '0.485*\"olímpico\" + 0.485*\"juego\" + 0.031*\"mujer\"')\n"
     ]
    }
   ],
   "source": [
    "# Define the LDA model\n",
    "ldamodel_4 = gensim.models.ldamodel.LdaModel(corpus_4, num_topics=5, id2word=dictionary_4, passes=10)\n",
    "\n",
    "# Save the topics and top 5 words\n",
    "topics = ldamodel_4.print_topics(num_words=5)\n",
    "\n",
    "# Print the results\n",
    "for topic in topics:\n",
    "    print(topic)"
   ]
  },
  {
   "cell_type": "code",
   "execution_count": 55,
   "id": "e05094bb-d7f2-49c4-8266-9c16420afba4",
   "metadata": {},
   "outputs": [
    {
     "name": "stderr",
     "output_type": "stream",
     "text": [
      "C:\\Users\\farav\\AppData\\Local\\Programs\\Python\\Python310\\lib\\site-packages\\pyLDAvis\\_prepare.py:247: FutureWarning: In a future version of pandas all arguments of DataFrame.drop except for the argument 'labels' will be keyword-only.\n",
      "  by='saliency', ascending=False).head(R).drop('saliency', 1)\n"
     ]
    }
   ],
   "source": [
    "lda_display_republ = pyLDAvis.gensim_models.prepare(ldamodel_4, corpus_4, dictionary_4, sort_topics=False)"
   ]
  },
  {
   "cell_type": "code",
   "execution_count": 56,
   "id": "00bfb7ae-dbfd-49c6-9047-514dd748e57a",
   "metadata": {},
   "outputs": [
    {
     "data": {
      "text/html": [
       "\n",
       "<link rel=\"stylesheet\" type=\"text/css\" href=\"https://cdn.jsdelivr.net/gh/bmabey/pyLDAvis@3.3.1/pyLDAvis/js/ldavis.v1.0.0.css\">\n",
       "\n",
       "\n",
       "<div id=\"ldavis_el466814975780066561451423767\"></div>\n",
       "<script type=\"text/javascript\">\n",
       "\n",
       "var ldavis_el466814975780066561451423767_data = {\"mdsDat\": {\"x\": [0.005506190363744995, 0.005487520173917006, -0.23307888979054736, 0.012737674137913643, 0.20934750511497172], \"y\": [-0.0, -0.0, -0.0, -0.0, -0.0], \"topics\": [1, 2, 3, 4, 5], \"cluster\": [1, 1, 1, 1, 1], \"Freq\": [7.787918450052773, 7.787920436874221, 24.436021940403005, 7.790658690748577, 52.197480481921424]}, \"tinfo\": {\"Term\": [\"mujer\", \"ol\\u00edmpico\", \"juego\", \"mujer\", \"juego\", \"ol\\u00edmpico\", \"mujer\", \"juego\", \"ol\\u00edmpico\", \"mujer\", \"juego\", \"ol\\u00edmpico\", \"mujer\", \"ol\\u00edmpico\", \"juego\", \"ol\\u00edmpico\", \"juego\", \"mujer\"], \"Freq\": [2.0, 3.0, 3.0, 0.23376505038252793, 0.233591109132105, 0.23355649634815512, 0.23380778590120044, 0.23356094258660587, 0.23354414796657252, 1.945048339771569, 0.12711341698581646, 0.12708021969950944, 0.21783059293842655, 0.2416774755389497, 0.24165118815022524, 2.2769408549127332, 2.276887233167805, 0.143945395439091], \"Total\": [2.0, 3.0, 3.0, 2.7743971644328145, 3.1128038900225574, 3.11279919446592, 2.7743971644328145, 3.1128038900225574, 3.11279919446592, 2.7743971644328145, 3.1128038900225574, 3.11279919446592, 2.7743971644328145, 3.11279919446592, 3.1128038900225574, 3.11279919446592, 3.1128038900225574, 2.7743971644328145], \"Category\": [\"Default\", \"Default\", \"Default\", \"Topic1\", \"Topic1\", \"Topic1\", \"Topic2\", \"Topic2\", \"Topic2\", \"Topic3\", \"Topic3\", \"Topic3\", \"Topic4\", \"Topic4\", \"Topic4\", \"Topic5\", \"Topic5\", \"Topic5\"], \"logprob\": [3.0, 2.0, 1.0, -1.0981, -1.0988, -1.099, -1.0979, -1.0989, -1.099, -0.1228, -2.8508, -2.851, -1.169, -1.0651, -1.0652, -0.7243, -0.7243, -3.4854], \"loglift\": [3.0, 2.0, 1.0, 0.0787, -0.0371, -0.0373, 0.0789, -0.0372, -0.0373, 1.054, -1.7891, -1.7893, 0.0078, -0.0034, -0.0035, 0.3374, 0.3374, -2.3086]}, \"token.table\": {\"Topic\": [5, 3, 5], \"Freq\": [0.642507549675899, 0.7208773226989912, 0.6425085188777013], \"Term\": [\"juego\", \"mujer\", \"ol\\u00edmpico\"]}, \"R\": 3, \"lambda.step\": 0.01, \"plot.opts\": {\"xlab\": \"PC1\", \"ylab\": \"PC2\"}, \"topic.order\": [1, 2, 3, 4, 5]};\n",
       "\n",
       "function LDAvis_load_lib(url, callback){\n",
       "  var s = document.createElement('script');\n",
       "  s.src = url;\n",
       "  s.async = true;\n",
       "  s.onreadystatechange = s.onload = callback;\n",
       "  s.onerror = function(){console.warn(\"failed to load library \" + url);};\n",
       "  document.getElementsByTagName(\"head\")[0].appendChild(s);\n",
       "}\n",
       "\n",
       "if(typeof(LDAvis) !== \"undefined\"){\n",
       "   // already loaded: just create the visualization\n",
       "   !function(LDAvis){\n",
       "       new LDAvis(\"#\" + \"ldavis_el466814975780066561451423767\", ldavis_el466814975780066561451423767_data);\n",
       "   }(LDAvis);\n",
       "}else if(typeof define === \"function\" && define.amd){\n",
       "   // require.js is available: use it to load d3/LDAvis\n",
       "   require.config({paths: {d3: \"https://d3js.org/d3.v5\"}});\n",
       "   require([\"d3\"], function(d3){\n",
       "      window.d3 = d3;\n",
       "      LDAvis_load_lib(\"https://cdn.jsdelivr.net/gh/bmabey/pyLDAvis@3.3.1/pyLDAvis/js/ldavis.v3.0.0.js\", function(){\n",
       "        new LDAvis(\"#\" + \"ldavis_el466814975780066561451423767\", ldavis_el466814975780066561451423767_data);\n",
       "      });\n",
       "    });\n",
       "}else{\n",
       "    // require.js not available: dynamically load d3 & LDAvis\n",
       "    LDAvis_load_lib(\"https://d3js.org/d3.v5.js\", function(){\n",
       "         LDAvis_load_lib(\"https://cdn.jsdelivr.net/gh/bmabey/pyLDAvis@3.3.1/pyLDAvis/js/ldavis.v3.0.0.js\", function(){\n",
       "                 new LDAvis(\"#\" + \"ldavis_el466814975780066561451423767\", ldavis_el466814975780066561451423767_data);\n",
       "            })\n",
       "         });\n",
       "}\n",
       "</script>"
      ],
      "text/plain": [
       "<IPython.core.display.HTML object>"
      ]
     },
     "execution_count": 56,
     "metadata": {},
     "output_type": "execute_result"
    }
   ],
   "source": [
    "pyLDAvis.display(lda_display_republ)"
   ]
  },
  {
   "cell_type": "code",
   "execution_count": null,
   "id": "96d872d4-13d6-49f2-985f-3a200410d4be",
   "metadata": {},
   "outputs": [],
   "source": []
  }
 ],
 "metadata": {
  "kernelspec": {
   "display_name": "Python 3 (ipykernel)",
   "language": "python",
   "name": "python3"
  },
  "language_info": {
   "codemirror_mode": {
    "name": "ipython",
    "version": 3
   },
   "file_extension": ".py",
   "mimetype": "text/x-python",
   "name": "python",
   "nbconvert_exporter": "python",
   "pygments_lexer": "ipython3",
   "version": "3.10.6"
  }
 },
 "nbformat": 4,
 "nbformat_minor": 5
}
